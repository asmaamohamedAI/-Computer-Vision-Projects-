{
  "cells": [
    {
      "cell_type": "code",
      "execution_count": 1,
      "metadata": {
        "id": "XE4e-P4-Q-d1"
      },
      "outputs": [],
      "source": [
        "# Most Important \n",
        "import numpy as np\n",
        "import pandas as pd\n",
        "import matplotlib.pyplot as plt\n",
        "%matplotlib inline\n",
        "\n",
        "from sklearn import datasets\n",
        "from sklearn.preprocessing import StandardScaler\n",
        "from sklearn.model_selection import train_test_split\n",
        "from sklearn.metrics import accuracy_score\n",
        "\n",
        "import tensorflow as tf"
      ]
    },
    {
      "cell_type": "code",
      "execution_count": 2,
      "metadata": {
        "id": "kitGQxdiJmyC"
      },
      "outputs": [],
      "source": [
        "np.random.seed(42)\n",
        "tf.random.set_seed(42)"
      ]
    },
    {
      "cell_type": "markdown",
      "metadata": {
        "id": "-lFCMAhZRabB"
      },
      "source": [
        "### Apply CNN\n",
        "\n",
        "`Fashion MNSIT`"
      ]
    },
    {
      "cell_type": "code",
      "execution_count": 3,
      "metadata": {
        "colab": {
          "base_uri": "https://localhost:8080/"
        },
        "id": "jYFPdxLmRQNg",
        "outputId": "7404f034-9681-44f7-a01c-35f3c9e94b19"
      },
      "outputs": [
        {
          "output_type": "stream",
          "name": "stdout",
          "text": [
            "X_train_full shape => (60000, 28, 28)\n",
            "y_train_full shape => (60000,)\n",
            "=============================================\n",
            "X_train shape => (54000, 28, 28)\n",
            "y_train shape => (54000,)\n",
            "=============================================\n",
            "X_val shape => (6000, 28, 28)\n",
            "y_val shape => (6000,)\n",
            "=============================================\n",
            "X_test shape => (10000, 28, 28)\n",
            "y_test shape => (10000,)\n",
            "===========================================================================\n",
            "X_train , y_train -- dtypes => (dtype('float32'), dtype('int32'))\n",
            "X_val , y_val -- dtypes => (dtype('float32'), dtype('int32'))\n",
            "X_test , y_test -- dtypes => (dtype('float32'), dtype('int32'))\n"
          ]
        }
      ],
      "source": [
        "## load the Dataset\n",
        "\n",
        "### Building a Sequential API for multiclass Classification\n",
        "\n",
        "## loading the Fashion MNIST \n",
        "(X_train_full, y_train_full), (X_test, y_test) = tf.keras.datasets.fashion_mnist.load_data()\n",
        "\n",
        "## show shapes, dtypes and transfer datatypes to (float32, enough for NN)\n",
        "## and rescale the inputs to be from (0-1)\n",
        "\n",
        "X_train_full = (X_train_full/255.0).astype('float32')\n",
        "y_train_full = y_train_full.astype('int32')\n",
        "\n",
        "X_test = (X_test/255.0).astype('float32')\n",
        "y_test = y_test.astype('int32')\n",
        "\n",
        "## split train to train & val\n",
        "X_train, X_val, y_train, y_val = train_test_split(X_train_full, y_train_full, \n",
        "                                                  test_size=0.1, shuffle=True)\n",
        "\n",
        "\n",
        "print('X_train_full shape =>', X_train_full.shape)\n",
        "print('y_train_full shape =>', y_train_full.shape)\n",
        "print('==='*15)\n",
        "print('X_train shape =>', X_train.shape)\n",
        "print('y_train shape =>', y_train.shape)\n",
        "print('==='*15)\n",
        "print('X_val shape =>', X_val.shape)\n",
        "print('y_val shape =>', y_val.shape)\n",
        "print('==='*15)\n",
        "print('X_test shape =>', X_test.shape)\n",
        "print('y_test shape =>', y_test.shape)\n",
        "print('==='*25)\n",
        "print('X_train , y_train -- dtypes =>', (X_train.dtype, y_train.dtype))\n",
        "print('X_val , y_val -- dtypes =>', (X_val.dtype, y_val.dtype))\n",
        "print('X_test , y_test -- dtypes =>', (X_test.dtype, y_test.dtype))"
      ]
    },
    {
      "cell_type": "code",
      "execution_count": 4,
      "metadata": {
        "colab": {
          "base_uri": "https://localhost:8080/",
          "height": 340
        },
        "id": "FxreGbpzRgr6",
        "outputId": "5043ae24-58b9-4250-9784-d2b06a78f77d"
      },
      "outputs": [
        {
          "output_type": "display_data",
          "data": {
            "image/png": "[encoded data removed]",
            "text/plain": [
              "<Figure size 864x432 with 10 Axes>"
            ]
          },
          "metadata": {
            "needs_background": "light"
          }
        }
      ],
      "source": [
        "target_only_plot = pd.DataFrame(y_train, columns=['target'])\n",
        "\n",
        "## get first index only i need only one unique value to test to \n",
        "## what this number belong to what photo (i hope you understand me)\n",
        "## although the images are diffrent for each class_name < like (coats have diffrent images)\n",
        "## but still have the same number of target, that what i only want\n",
        "\n",
        "img_indicies = {}\n",
        "\n",
        "for i in range(len(np.unique(y_train))):\n",
        "    img_indicies[i] = target_only_plot[target_only_plot['target']==i].index[0]   \n",
        "\n",
        "    \n",
        "keys = list(img_indicies.keys())\n",
        "\n",
        "fig, ax = plt.subplots(2, 5, figsize=(12, 6))\n",
        "\n",
        "plt.sca(ax[0,0])\n",
        "plt.imshow(X_train[img_indicies[0]], cmap='binary')\n",
        "plt.title(f'y == {keys[0]}')\n",
        "plt.axis('off')\n",
        "plt.sca(ax[0,1])\n",
        "plt.imshow(X_train[img_indicies[1]], cmap='binary')\n",
        "plt.title(f'y == {keys[1]}')\n",
        "plt.axis('off')\n",
        "plt.sca(ax[0,2])\n",
        "plt.imshow(X_train[img_indicies[2]], cmap='binary')\n",
        "plt.title(f'y == {keys[2]}')\n",
        "plt.axis('off')\n",
        "plt.sca(ax[0,3])\n",
        "plt.imshow(X_train[img_indicies[3]], cmap='binary')\n",
        "plt.title(f'y == {keys[3]}')\n",
        "plt.axis('off')\n",
        "plt.sca(ax[0,4])\n",
        "plt.imshow(X_train[img_indicies[4]], cmap='binary')\n",
        "plt.title(f'y == {keys[4]}')\n",
        "plt.axis('off')\n",
        "\n",
        "###################\n",
        "plt.sca(ax[1,0])\n",
        "plt.imshow(X_train[img_indicies[5]], cmap='binary')\n",
        "plt.title(f'y == {keys[5]}')\n",
        "plt.axis('off')\n",
        "plt.sca(ax[1,1])\n",
        "plt.imshow(X_train[img_indicies[6]], cmap='binary')\n",
        "plt.title(f'y == {keys[6]}')\n",
        "plt.axis('off')\n",
        "plt.sca(ax[1,2])\n",
        "plt.imshow(X_train[img_indicies[7]], cmap='binary')\n",
        "plt.title(f'y == {keys[7]}')\n",
        "plt.axis('off')\n",
        "plt.sca(ax[1,3])\n",
        "plt.imshow(X_train[img_indicies[8]], cmap='binary')\n",
        "plt.title(f'y == {keys[8]}')\n",
        "plt.axis('off')\n",
        "plt.sca(ax[1,4])\n",
        "plt.imshow(X_train[img_indicies[9]], cmap='binary')\n",
        "plt.title(f'y == {keys[9]}')\n",
        "plt.axis('off')\n",
        "plt.show()"
      ]
    },
    {
      "cell_type": "code",
      "execution_count": 5,
      "metadata": {
        "colab": {
          "base_uri": "https://localhost:8080/"
        },
        "id": "rAVCoI6hRp7z",
        "outputId": "e1b1ce1e-63be-4a9c-dc99-477c43fe4e50"
      },
      "outputs": [
        {
          "output_type": "stream",
          "name": "stdout",
          "text": [
            "y_train in row 1 => 5\n",
            "get its corresponding class => Sandal\n"
          ]
        }
      ],
      "source": [
        "### you can now know for each target value belong to what class\n",
        "class_names = ['T_Shirt', 'Trouser', 'Pullover', 'Dress', 'Coat', \n",
        "               'Sandal', 'Shirt', 'Sneaker','Bag', 'Ankle_Boot']\n",
        "\n",
        "\n",
        "## you can now work like this\n",
        "\n",
        "print('y_train in row 1 =>', y_train[0])\n",
        "print('get its corresponding class =>', class_names[y_train[0]])"
      ]
    },
    {
      "cell_type": "markdown",
      "metadata": {
        "id": "GUvCJCCxRyIr"
      },
      "source": [
        "### CNN architecture"
      ]
    },
    {
      "cell_type": "code",
      "execution_count": 6,
      "metadata": {
        "colab": {
          "base_uri": "https://localhost:8080/"
        },
        "id": "FqBXSq6sRwR2",
        "outputId": "477ded5e-741c-4cf8-ee1c-b195efd3aebc"
      },
      "outputs": [
        {
          "output_type": "stream",
          "name": "stdout",
          "text": [
            "X_train => (54000, 28, 28, 1)\n",
            "X_val => (6000, 28, 28, 1)\n",
            "X_test => (10000, 28, 28, 1)\n"
          ]
        }
      ],
      "source": [
        "### i will use conv2d , so i will extend dimension to be (batch_size, 28, 28, 1)\n",
        "X_train = X_train[..., np.newaxis]\n",
        "X_val = X_val[..., np.newaxis]\n",
        "X_test = X_test[..., np.newaxis]\n",
        "print('X_train =>', X_train.shape)\n",
        "print('X_val =>', X_val.shape)\n",
        "print('X_test =>', X_test.shape)  ## what i need"
      ]
    },
    {
      "cell_type": "code",
      "execution_count": 7,
      "metadata": {
        "colab": {
          "base_uri": "https://localhost:8080/"
        },
        "id": "odUTDB8VR7SR",
        "outputId": "3ba1762a-162a-406a-c6ce-d8794dab323e"
      },
      "outputs": [
        {
          "output_type": "stream",
          "name": "stdout",
          "text": [
            "Model: \"sequential\"\n",
            "_________________________________________________________________\n",
            " Layer (type)                Output Shape              Param #   \n",
            "=================================================================\n",
            " conv2d (Conv2D)             (None, 28, 28, 32)        320       \n",
            "                                                                 \n",
            " max_pooling2d (MaxPooling2D  (None, 14, 14, 32)       0         \n",
            " )                                                               \n",
            "                                                                 \n",
            " conv2d_1 (Conv2D)           (None, 14, 14, 64)        18496     \n",
            "                                                                 \n",
            " max_pooling2d_1 (MaxPooling  (None, 7, 7, 64)         0         \n",
            " 2D)                                                             \n",
            "                                                                 \n",
            " conv2d_2 (Conv2D)           (None, 7, 7, 128)         73856     \n",
            "                                                                 \n",
            " max_pooling2d_2 (MaxPooling  (None, 3, 3, 128)        0         \n",
            " 2D)                                                             \n",
            "                                                                 \n",
            " conv2d_3 (Conv2D)           (None, 3, 3, 256)         295168    \n",
            "                                                                 \n",
            " max_pooling2d_3 (MaxPooling  (None, 1, 1, 256)        0         \n",
            " 2D)                                                             \n",
            "                                                                 \n",
            " flatten (Flatten)           (None, 256)               0         \n",
            "                                                                 \n",
            " dense (Dense)               (None, 300)               77100     \n",
            "                                                                 \n",
            " dropout (Dropout)           (None, 300)               0         \n",
            "                                                                 \n",
            " dense_1 (Dense)             (None, 100)               30100     \n",
            "                                                                 \n",
            " dropout_1 (Dropout)         (None, 100)               0         \n",
            "                                                                 \n",
            " dense_2 (Dense)             (None, 10)                1010      \n",
            "                                                                 \n",
            "=================================================================\n",
            "Total params: 496,050\n",
            "Trainable params: 496,050\n",
            "Non-trainable params: 0\n",
            "_________________________________________________________________\n"
          ]
        }
      ],
      "source": [
        "## Define the Model\n",
        "model_fashion = tf.keras.models.Sequential([\n",
        "    ## conv base\n",
        "    tf.keras.layers.Conv2D(filters=32, kernel_size=3, strides=1, padding='same', activation='elu', \n",
        "                          kernel_initializer='he_normal', input_shape=(28, 28, 1)),\n",
        "    tf.keras.layers.MaxPooling2D(pool_size=(2,2)),\n",
        "    tf.keras.layers.Conv2D(64, 3, strides=1, padding='same', \n",
        "                           activation='elu', kernel_initializer='he_normal'),\n",
        "    tf.keras.layers.MaxPooling2D(pool_size=(2,2)),\n",
        "    tf.keras.layers.Conv2D(128, 3, strides=1, padding='same', \n",
        "                           activation='elu', kernel_initializer='he_normal'),\n",
        "    tf.keras.layers.MaxPooling2D(pool_size=(2,2)),\n",
        "    tf.keras.layers.Conv2D(256, 3, strides=1, padding='same', \n",
        "                           activation='elu', kernel_initializer='he_normal'),\n",
        "    tf.keras.layers.MaxPooling2D(pool_size=(2,2)),\n",
        "\n",
        "    ## top classifier\n",
        "    tf.keras.layers.Flatten(),\n",
        "    tf.keras.layers.Dense(300, activation='elu', kernel_initializer='he_normal'),\n",
        "    tf.keras.layers.Dropout(0.3),   ## add a dropout\n",
        "    tf.keras.layers.Dense(100, activation='elu', kernel_initializer='he_normal'),\n",
        "    tf.keras.layers.Dropout(0.3),    ## add a dropout\n",
        "    tf.keras.layers.Dense(10, activation='softmax')                                    \n",
        "])\n",
        "\n",
        "## Prepare the Hyperparameters\n",
        "n_epochs = 20\n",
        "n_batch_size = 32\n",
        "s = n_epochs * len(X_train) // n_batch_size\n",
        "\n",
        "## create Learning_rate with Exponential Scheduling\n",
        "lr_exponential = tf.keras.optimizers.schedules.ExponentialDecay(initial_learning_rate=0.01, \n",
        "                                                                decay_rate=0.1, decay_steps=s)\n",
        "optimizer_exp = tf.keras.optimizers.SGD(learning_rate=lr_exponential)\n",
        "\n",
        "## complile the Model\n",
        "model_fashion.compile(loss='sparse_categorical_crossentropy', \n",
        "                      optimizer=optimizer_exp, \n",
        "                      metrics=['accuracy'])\n",
        "\n",
        "early_stopp = tf.keras.callbacks.EarlyStopping(patience=5, restore_best_weights=True)\n",
        "\n",
        "   \n",
        "\n",
        "\n",
        "model_fashion.summary()"
      ]
    },
    {
      "cell_type": "code",
      "execution_count": 8,
      "metadata": {
        "colab": {
          "base_uri": "https://localhost:8080/"
        },
        "id": "gAQWE58oSwne",
        "outputId": "13b26230-1e3a-4382-e09d-8225f528b0d7"
      },
      "outputs": [
        {
          "output_type": "stream",
          "name": "stdout",
          "text": [
            "Epoch 1/20\n",
            "1688/1688 [==============================] - 26s 13ms/step - loss: 0.6034 - accuracy: 0.7846 - val_loss: 0.3687 - val_accuracy: 0.8657\n",
            "Epoch 2/20\n",
            "1688/1688 [==============================] - 19s 11ms/step - loss: 0.3925 - accuracy: 0.8607 - val_loss: 0.3572 - val_accuracy: 0.8718\n",
            "Epoch 3/20\n",
            "1688/1688 [==============================] - 19s 11ms/step - loss: 0.3376 - accuracy: 0.8801 - val_loss: 0.3056 - val_accuracy: 0.8902\n",
            "Epoch 4/20\n",
            "1688/1688 [==============================] - 19s 11ms/step - loss: 0.3026 - accuracy: 0.8925 - val_loss: 0.2847 - val_accuracy: 0.8997\n",
            "Epoch 5/20\n",
            "1688/1688 [==============================] - 18s 11ms/step - loss: 0.2785 - accuracy: 0.9001 - val_loss: 0.2902 - val_accuracy: 0.8973\n",
            "Epoch 6/20\n",
            "1688/1688 [==============================] - 19s 11ms/step - loss: 0.2605 - accuracy: 0.9068 - val_loss: 0.2895 - val_accuracy: 0.8983\n",
            "Epoch 7/20\n",
            "1688/1688 [==============================] - 19s 11ms/step - loss: 0.2460 - accuracy: 0.9120 - val_loss: 0.2641 - val_accuracy: 0.9068\n",
            "Epoch 8/20\n",
            "1688/1688 [==============================] - 19s 11ms/step - loss: 0.2339 - accuracy: 0.9156 - val_loss: 0.2512 - val_accuracy: 0.9093\n",
            "Epoch 9/20\n",
            "1688/1688 [==============================] - 19s 11ms/step - loss: 0.2233 - accuracy: 0.9200 - val_loss: 0.2541 - val_accuracy: 0.9118\n",
            "Epoch 10/20\n",
            "1688/1688 [==============================] - 19s 11ms/step - loss: 0.2125 - accuracy: 0.9234 - val_loss: 0.2492 - val_accuracy: 0.9085\n",
            "Epoch 11/20\n",
            "1688/1688 [==============================] - 19s 11ms/step - loss: 0.2043 - accuracy: 0.9271 - val_loss: 0.2476 - val_accuracy: 0.9122\n",
            "Epoch 12/20\n",
            "1688/1688 [==============================] - 18s 11ms/step - loss: 0.1951 - accuracy: 0.9303 - val_loss: 0.2544 - val_accuracy: 0.9108\n",
            "Epoch 13/20\n",
            "1688/1688 [==============================] - 19s 11ms/step - loss: 0.1904 - accuracy: 0.9323 - val_loss: 0.2405 - val_accuracy: 0.9130\n",
            "Epoch 14/20\n",
            "1688/1688 [==============================] - 19s 11ms/step - loss: 0.1840 - accuracy: 0.9345 - val_loss: 0.2442 - val_accuracy: 0.9122\n",
            "Epoch 15/20\n",
            "1688/1688 [==============================] - 19s 11ms/step - loss: 0.1780 - accuracy: 0.9364 - val_loss: 0.2448 - val_accuracy: 0.9128\n",
            "Epoch 16/20\n",
            "1688/1688 [==============================] - 19s 11ms/step - loss: 0.1725 - accuracy: 0.9390 - val_loss: 0.2417 - val_accuracy: 0.9145\n",
            "Epoch 17/20\n",
            "1688/1688 [==============================] - 19s 11ms/step - loss: 0.1686 - accuracy: 0.9410 - val_loss: 0.2455 - val_accuracy: 0.9148\n",
            "Epoch 18/20\n",
            "1688/1688 [==============================] - 19s 11ms/step - loss: 0.1644 - accuracy: 0.9420 - val_loss: 0.2402 - val_accuracy: 0.9140\n",
            "Epoch 19/20\n",
            "1688/1688 [==============================] - 19s 11ms/step - loss: 0.1591 - accuracy: 0.9439 - val_loss: 0.2411 - val_accuracy: 0.9152\n",
            "Epoch 20/20\n",
            "1688/1688 [==============================] - 19s 11ms/step - loss: 0.1571 - accuracy: 0.9454 - val_loss: 0.2388 - val_accuracy: 0.9155\n"
          ]
        }
      ],
      "source": [
        "## fit the Model\n",
        "history = model_fashion.fit(X_train, y_train, \n",
        "                            validation_data=(X_val, y_val), epochs=n_epochs,\n",
        "                            batch_size=n_batch_size, callbacks=[early_stopp])"
      ]
    },
    {
      "cell_type": "code",
      "execution_count": 9,
      "metadata": {
        "colab": {
          "base_uri": "https://localhost:8080/",
          "height": 283
        },
        "id": "KYJyk-fNS9Qa",
        "outputId": "81cfe2e6-8551-46e3-eaae-9eb6e3988720"
      },
      "outputs": [
        {
          "output_type": "display_data",
          "data": {
            "image/png": "[encoded data removed]",
            "text/plain": [
              "<Figure size 864x288 with 2 Axes>"
            ]
          },
          "metadata": {
            "needs_background": "light"
          }
        }
      ],
      "source": [
        "## Visualize the resutls\n",
        "fia, ax = plt.subplots(1, 2, figsize=(12, 4))\n",
        "\n",
        "plt.sca(ax[0])\n",
        "plt.plot(range(1, n_epochs+1), history.history['accuracy'], 'bo', label='Train Accuracy')\n",
        "plt.plot(range(1, n_epochs+1), history.history['val_accuracy'], 'r-', label='Valid Accuracy')\n",
        "plt.xlabel('Epochs', fontsize=14)\n",
        "plt.ylabel('Accuracy',  fontsize=14)\n",
        "plt.legend()\n",
        "\n",
        "plt.sca(ax[1])\n",
        "plt.plot(range(1, n_epochs+1), history.history['loss'], 'bo', label='Train loss')\n",
        "plt.plot(range(1, n_epochs+1), history.history['val_loss'], 'r-', label='Valid loss')\n",
        "plt.xlabel('Epochs', fontsize=14)\n",
        "plt.ylabel('Loss',  fontsize=14)\n",
        "plt.legend()\n",
        "plt.show()"
      ]
    },
    {
      "cell_type": "code",
      "execution_count": 10,
      "metadata": {
        "colab": {
          "base_uri": "https://localhost:8080/"
        },
        "id": "tFI-LzN7THNd",
        "outputId": "45006ada-7724-4570-82b4-fb7b1e151a27"
      },
      "outputs": [
        {
          "output_type": "stream",
          "name": "stdout",
          "text": [
            "loss_test => 0.2563651502132416\n",
            "acc_test => 0.9117000102996826\n"
          ]
        }
      ],
      "source": [
        "## Evaluate on test_set\n",
        "loss_test, acc_test = model_fashion.evaluate(X_test, y_test, verbose=0)\n",
        "print('loss_test =>', loss_test)\n",
        "print('acc_test =>', acc_test)   ## Not Bad!"
      ]
    },
    {
      "cell_type": "markdown",
      "metadata": {
        "id": "j3ya4EPVVLAe"
      },
      "source": [
        "### Let's reshape into video data\n",
        "### here, we want for each 10 frame of video only one label\n",
        "`If we want to train video data`  <br />\n",
        "`## assume 10 frames/sec and we will adjust the MNIST dataset to be like that`"
      ]
    },
    {
      "cell_type": "markdown",
      "metadata": {
        "id": "3qMlpzX0nCpD"
      },
      "source": [
        "#### In this case, we are `grouping/summarizing` every 10 frames into one video, which can have `one label`\n",
        "\n",
        "##### So we need to take the last labels of every 10 as the video label"
      ]
    },
    {
      "cell_type": "code",
      "execution_count": 11,
      "metadata": {
        "colab": {
          "base_uri": "https://localhost:8080/"
        },
        "id": "oitfpA20TOln",
        "outputId": "659b312a-77cc-4696-f00f-cb863b4221dc"
      },
      "outputs": [
        {
          "output_type": "stream",
          "name": "stdout",
          "text": [
            "X_train_vid shape (5400, 10, 28, 28, 1)\n",
            "y_train_vid shape (5400,)\n",
            "X_val_vid shape (600, 10, 28, 28, 1)\n",
            "y_val_vid shape (600,)\n",
            "X_test_vid shape (1000, 10, 28, 28, 1)\n",
            "y_test_vid shape (1000,)\n"
          ]
        }
      ],
      "source": [
        "## assume 10 frames/sec and we will adjust the MNIST dataset to be like that\n",
        "\n",
        "X_train_vid = np.reshape(X_train, (5400, 10, 28, 28, 1))\n",
        "## batch_size x frames/sec x height x width x channells\n",
        "y_train_vid = np.reshape(y_train, (54000,))\n",
        "X_val_vid = np.reshape(X_val, (600, 10, 28, 28, 1))\n",
        "y_val_vid = np.reshape(y_val, (6000,))\n",
        "X_test_vid = np.reshape(X_test, (1000, 10, 28, 28, 1))\n",
        "y_test_vid = np.reshape(y_test, (10000,))\n",
        "\n",
        "\n",
        "## for y\n",
        "y_train_vid = y_train_vid[::10]   ## one label for each 10 frames --> train\n",
        "y_val_vid = y_val_vid[::10]       ## one label for each 10 frames --> validation\n",
        "y_test_vid = y_test_vid[::10]     ## one label for each 10 frames --> test\n",
        "\n",
        "print('X_train_vid shape', X_train_vid.shape)\n",
        "print('y_train_vid shape', y_train_vid.shape)\n",
        "print('X_val_vid shape', X_val_vid.shape)\n",
        "print('y_val_vid shape', y_val_vid.shape)\n",
        "print('X_test_vid shape', X_test_vid.shape)\n",
        "print('y_test_vid shape', y_test_vid.shape)"
      ]
    },
    {
      "cell_type": "code",
      "execution_count": 12,
      "metadata": {
        "colab": {
          "base_uri": "https://localhost:8080/"
        },
        "id": "g2tvMKQRkBNn",
        "outputId": "66eef99a-6454-467b-c1c3-cff182fbb64d"
      },
      "outputs": [
        {
          "output_type": "stream",
          "name": "stdout",
          "text": [
            "Model: \"sequential_1\"\n",
            "_________________________________________________________________\n",
            " Layer (type)                Output Shape              Param #   \n",
            "=================================================================\n",
            " time_distributed (TimeDistr  (None, 10, 28, 28, 32)   320       \n",
            " ibuted)                                                         \n",
            "                                                                 \n",
            " time_distributed_1 (TimeDis  (None, 10, 14, 14, 32)   0         \n",
            " tributed)                                                       \n",
            "                                                                 \n",
            " time_distributed_2 (TimeDis  (None, 10, 14, 14, 64)   18496     \n",
            " tributed)                                                       \n",
            "                                                                 \n",
            " time_distributed_3 (TimeDis  (None, 10, 7, 7, 64)     0         \n",
            " tributed)                                                       \n",
            "                                                                 \n",
            " time_distributed_4 (TimeDis  (None, 10, 7, 7, 128)    73856     \n",
            " tributed)                                                       \n",
            "                                                                 \n",
            " time_distributed_5 (TimeDis  (None, 10, 3, 3, 128)    0         \n",
            " tributed)                                                       \n",
            "                                                                 \n",
            " time_distributed_6 (TimeDis  (None, 10, 3, 3, 256)    295168    \n",
            " tributed)                                                       \n",
            "                                                                 \n",
            " time_distributed_7 (TimeDis  (None, 10, 1, 1, 256)    0         \n",
            " tributed)                                                       \n",
            "                                                                 \n",
            " flatten_1 (Flatten)         (None, 2560)              0         \n",
            "                                                                 \n",
            " dense_3 (Dense)             (None, 300)               768300    \n",
            "                                                                 \n",
            " dropout_2 (Dropout)         (None, 300)               0         \n",
            "                                                                 \n",
            " dense_4 (Dense)             (None, 100)               30100     \n",
            "                                                                 \n",
            " dropout_3 (Dropout)         (None, 100)               0         \n",
            "                                                                 \n",
            " dense_5 (Dense)             (None, 10)                1010      \n",
            "                                                                 \n",
            "=================================================================\n",
            "Total params: 1,187,250\n",
            "Trainable params: 1,187,250\n",
            "Non-trainable params: 0\n",
            "_________________________________________________________________\n"
          ]
        }
      ],
      "source": [
        "## Define the Model\n",
        "model_fashion_vid = tf.keras.models.Sequential([\n",
        "      ## conv base\n",
        "      tf.keras.layers.TimeDistributed(tf.keras.layers.Conv2D(filters=32, kernel_size=3, \n",
        "                                                            strides=1, padding='same', activation='elu', \n",
        "                                                            kernel_initializer='he_normal'), \n",
        "                                    input_shape=(10, 28, 28, 1)),\n",
        "      tf.keras.layers.TimeDistributed(tf.keras.layers.MaxPooling2D(pool_size=(2,2))),\n",
        "      tf.keras.layers.TimeDistributed(tf.keras.layers.Conv2D(64, 3, strides=1, padding='same', \n",
        "                                                            activation='elu', kernel_initializer='he_normal')),\n",
        "      tf.keras.layers.TimeDistributed(tf.keras.layers.MaxPooling2D(pool_size=(2,2))),\n",
        "      tf.keras.layers.TimeDistributed(tf.keras.layers.Conv2D(128, 3, strides=1, padding='same', \n",
        "                                                            activation='elu', kernel_initializer='he_normal')),\n",
        "      tf.keras.layers.TimeDistributed(tf.keras.layers.MaxPooling2D(pool_size=(2,2))),\n",
        "      tf.keras.layers.TimeDistributed(tf.keras.layers.Conv2D(256, 3, strides=1, padding='same', \n",
        "                                                            activation='elu', kernel_initializer='he_normal')),\n",
        "      tf.keras.layers.TimeDistributed(tf.keras.layers.MaxPooling2D(pool_size=(2,2))),\n",
        "\n",
        "      ## top classifier\n",
        "      tf.keras.layers.Flatten(),\n",
        "      tf.keras.layers.Dense(300, activation='elu', kernel_initializer='he_normal'),\n",
        "      tf.keras.layers.Dropout(0.3),   ## add a dropout\n",
        "      tf.keras.layers.Dense(100, activation='elu', kernel_initializer='he_normal'),\n",
        "      tf.keras.layers.Dropout(0.3),    ## add a dropout\n",
        "      tf.keras.layers.Dense(10, activation='softmax')                                    \n",
        "])\n",
        "\n",
        "\n",
        "\n",
        "\n",
        "model_fashion_vid.summary()"
      ]
    },
    {
      "cell_type": "code",
      "execution_count": 13,
      "metadata": {
        "colab": {
          "base_uri": "https://localhost:8080/"
        },
        "id": "JlTEGjVGVc8e",
        "outputId": "1e924620-51aa-4128-bf1a-40bbecb78199"
      },
      "outputs": [
        {
          "output_type": "stream",
          "name": "stdout",
          "text": [
            "Epoch 1/20\n",
            "169/169 [==============================] - 9s 49ms/step - loss: 1.8675 - accuracy: 0.3526 - val_loss: 0.9923 - val_accuracy: 0.6350\n",
            "Epoch 2/20\n",
            "169/169 [==============================] - 8s 45ms/step - loss: 0.9858 - accuracy: 0.6374 - val_loss: 0.7235 - val_accuracy: 0.7533\n",
            "Epoch 3/20\n",
            "169/169 [==============================] - 8s 46ms/step - loss: 0.7743 - accuracy: 0.7183 - val_loss: 0.6517 - val_accuracy: 0.7550\n",
            "Epoch 4/20\n",
            "169/169 [==============================] - 8s 45ms/step - loss: 0.6414 - accuracy: 0.7589 - val_loss: 0.5841 - val_accuracy: 0.7917\n",
            "Epoch 5/20\n",
            "169/169 [==============================] - 8s 45ms/step - loss: 0.5724 - accuracy: 0.7900 - val_loss: 0.5389 - val_accuracy: 0.7967\n",
            "Epoch 6/20\n",
            "169/169 [==============================] - 8s 46ms/step - loss: 0.5170 - accuracy: 0.8113 - val_loss: 0.5179 - val_accuracy: 0.7983\n",
            "Epoch 7/20\n",
            "169/169 [==============================] - 8s 45ms/step - loss: 0.4509 - accuracy: 0.8352 - val_loss: 0.4868 - val_accuracy: 0.8167\n",
            "Epoch 8/20\n",
            "169/169 [==============================] - 8s 45ms/step - loss: 0.4127 - accuracy: 0.8493 - val_loss: 0.4836 - val_accuracy: 0.8217\n",
            "Epoch 9/20\n",
            "169/169 [==============================] - 8s 45ms/step - loss: 0.3781 - accuracy: 0.8598 - val_loss: 0.4743 - val_accuracy: 0.8200\n",
            "Epoch 10/20\n",
            "169/169 [==============================] - 8s 45ms/step - loss: 0.3377 - accuracy: 0.8813 - val_loss: 0.4778 - val_accuracy: 0.8283\n",
            "Epoch 11/20\n",
            "169/169 [==============================] - 8s 45ms/step - loss: 0.3080 - accuracy: 0.8887 - val_loss: 0.4492 - val_accuracy: 0.8383\n",
            "Epoch 12/20\n",
            "169/169 [==============================] - 8s 45ms/step - loss: 0.2713 - accuracy: 0.9026 - val_loss: 0.4333 - val_accuracy: 0.8417\n",
            "Epoch 13/20\n",
            "169/169 [==============================] - 8s 45ms/step - loss: 0.2459 - accuracy: 0.9124 - val_loss: 0.4369 - val_accuracy: 0.8517\n",
            "Epoch 14/20\n",
            "169/169 [==============================] - 8s 45ms/step - loss: 0.2175 - accuracy: 0.9265 - val_loss: 0.4298 - val_accuracy: 0.8500\n",
            "Epoch 15/20\n",
            "169/169 [==============================] - 8s 45ms/step - loss: 0.1900 - accuracy: 0.9341 - val_loss: 0.4327 - val_accuracy: 0.8633\n",
            "Epoch 16/20\n",
            "169/169 [==============================] - 8s 45ms/step - loss: 0.1853 - accuracy: 0.9376 - val_loss: 0.4516 - val_accuracy: 0.8433\n",
            "Epoch 17/20\n",
            "169/169 [==============================] - 8s 45ms/step - loss: 0.1565 - accuracy: 0.9472 - val_loss: 0.4215 - val_accuracy: 0.8583\n",
            "Epoch 18/20\n",
            "169/169 [==============================] - 8s 45ms/step - loss: 0.1415 - accuracy: 0.9554 - val_loss: 0.4282 - val_accuracy: 0.8650\n",
            "Epoch 19/20\n",
            "169/169 [==============================] - 8s 45ms/step - loss: 0.1346 - accuracy: 0.9537 - val_loss: 0.4458 - val_accuracy: 0.8567\n",
            "Epoch 20/20\n",
            "169/169 [==============================] - 8s 45ms/step - loss: 0.1109 - accuracy: 0.9683 - val_loss: 0.4374 - val_accuracy: 0.8567\n"
          ]
        }
      ],
      "source": [
        "## train and fit the model again\n",
        "\n",
        "## Prepare the Hyperparameters\n",
        "n_epochs = 20\n",
        "n_batch_size = 32\n",
        "s = n_epochs * len(X_train) // n_batch_size\n",
        "\n",
        "## create Learning_rate with Exponential Scheduling\n",
        "lr_exponential = tf.keras.optimizers.schedules.ExponentialDecay(initial_learning_rate=0.01, \n",
        "                                                                decay_rate=0.1, decay_steps=s)\n",
        "optimizer_exp = tf.keras.optimizers.SGD(learning_rate=lr_exponential)\n",
        "\n",
        "\n",
        "## complile the Model\n",
        "model_fashion_vid.compile(loss='sparse_categorical_crossentropy', \n",
        "                        optimizer=optimizer_exp, \n",
        "                         metrics=['accuracy'])\n",
        "\n",
        "early_stopp = tf.keras.callbacks.EarlyStopping(patience=5, restore_best_weights=True)\n",
        "\n",
        "## fit the Model\n",
        "history_vid = model_fashion_vid.fit(X_train_vid, y_train_vid, \n",
        "                                    validation_data=(X_val_vid, y_val_vid), epochs=n_epochs,\n",
        "                                    batch_size=n_batch_size, callbacks=[early_stopp])"
      ]
    },
    {
      "cell_type": "code",
      "execution_count": 14,
      "metadata": {
        "colab": {
          "base_uri": "https://localhost:8080/",
          "height": 283
        },
        "id": "TPSZ8KKLJmyO",
        "outputId": "c99f4a77-d367-49f5-f8af-f279c8ceef14"
      },
      "outputs": [
        {
          "output_type": "display_data",
          "data": {
            "image/png": "[encoded data removed]",
            "text/plain": [
              "<Figure size 864x288 with 2 Axes>"
            ]
          },
          "metadata": {}
        }
      ],
      "source": [
        "## Visualize the resutls\n",
        "n_epochs = len(history_vid.history['accuracy'])\n",
        "\n",
        "plt.style.use('ggplot')\n",
        "fig, ax = plt.subplots(1, 2, figsize=(12, 4))\n",
        "plt.sca(ax[0])\n",
        "plt.plot(range(1, n_epochs+1), history_vid.history['accuracy'], 'bo', label='Train Accuracy')\n",
        "plt.plot(range(1, n_epochs+1), history_vid.history['val_accuracy'], 'r-', label='Valid Accuracy')\n",
        "plt.xlabel('Epochs', fontsize=14)\n",
        "plt.ylabel('Accuracy',  fontsize=14)\n",
        "plt.legend()\n",
        "\n",
        "plt.sca(ax[1])\n",
        "plt.plot(range(1, n_epochs+1), history_vid.history['loss'], 'bo', label='Train loss')\n",
        "plt.plot(range(1, n_epochs+1), history_vid.history['val_loss'], 'r-', label='Valid loss')\n",
        "plt.xlabel('Epochs', fontsize=14)\n",
        "plt.ylabel('Loss',  fontsize=14)\n",
        "plt.legend()\n",
        "plt.show()"
      ]
    },
    {
      "cell_type": "code",
      "execution_count": 15,
      "metadata": {
        "colab": {
          "base_uri": "https://localhost:8080/"
        },
        "id": "pegjkENSXSFF",
        "outputId": "1939c21a-613f-4729-b9ac-de6e4a7b7ce3"
      },
      "outputs": [
        {
          "output_type": "stream",
          "name": "stdout",
          "text": [
            "loss_test => 0.5032299160957336\n",
            "acc_test => 0.8309999704360962\n"
          ]
        }
      ],
      "source": [
        "## Evaluate on test_set\n",
        "loss_test, acc_test = model_fashion_vid.evaluate(X_test_vid, y_test_vid, verbose=0)\n",
        "print('loss_test =>', loss_test)\n",
        "print('acc_test =>', acc_test)   ## Increse Epochs ..."
      ]
    },
    {
      "cell_type": "markdown",
      "metadata": {
        "id": "6_B1aL6YqIEn"
      },
      "source": [
        "### If we wanted to have classification per each frame"
      ]
    },
    {
      "cell_type": "code",
      "execution_count": 16,
      "metadata": {
        "colab": {
          "base_uri": "https://localhost:8080/"
        },
        "id": "hwFkAjL8pYVS",
        "outputId": "c22ad961-5b14-4dce-9695-16a8641d88c6"
      },
      "outputs": [
        {
          "output_type": "stream",
          "name": "stdout",
          "text": [
            "X_train_frame shape (5400, 10, 28, 28)\n",
            "y_train_frame shape (5400, 10, 1)\n",
            "X_val_frame shape (600, 10, 28, 28)\n",
            "y_val_frame shape (600, 10, 1)\n",
            "X_test_frame shape (1000, 10, 28, 28)\n",
            "y_test_frame shape (1000, 10, 1)\n"
          ]
        }
      ],
      "source": [
        "## prepare the data\n",
        "## assume 10 frames/sec and we will adjust the MNIST dataset to be like that\n",
        "\n",
        "X_train_frame = np.reshape(X_train, (5400, 10, 28, 28))\n",
        "y_train_frame = np.reshape(y_train, (5400, 10, 1))\n",
        "X_val_frame = np.reshape(X_val, (600, 10, 28, 28))\n",
        "y_val_frame = np.reshape(y_val, (600, 10, 1))\n",
        "X_test_frame = np.reshape(X_test, (1000, 10, 28, 28))\n",
        "y_test_frame = np.reshape(y_test, (1000, 10, 1))\n",
        "\n",
        "\n",
        "print('X_train_frame shape', X_train_frame.shape)\n",
        "print('y_train_frame shape', y_train_frame.shape)\n",
        "print('X_val_frame shape', X_val_frame.shape)\n",
        "print('y_val_frame shape', y_val_frame.shape)\n",
        "print('X_test_frame shape', X_test_frame.shape)\n",
        "print('y_test_frame shape', y_test_frame.shape)"
      ]
    },
    {
      "cell_type": "code",
      "execution_count": 17,
      "metadata": {
        "colab": {
          "base_uri": "https://localhost:8080/"
        },
        "id": "PvUd61Cmqskp",
        "outputId": "9f83ea95-ea51-4840-f52c-04c2a30c8265"
      },
      "outputs": [
        {
          "output_type": "stream",
          "name": "stdout",
          "text": [
            "Model: \"sequential_2\"\n",
            "_________________________________________________________________\n",
            " Layer (type)                Output Shape              Param #   \n",
            "=================================================================\n",
            " time_distributed_8 (TimeDis  (None, 10, 10)           496050    \n",
            " tributed)                                                       \n",
            "                                                                 \n",
            "=================================================================\n",
            "Total params: 496,050\n",
            "Trainable params: 496,050\n",
            "Non-trainable params: 0\n",
            "_________________________________________________________________\n"
          ]
        }
      ],
      "source": [
        "## build the  model\n",
        "   \n",
        "### call TimeDistributed --> for each instance we have 10 frames and for each frame there is an output\n",
        "model_fashion_frame = tf.keras.models.Sequential([\n",
        "        ## the total model but distributed over 10 frames --> shape (10, 28, 28, 1)\n",
        "        tf.keras.layers.TimeDistributed(model_fashion, input_shape=(10, 28, 28, 1))\n",
        "])\n",
        "\n",
        "model_fashion_frame.summary()"
      ]
    },
    {
      "cell_type": "code",
      "execution_count": 18,
      "metadata": {
        "colab": {
          "base_uri": "https://localhost:8080/"
        },
        "id": "aOlKKnTZq688",
        "outputId": "433209c7-b20f-48a5-97e9-4429ff4a18be"
      },
      "outputs": [
        {
          "output_type": "stream",
          "name": "stdout",
          "text": [
            "Epoch 1/20\n",
            "169/169 [==============================] - 8s 40ms/step - loss: 0.1573 - accuracy: 0.9443 - val_loss: 0.2378 - val_accuracy: 0.9158\n",
            "Epoch 2/20\n",
            "169/169 [==============================] - 7s 39ms/step - loss: 0.1541 - accuracy: 0.9454 - val_loss: 0.2399 - val_accuracy: 0.9165\n",
            "Epoch 3/20\n",
            "169/169 [==============================] - 6s 38ms/step - loss: 0.1533 - accuracy: 0.9452 - val_loss: 0.2538 - val_accuracy: 0.9128\n",
            "Epoch 4/20\n",
            "169/169 [==============================] - 7s 39ms/step - loss: 0.1510 - accuracy: 0.9469 - val_loss: 0.2464 - val_accuracy: 0.9158\n",
            "Epoch 5/20\n",
            "169/169 [==============================] - 7s 39ms/step - loss: 0.1498 - accuracy: 0.9473 - val_loss: 0.2413 - val_accuracy: 0.9152\n",
            "Epoch 6/20\n",
            "169/169 [==============================] - 6s 38ms/step - loss: 0.1485 - accuracy: 0.9479 - val_loss: 0.2514 - val_accuracy: 0.9123\n",
            "Epoch 7/20\n",
            "169/169 [==============================] - 6s 38ms/step - loss: 0.1431 - accuracy: 0.9499 - val_loss: 0.2411 - val_accuracy: 0.9175\n",
            "Epoch 8/20\n",
            "169/169 [==============================] - 6s 38ms/step - loss: 0.1426 - accuracy: 0.9505 - val_loss: 0.2409 - val_accuracy: 0.9143\n",
            "Epoch 9/20\n",
            "169/169 [==============================] - 7s 39ms/step - loss: 0.1407 - accuracy: 0.9502 - val_loss: 0.2440 - val_accuracy: 0.9167\n",
            "Epoch 10/20\n",
            "169/169 [==============================] - 7s 39ms/step - loss: 0.1372 - accuracy: 0.9518 - val_loss: 0.2435 - val_accuracy: 0.9163\n",
            "Epoch 11/20\n",
            "169/169 [==============================] - 6s 38ms/step - loss: 0.1364 - accuracy: 0.9519 - val_loss: 0.2444 - val_accuracy: 0.9180\n",
            "Epoch 12/20\n",
            "169/169 [==============================] - 6s 38ms/step - loss: 0.1357 - accuracy: 0.9523 - val_loss: 0.2443 - val_accuracy: 0.9175\n",
            "Epoch 13/20\n",
            "169/169 [==============================] - 7s 39ms/step - loss: 0.1331 - accuracy: 0.9531 - val_loss: 0.2450 - val_accuracy: 0.9165\n",
            "Epoch 14/20\n",
            "169/169 [==============================] - 7s 39ms/step - loss: 0.1316 - accuracy: 0.9531 - val_loss: 0.2518 - val_accuracy: 0.9132\n",
            "Epoch 15/20\n",
            "169/169 [==============================] - 7s 40ms/step - loss: 0.1306 - accuracy: 0.9532 - val_loss: 0.2463 - val_accuracy: 0.9167\n",
            "Epoch 16/20\n",
            "169/169 [==============================] - 7s 39ms/step - loss: 0.1291 - accuracy: 0.9546 - val_loss: 0.2525 - val_accuracy: 0.9143\n",
            "Epoch 17/20\n",
            "169/169 [==============================] - 6s 38ms/step - loss: 0.1276 - accuracy: 0.9562 - val_loss: 0.2486 - val_accuracy: 0.9143\n",
            "Epoch 18/20\n",
            "169/169 [==============================] - 7s 39ms/step - loss: 0.1248 - accuracy: 0.9571 - val_loss: 0.2517 - val_accuracy: 0.9173\n",
            "Epoch 19/20\n",
            "169/169 [==============================] - 7s 39ms/step - loss: 0.1231 - accuracy: 0.9574 - val_loss: 0.2492 - val_accuracy: 0.9178\n",
            "Epoch 20/20\n",
            "169/169 [==============================] - 7s 39ms/step - loss: 0.1218 - accuracy: 0.9575 - val_loss: 0.2444 - val_accuracy: 0.9175\n"
          ]
        }
      ],
      "source": [
        "## Prepare the Hyperparameters\n",
        "n_epochs = 20\n",
        "n_batch_size = 32\n",
        "s = n_epochs * len(X_train) // n_batch_size\n",
        "\n",
        "## create Learning_rate with Exponential Scheduling\n",
        "lr_exponential = tf.keras.optimizers.schedules.ExponentialDecay(initial_learning_rate=0.01, \n",
        "                                                                decay_rate=0.1, decay_steps=s)\n",
        "optimizer_exp = tf.keras.optimizers.SGD(learning_rate=lr_exponential)\n",
        "\n",
        "## complile the Model\n",
        "model_fashion_frame.compile(loss='sparse_categorical_crossentropy', \n",
        "                            optimizer=optimizer_exp, \n",
        "                            metrics=['accuracy'])\n",
        "\n",
        "early_stopp = tf.keras.callbacks.EarlyStopping(patience=5, restore_best_weights=True)\n",
        "\n",
        "## fit the Model\n",
        "history_frame = model_fashion_frame.fit(X_train_frame, y_train_frame, \n",
        "                                       validation_data=(X_val_frame, y_val_frame), epochs=n_epochs,\n",
        "                                       batch_size=n_batch_size)"
      ]
    },
    {
      "cell_type": "code",
      "execution_count": 19,
      "metadata": {
        "colab": {
          "base_uri": "https://localhost:8080/",
          "height": 287
        },
        "id": "pv3u17cZJmyQ",
        "outputId": "db4b9be6-7a1c-43ae-fafd-f537db50cd7e"
      },
      "outputs": [
        {
          "output_type": "display_data",
          "data": {
            "image/png": "[encoded data removed]",
            "text/plain": [
              "<Figure size 864x288 with 2 Axes>"
            ]
          },
          "metadata": {}
        }
      ],
      "source": [
        "## Visualize the resutls\n",
        "n_epochs = len(history_frame.history['accuracy'])\n",
        "\n",
        "plt.style.use('ggplot')\n",
        "fig, ax = plt.subplots(1, 2, figsize=(12, 4))\n",
        "\n",
        "plt.sca(ax[0])\n",
        "plt.plot(range(1, n_epochs+1), history_frame.history['accuracy'], 'bo', label='Train Accuracy')\n",
        "plt.plot(range(1, n_epochs+1), history_frame.history['val_accuracy'], 'r-', label='Valid Accuracy')\n",
        "plt.xlabel('Epochs', fontsize=14)\n",
        "plt.ylabel('Accuracy',  fontsize=14)\n",
        "plt.legend()\n",
        "\n",
        "plt.sca(ax[1])\n",
        "plt.plot(range(1, n_epochs+1), history_frame.history['loss'], 'bo', label='Train loss')\n",
        "plt.plot(range(1, n_epochs+1), history_frame.history['val_loss'], 'r-', label='Valid loss')\n",
        "plt.xlabel('Epochs', fontsize=14)\n",
        "plt.ylabel('Loss',  fontsize=14)\n",
        "plt.legend()\n",
        "plt.show()   ## you need to Tune that"
      ]
    },
    {
      "cell_type": "code",
      "execution_count": 20,
      "metadata": {
        "colab": {
          "base_uri": "https://localhost:8080/"
        },
        "id": "kRwir1-9rUIc",
        "outputId": "44c476c4-fa69-4fcd-b9d2-00b0b2dfdb5d"
      },
      "outputs": [
        {
          "output_type": "stream",
          "name": "stdout",
          "text": [
            "loss_test => 0.2643449604511261\n",
            "acc_test => 0.9126999974250793\n"
          ]
        }
      ],
      "source": [
        "## Evaluate on test_set\n",
        "loss_test, acc_test = model_fashion_frame.evaluate(X_test_frame, y_test_frame, verbose=0)\n",
        "print('loss_test =>', loss_test)\n",
        "print('acc_test =>', acc_test)   "
      ]
    },
    {
      "cell_type": "markdown",
      "source": [
        "#### Done!"
      ],
      "metadata": {
        "id": "pEWLhXig10bG"
      }
    }
  ],
  "metadata": {
    "accelerator": "GPU",
    "colab": {
      "collapsed_sections": [],
      "name": "05- CNN & Video Tips and Tricks.ipynb",
      "provenance": []
    },
    "kernelspec": {
      "display_name": "Python 3 (ipykernel)",
      "language": "python",
      "name": "python3"
    },
    "language_info": {
      "codemirror_mode": {
        "name": "ipython",
        "version": 3
      },
      "file_extension": ".py",
      "mimetype": "text/x-python",
      "name": "python",
      "nbconvert_exporter": "python",
      "pygments_lexer": "ipython3",
      "version": "3.8.8"
    }
  },
  "nbformat": 4,
  "nbformat_minor": 0
}