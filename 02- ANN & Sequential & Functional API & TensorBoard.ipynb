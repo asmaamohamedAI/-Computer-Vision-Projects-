{
 "cells": [
  {
   "cell_type": "code",
   "execution_count": 91,
   "id": "f7ffae6d",
   "metadata": {},
   "outputs": [],
   "source": [
    "## Most Important\n",
    "import numpy as np\n",
    "import pandas as pd\n",
    "import matplotlib.pyplot as plt\n",
    "%matplotlib inline\n",
    "import seaborn as sns\n",
    "\n",
    "## less Important\n",
    "import os #interact with operating system\n",
    "from scipy import stats #statistical tools\n",
    "import missingno as msno #visualize missing data\n",
    "import joblib #save and load\n",
    "import tarfile #unzip\n",
    "import shutil #high level file operations\n",
    "import urllib #fetching URLs\n",
    "\n",
    "## Sklearn\n",
    "from sklearn import datasets\n",
    "## Preprocessing\n",
    "from sklearn.preprocessing import StandardScaler\n",
    "from sklearn.model_selection import train_test_split\n",
    "## Metrics\n",
    "from sklearn.metrics import accuracy_score\n",
    "## Algorithms\n",
    "from sklearn.linear_model import Perceptron\n",
    "\n",
    "\n",
    "## tensorflow & Keras\n",
    "import tensorflow as tf    ## i will use tf for every thing and for keras using tf.keras"
   ]
  },
  {
   "cell_type": "markdown",
   "id": "46026363",
   "metadata": {},
   "source": [
    "### Perceptron for binary Classification"
   ]
  },
  {
   "cell_type": "code",
   "execution_count": 2,
   "id": "6b7d2266",
   "metadata": {},
   "outputs": [
    {
     "name": "stdout",
     "output_type": "stream",
     "text": [
      "train_score => 0.96\n"
     ]
    }
   ],
   "source": [
    "## load iris\n",
    "iris = datasets.load_iris()\n",
    "X = iris['data'][:, (2,3)] #petal length, petal width\n",
    "y = (iris['target']==2).astype(np.int64)  ## for binary classification\n",
    "\n",
    "## create the model\n",
    "#perceptron model makes a prediction based on linear combination of \n",
    "#input features and applies step function to the result\n",
    "percep_clf = Perceptron()\n",
    "percep_clf.fit(X, y)\n",
    "\n",
    "y_pred_train = percep_clf.predict(X)\n",
    "\n",
    "train_score = accuracy_score(y, y_pred_train)\n",
    "print('train_score =>', train_score)"
   ]
  },
  {
   "cell_type": "markdown",
   "id": "eeee44e5",
   "metadata": {},
   "source": [
    "### `Sequential Models`"
   ]
  },
  {
   "cell_type": "markdown",
   "id": "11465c79",
   "metadata": {},
   "source": [
    "### Building a Sequential API for multiclass Classification\n",
    "\n",
    "`Fashion MNIST`"
   ]
  },
  {
   "cell_type": "markdown",
   "id": "194b093d",
   "metadata": {},
   "source": [
    "#### Loading the Data and Look at the big Picture  "
   ]
  },
  {
   "cell_type": "code",
   "execution_count": 4,
   "id": "ceb22512",
   "metadata": {},
   "outputs": [
    {
     "name": "stdout",
     "output_type": "stream",
     "text": [
      "X_train_full shape => (60000, 28, 28)\n",
      "y_train_full shape => (60000,)\n",
      "=============================================\n",
      "X_train shape => (54000, 28, 28)\n",
      "y_train shape => (54000,)\n",
      "=============================================\n",
      "X_val shape => (6000, 28, 28)\n",
      "y_val shape => (6000,)\n",
      "=============================================\n",
      "X_test shape => (10000, 28, 28)\n",
      "y_test shape => (10000,)\n",
      "===========================================================================\n",
      "X_train , y_train -- dtypes => (dtype('float32'), dtype('int32'))\n",
      "X_val , y_val -- dtypes => (dtype('float32'), dtype('int32'))\n",
      "X_test , y_test -- dtypes => (dtype('float32'), dtype('int32'))\n"
     ]
    }
   ],
   "source": [
    "## loading the Fashion MNIST \n",
    "(X_train_full, y_train_full), (X_test, y_test) = tf.keras.datasets.fashion_mnist.load_data()\n",
    "\n",
    "## show shapes, dtypes and transfer datatypes to (float32, enough for NN)\n",
    "## and rescale the inputs to be from (0-1)\n",
    "\n",
    "X_train_full = (X_train_full/255.0).astype('float32')\n",
    "y_train_full = y_train_full.astype('int32')\n",
    "\n",
    "X_test = (X_test/255.0).astype('float32')\n",
    "y_test = y_test.astype('int32')\n",
    "\n",
    "## split train to train & val\n",
    "X_train, X_val, y_train, y_val = train_test_split(X_train_full, y_train_full, \n",
    "                                                  test_size=0.1, shuffle=True)\n",
    "\n",
    "\n",
    "print('X_train_full shape =>', X_train_full.shape)\n",
    "print('y_train_full shape =>', y_train_full.shape)\n",
    "print('==='*15)\n",
    "print('X_train shape =>', X_train.shape)\n",
    "print('y_train shape =>', y_train.shape)\n",
    "print('==='*15)\n",
    "print('X_val shape =>', X_val.shape)\n",
    "print('y_val shape =>', y_val.shape)\n",
    "print('==='*15)\n",
    "print('X_test shape =>', X_test.shape)\n",
    "print('y_test shape =>', y_test.shape)\n",
    "print('==='*25)\n",
    "print('X_train , y_train -- dtypes =>', (X_train.dtype, y_train.dtype))\n",
    "print('X_val , y_val -- dtypes =>', (X_val.dtype, y_val.dtype))\n",
    "print('X_test , y_test -- dtypes =>', (X_test.dtype, y_test.dtype))"
   ]
  },
  {
   "cell_type": "code",
   "execution_count": 5,
   "id": "43a5fa06",
   "metadata": {},
   "outputs": [],
   "source": [
    "## what about the target\n",
    "## each target is represented by numbers , if we plot these matrices according to its numbers\n",
    "## we will get the corresponding photo to each number , i will do that "
   ]
  },
  {
   "cell_type": "code",
   "execution_count": 6,
   "id": "00affe9d",
   "metadata": {},
   "outputs": [
    {
     "data": {
      "image/png": "[encoded data removed]",
      "text/plain": [
       "<Figure size 864x432 with 10 Axes>"
      ]
     },
     "metadata": {
      "needs_background": "light"
     },
     "output_type": "display_data"
    }
   ],
   "source": [
    "target_only_plot = pd.DataFrame(y_train, columns=['target'])\n",
    "\n",
    "## get first index only i need only one unique value to test to \n",
    "## what this number belong to what photo (i hope you understand me)\n",
    "## although the images are diffrent for each class_name < like (coats have diffrent images)\n",
    "## but still have the same number of target, that what i only want\n",
    "\n",
    "img_indicies = {}\n",
    "\n",
    "for i in range(len(np.unique(y_train))):\n",
    "    img_indicies[i] = target_only_plot[target_only_plot['target']==i].index[0]   \n",
    "\n",
    "    \n",
    "keys = list(img_indicies.keys())\n",
    "\n",
    "fig, ax = plt.subplots(2, 5, figsize=(12, 6))\n",
    "\n",
    "plt.sca(ax[0,0])\n",
    "plt.imshow(X_train[img_indicies[0]], cmap='binary')\n",
    "plt.title(f'y == {keys[0]}')\n",
    "plt.axis('off')\n",
    "plt.sca(ax[0,1])\n",
    "plt.imshow(X_train[img_indicies[1]], cmap='binary')\n",
    "plt.title(f'y == {keys[1]}')\n",
    "plt.axis('off')\n",
    "plt.sca(ax[0,2])\n",
    "plt.imshow(X_train[img_indicies[2]], cmap='binary')\n",
    "plt.title(f'y == {keys[2]}')\n",
    "plt.axis('off')\n",
    "plt.sca(ax[0,3])\n",
    "plt.imshow(X_train[img_indicies[3]], cmap='binary')\n",
    "plt.title(f'y == {keys[3]}')\n",
    "plt.axis('off')\n",
    "plt.sca(ax[0,4])\n",
    "plt.imshow(X_train[img_indicies[4]], cmap='binary')\n",
    "plt.title(f'y == {keys[4]}')\n",
    "plt.axis('off')\n",
    "\n",
    "###################\n",
    "plt.sca(ax[1,0])\n",
    "plt.imshow(X_train[img_indicies[5]], cmap='binary')\n",
    "plt.title(f'y == {keys[5]}')\n",
    "plt.axis('off')\n",
    "plt.sca(ax[1,1])\n",
    "plt.imshow(X_train[img_indicies[6]], cmap='binary')\n",
    "plt.title(f'y == {keys[6]}')\n",
    "plt.axis('off')\n",
    "plt.sca(ax[1,2])\n",
    "plt.imshow(X_train[img_indicies[7]], cmap='binary')\n",
    "plt.title(f'y == {keys[7]}')\n",
    "plt.axis('off')\n",
    "plt.sca(ax[1,3])\n",
    "plt.imshow(X_train[img_indicies[8]], cmap='binary')\n",
    "plt.title(f'y == {keys[8]}')\n",
    "plt.axis('off')\n",
    "plt.sca(ax[1,4])\n",
    "plt.imshow(X_train[img_indicies[9]], cmap='binary')\n",
    "plt.title(f'y == {keys[9]}')\n",
    "plt.axis('off')\n",
    "plt.show()"
   ]
  },
  {
   "cell_type": "code",
   "execution_count": 7,
   "id": "eee698d9",
   "metadata": {},
   "outputs": [
    {
     "name": "stdout",
     "output_type": "stream",
     "text": [
      "y_train in row 1 => 0\n",
      "get its corresponding class => T_Shirt\n"
     ]
    }
   ],
   "source": [
    "### you can now know for each target value belong to what class\n",
    "class_names = ['T_Shirt', 'Trouser', 'Pullover', 'Dress', 'Coat', \n",
    "               'Sandal', 'Shirt', 'Sneaker','Bag', 'Ankle_Boot']\n",
    "\n",
    "\n",
    "## you can now work like this\n",
    "\n",
    "print('y_train in row 1 =>', y_train[0])\n",
    "print('get its corresponding class =>', class_names[y_train[0]])"
   ]
  },
  {
   "cell_type": "markdown",
   "id": "d3472b8a",
   "metadata": {},
   "source": [
    "### `Build the Model`"
   ]
  },
  {
   "cell_type": "code",
   "execution_count": 8,
   "id": "764354b7",
   "metadata": {},
   "outputs": [
    {
     "name": "stdout",
     "output_type": "stream",
     "text": [
      "Model: \"sequential\"\n",
      "_________________________________________________________________\n",
      "Layer (type)                 Output Shape              Param #   \n",
      "=================================================================\n",
      "flatten (Flatten)            (None, 784)               0         \n",
      "_________________________________________________________________\n",
      "dense (Dense)                (None, 300)               235500    \n",
      "_________________________________________________________________\n",
      "dense_1 (Dense)              (None, 100)               30100     \n",
      "_________________________________________________________________\n",
      "dense_2 (Dense)              (None, 10)                1010      \n",
      "=================================================================\n",
      "Total params: 266,610\n",
      "Trainable params: 266,610\n",
      "Non-trainable params: 0\n",
      "_________________________________________________________________\n"
     ]
    }
   ],
   "source": [
    "## model\n",
    "model_fashion = tf.keras.models.Sequential()\n",
    "\n",
    "## first flatten the input of each image\n",
    "model_fashion.add(tf.keras.layers.Flatten(input_shape=[28, 28]))\n",
    "model_fashion.add(tf.keras.layers.Dense(300, activation='relu'))\n",
    "model_fashion.add(tf.keras.layers.Dense(100, activation='relu'))\n",
    "model_fashion.add(tf.keras.layers.Dense(10, activation='softmax'))  ## 10 calss with sotmax function\n",
    "\n",
    "model_fashion.summary()"
   ]
  },
  {
   "cell_type": "code",
   "execution_count": 13,
   "id": "7e692583",
   "metadata": {},
   "outputs": [
    {
     "data": {
      "text/plain": [
       "[<tensorflow.python.keras.layers.core.Flatten at 0x148b6e53fa0>,\n",
       " <tensorflow.python.keras.layers.core.Dense at 0x148b6e53520>,\n",
       " <tensorflow.python.keras.layers.core.Dense at 0x148bc879310>,\n",
       " <tensorflow.python.keras.layers.core.Dense at 0x148bc879b20>]"
      ]
     },
     "execution_count": 13,
     "metadata": {},
     "output_type": "execute_result"
    }
   ],
   "source": [
    "## show the layers\n",
    "model_fashion.layers"
   ]
  },
  {
   "cell_type": "code",
   "execution_count": 27,
   "id": "871ad347",
   "metadata": {},
   "outputs": [
    {
     "data": {
      "image/png": "[encoded data removed]",
      "text/plain": [
       "<Figure size 432x288 with 1 Axes>"
      ]
     },
     "metadata": {
      "needs_background": "light"
     },
     "output_type": "display_data"
    }
   ],
   "source": [
    "### bias and weights ==> initialization \n",
    "## we will look at many initialization techniques later, by default it is (glorot_uniform) init.\n",
    "weights, biases = model_fashion.layers[1].get_weights()\n",
    "## returns initialization randomly of weights , their are many techniques as i said\n",
    "## for biases , their init. =\n",
    "\n",
    "## choose any features to show \n",
    "pd.DataFrame(weights).iloc[:,5].hist() ;  ## look as i said it is uniformly distributed :D"
   ]
  },
  {
   "cell_type": "code",
   "execution_count": 10,
   "id": "6950379b",
   "metadata": {},
   "outputs": [
    {
     "data": {
      "image/png": "[encoded data removed]",
      "text/plain": [
       "<IPython.core.display.Image object>"
      ]
     },
     "execution_count": 10,
     "metadata": {},
     "output_type": "execute_result"
    }
   ],
   "source": [
    "## you can also plot the model\n",
    "tf.keras.utils.plot_model(model_fashion, show_shapes=True)"
   ]
  },
  {
   "cell_type": "code",
   "execution_count": 11,
   "id": "3e7b9ac1",
   "metadata": {},
   "outputs": [],
   "source": [
    "## compile Model\n",
    "model_fashion.compile(loss='sparse_categorical_crossentropy', \n",
    "                      optimizer='sgd', \n",
    "                      metrics=['accuracy'])\n",
    "\n",
    "## Save the Model\n",
    "model_fashion.save('fashion_MNIST_Model.h5')\n",
    "\n",
    "## load the Model\n",
    "model_loaded_fashion = tf.keras.models.load_model('fashion_MNIST_Model.h5')"
   ]
  },
  {
   "cell_type": "code",
   "execution_count": 12,
   "id": "e40eb25d",
   "metadata": {
    "collapsed": true
   },
   "outputs": [
    {
     "name": "stdout",
     "output_type": "stream",
     "text": [
      "Epoch 1/50\n",
      "1688/1688 [==============================] - 8s 4ms/step - loss: 0.7159 - accuracy: 0.7670 - val_loss: 0.5280 - val_accuracy: 0.8272\n",
      "Epoch 2/50\n",
      "1688/1688 [==============================] - 8s 4ms/step - loss: 0.4854 - accuracy: 0.8298 - val_loss: 0.4988 - val_accuracy: 0.8237\n",
      "Epoch 3/50\n",
      "1688/1688 [==============================] - 7s 4ms/step - loss: 0.4394 - accuracy: 0.8465 - val_loss: 0.4585 - val_accuracy: 0.8450\n",
      "Epoch 4/50\n",
      "1688/1688 [==============================] - 7s 4ms/step - loss: 0.4133 - accuracy: 0.8557 - val_loss: 0.4318 - val_accuracy: 0.8542\n",
      "Epoch 5/50\n",
      "1688/1688 [==============================] - 7s 4ms/step - loss: 0.3935 - accuracy: 0.8616 - val_loss: 0.4079 - val_accuracy: 0.8633\n",
      "Epoch 6/50\n",
      "1688/1688 [==============================] - 7s 4ms/step - loss: 0.3766 - accuracy: 0.8678 - val_loss: 0.4851 - val_accuracy: 0.8278\n",
      "Epoch 7/50\n",
      "1688/1688 [==============================] - 7s 4ms/step - loss: 0.3637 - accuracy: 0.8730 - val_loss: 0.4015 - val_accuracy: 0.8628\n",
      "Epoch 8/50\n",
      "1688/1688 [==============================] - 7s 4ms/step - loss: 0.3509 - accuracy: 0.8767 - val_loss: 0.4043 - val_accuracy: 0.8588\n",
      "Epoch 9/50\n",
      "1688/1688 [==============================] - 7s 4ms/step - loss: 0.3410 - accuracy: 0.8784 - val_loss: 0.3755 - val_accuracy: 0.8685\n",
      "Epoch 10/50\n",
      "1688/1688 [==============================] - 7s 4ms/step - loss: 0.3324 - accuracy: 0.8814 - val_loss: 0.3944 - val_accuracy: 0.8643\n",
      "Epoch 11/50\n",
      "1688/1688 [==============================] - 7s 4ms/step - loss: 0.3231 - accuracy: 0.8848 - val_loss: 0.3545 - val_accuracy: 0.8758\n",
      "Epoch 12/50\n",
      "1688/1688 [==============================] - 7s 4ms/step - loss: 0.3158 - accuracy: 0.8868 - val_loss: 0.3671 - val_accuracy: 0.8673\n",
      "Epoch 13/50\n",
      "1688/1688 [==============================] - 7s 4ms/step - loss: 0.3080 - accuracy: 0.8897 - val_loss: 0.3572 - val_accuracy: 0.8715\n",
      "Epoch 14/50\n",
      "1688/1688 [==============================] - 7s 4ms/step - loss: 0.3024 - accuracy: 0.8927 - val_loss: 0.3432 - val_accuracy: 0.8775\n",
      "Epoch 15/50\n",
      "1688/1688 [==============================] - 7s 4ms/step - loss: 0.2947 - accuracy: 0.8948 - val_loss: 0.3528 - val_accuracy: 0.8738\n",
      "Epoch 16/50\n",
      "1688/1688 [==============================] - 9s 5ms/step - loss: 0.2898 - accuracy: 0.8963 - val_loss: 0.3596 - val_accuracy: 0.8735\n",
      "Epoch 17/50\n",
      "1688/1688 [==============================] - 8s 5ms/step - loss: 0.2834 - accuracy: 0.8978 - val_loss: 0.3431 - val_accuracy: 0.8752\n",
      "Epoch 18/50\n",
      "1688/1688 [==============================] - 8s 4ms/step - loss: 0.2785 - accuracy: 0.8990 - val_loss: 0.3325 - val_accuracy: 0.8822\n",
      "Epoch 19/50\n",
      "1688/1688 [==============================] - 8s 5ms/step - loss: 0.2728 - accuracy: 0.9021 - val_loss: 0.3533 - val_accuracy: 0.8722\n",
      "Epoch 20/50\n",
      "1688/1688 [==============================] - 8s 5ms/step - loss: 0.2680 - accuracy: 0.9037 - val_loss: 0.3285 - val_accuracy: 0.8800\n",
      "Epoch 21/50\n",
      "1688/1688 [==============================] - 8s 5ms/step - loss: 0.2629 - accuracy: 0.9056 - val_loss: 0.3319 - val_accuracy: 0.8783\n",
      "Epoch 22/50\n",
      "1688/1688 [==============================] - 8s 5ms/step - loss: 0.2595 - accuracy: 0.9068 - val_loss: 0.3292 - val_accuracy: 0.8803\n",
      "Epoch 23/50\n",
      "1688/1688 [==============================] - 8s 5ms/step - loss: 0.2545 - accuracy: 0.9092 - val_loss: 0.3237 - val_accuracy: 0.8800\n",
      "Epoch 24/50\n",
      "1688/1688 [==============================] - 8s 5ms/step - loss: 0.2507 - accuracy: 0.9098 - val_loss: 0.3246 - val_accuracy: 0.8862\n",
      "Epoch 25/50\n",
      "1688/1688 [==============================] - 8s 5ms/step - loss: 0.2460 - accuracy: 0.9118 - val_loss: 0.3236 - val_accuracy: 0.8823\n",
      "Epoch 26/50\n",
      "1688/1688 [==============================] - 8s 5ms/step - loss: 0.2418 - accuracy: 0.9134 - val_loss: 0.3505 - val_accuracy: 0.8767\n",
      "Epoch 27/50\n",
      "1688/1688 [==============================] - 8s 5ms/step - loss: 0.2392 - accuracy: 0.9138 - val_loss: 0.3303 - val_accuracy: 0.8823\n",
      "Epoch 28/50\n",
      "1688/1688 [==============================] - 8s 5ms/step - loss: 0.2355 - accuracy: 0.9158 - val_loss: 0.3438 - val_accuracy: 0.8772\n",
      "Epoch 29/50\n",
      "1688/1688 [==============================] - 8s 5ms/step - loss: 0.2308 - accuracy: 0.9180 - val_loss: 0.3185 - val_accuracy: 0.8853\n",
      "Epoch 30/50\n",
      "1688/1688 [==============================] - 8s 5ms/step - loss: 0.2263 - accuracy: 0.9188 - val_loss: 0.3257 - val_accuracy: 0.8840\n",
      "Epoch 31/50\n",
      "1688/1688 [==============================] - 8s 5ms/step - loss: 0.2232 - accuracy: 0.9195 - val_loss: 0.3258 - val_accuracy: 0.8858\n",
      "Epoch 32/50\n",
      "1688/1688 [==============================] - 8s 5ms/step - loss: 0.2190 - accuracy: 0.9215 - val_loss: 0.3141 - val_accuracy: 0.8897\n",
      "Epoch 33/50\n",
      "1688/1688 [==============================] - 8s 5ms/step - loss: 0.2163 - accuracy: 0.9226 - val_loss: 0.3240 - val_accuracy: 0.8873\n",
      "Epoch 34/50\n",
      "1688/1688 [==============================] - 8s 5ms/step - loss: 0.2131 - accuracy: 0.9241 - val_loss: 0.3257 - val_accuracy: 0.8818\n",
      "Epoch 35/50\n",
      "1688/1688 [==============================] - 8s 5ms/step - loss: 0.2082 - accuracy: 0.9256 - val_loss: 0.3291 - val_accuracy: 0.8835\n",
      "Epoch 36/50\n",
      "1688/1688 [==============================] - 8s 5ms/step - loss: 0.2057 - accuracy: 0.9255 - val_loss: 0.3381 - val_accuracy: 0.8805\n",
      "Epoch 37/50\n",
      "1688/1688 [==============================] - 8s 5ms/step - loss: 0.2035 - accuracy: 0.9270 - val_loss: 0.3212 - val_accuracy: 0.8857\n",
      "Epoch 38/50\n",
      "1688/1688 [==============================] - 7s 4ms/step - loss: 0.1999 - accuracy: 0.9277 - val_loss: 0.3161 - val_accuracy: 0.8943\n",
      "Epoch 39/50\n",
      "1688/1688 [==============================] - 8s 5ms/step - loss: 0.1955 - accuracy: 0.9303 - val_loss: 0.3214 - val_accuracy: 0.8880\n",
      "Epoch 40/50\n",
      "1688/1688 [==============================] - 8s 5ms/step - loss: 0.1932 - accuracy: 0.9303 - val_loss: 0.3110 - val_accuracy: 0.8895\n",
      "Epoch 41/50\n",
      "1688/1688 [==============================] - 9s 5ms/step - loss: 0.1904 - accuracy: 0.9314 - val_loss: 0.3102 - val_accuracy: 0.8903\n",
      "Epoch 42/50\n",
      "1688/1688 [==============================] - 9s 5ms/step - loss: 0.1863 - accuracy: 0.9337 - val_loss: 0.3105 - val_accuracy: 0.8923\n",
      "Epoch 43/50\n",
      "1688/1688 [==============================] - 9s 5ms/step - loss: 0.1842 - accuracy: 0.9336 - val_loss: 0.3441 - val_accuracy: 0.8862\n",
      "Epoch 44/50\n",
      "1688/1688 [==============================] - 8s 5ms/step - loss: 0.1824 - accuracy: 0.9337 - val_loss: 0.3330 - val_accuracy: 0.8875\n",
      "Epoch 45/50\n",
      "1688/1688 [==============================] - 8s 5ms/step - loss: 0.1778 - accuracy: 0.9363 - val_loss: 0.3343 - val_accuracy: 0.8862\n",
      "Epoch 46/50\n",
      "1688/1688 [==============================] - 8s 5ms/step - loss: 0.1760 - accuracy: 0.9361 - val_loss: 0.3235 - val_accuracy: 0.8897\n",
      "Epoch 47/50\n",
      "1688/1688 [==============================] - 8s 5ms/step - loss: 0.1725 - accuracy: 0.9386 - val_loss: 0.3236 - val_accuracy: 0.8897\n",
      "Epoch 48/50\n",
      "1688/1688 [==============================] - 7s 4ms/step - loss: 0.1704 - accuracy: 0.9401 - val_loss: 0.3215 - val_accuracy: 0.8897\n",
      "Epoch 49/50\n",
      "1688/1688 [==============================] - 8s 5ms/step - loss: 0.1670 - accuracy: 0.9400 - val_loss: 0.3227 - val_accuracy: 0.8920\n",
      "Epoch 50/50\n",
      "1688/1688 [==============================] - 8s 5ms/step - loss: 0.1652 - accuracy: 0.9407 - val_loss: 0.3440 - val_accuracy: 0.8860\n"
     ]
    }
   ],
   "source": [
    "## Model CheckPoint\n",
    "check_point = tf.keras.callbacks.ModelCheckpoint('fashion_MNIST_Model.h5')\n",
    "\n",
    "## early_stopping callback to reduce overfitting\n",
    "early_stopp = tf.keras.callbacks.EarlyStopping(monitor='val_loss', \n",
    "                                               patience=10, restore_best_weights=True)\n",
    "\n",
    "## after you make a CheckPoint you should compile the model again\n",
    "model_loaded_fashion.compile(loss='sparse_categorical_crossentropy', \n",
    "                             optimizer='sgd', \n",
    "                             metrics=['accuracy'])\n",
    "## train the Model\n",
    "history = model_loaded_fashion.fit(X_train, y_train, \n",
    "                                    validation_data=(X_val, y_val), epochs=50, \n",
    "                                    callbacks=[early_stopp, check_point])"
   ]
  },
  {
   "cell_type": "code",
   "execution_count": 37,
   "id": "50c54b64",
   "metadata": {},
   "outputs": [
    {
     "data": {
      "image/png": "[encoded data removed]",
      "text/plain": [
       "<Figure size 576x360 with 1 Axes>"
      ]
     },
     "metadata": {
      "needs_background": "light"
     },
     "output_type": "display_data"
    }
   ],
   "source": [
    "## plotting training and validation\n",
    "\n",
    "history_info = history.history\n",
    "\n",
    "pd.DataFrame(history_info).plot(figsize=(8, 5))\n",
    "plt.xlabel('Epochs', fontsize=15)\n",
    "plt.legend(loc='lower left')\n",
    "plt.show()"
   ]
  },
  {
   "cell_type": "code",
   "execution_count": 77,
   "id": "cbd71fa8",
   "metadata": {},
   "outputs": [
    {
     "name": "stdout",
     "output_type": "stream",
     "text": [
      "loss_test => 0.3531602621078491\n",
      "acc_test => 0.8797000050544739\n",
      "============================================================\n",
      "values of prediction =>\n",
      " [9 2 1]\n",
      "\n",
      "getting equivalent class_names of these numbers\n",
      "\n",
      "y_predc_names ==> \n",
      " ['Ankle_Boot', 'Pullover', 'Trouser']\n",
      "===========================================================================\n"
     ]
    },
    {
     "data": {
      "image/png": "[encoded data removed]",
      "text/plain": [
       "<Figure size 1440x288 with 3 Axes>"
      ]
     },
     "metadata": {
      "needs_background": "light"
     },
     "output_type": "display_data"
    }
   ],
   "source": [
    "## evaluate on test set\n",
    "\n",
    "loss_test, acc_test = model_loaded_fashion.evaluate(X_test, y_test, verbose=0)\n",
    "print('loss_test =>', loss_test)\n",
    "print('acc_test =>', acc_test)   ## Not Bad\n",
    "\n",
    "\n",
    "print('==='*20)\n",
    "\n",
    "## to predict some data\n",
    "X_new = X_test[:3]\n",
    "y_new = y_test[:3]\n",
    "\n",
    "y_predc = np.argmax(model_loaded_fashion.predict(X_new), axis=-1)\n",
    "print('values of prediction =>\\n', y_predc)\n",
    "print()\n",
    "print('getting equivalent class_names of these numbers')\n",
    "print()\n",
    "## to get thier class_names < as mentioned before\n",
    "y_predc_names = [class_names[y_predc[i]] for i in range(len(y_predc))]  \n",
    "## OR this code also works ====> np.array(class_names)[y_predc]\n",
    "\n",
    "print('y_predc_names ==> \\n', y_predc_names)\n",
    "\n",
    "## visualize what we get in this cell\n",
    "print('==='*25)\n",
    "fig, ax = plt.subplots(1, 3, figsize=(20, 4))\n",
    "\n",
    "plt.sca(ax[0])\n",
    "plt.imshow(X_new[0], cmap='binary')\n",
    "plt.title(f'true = {y_new[0]}, pred = {y_predc[0]}, name = {y_predc_names[0]}')\n",
    "plt.axis('off')\n",
    "plt.sca(ax[1])\n",
    "plt.imshow(X_new[1], cmap='binary')\n",
    "plt.title(f'true = {y_new[1]}, pred = {y_predc[1]}, name = {y_predc_names[1]}')\n",
    "plt.axis('off')\n",
    "plt.sca(ax[2])\n",
    "plt.imshow(X_new[2], cmap='binary')\n",
    "plt.title(f'true = {y_new[2]}, pred = {y_predc[2]}, name = {y_predc_names[2]}')\n",
    "plt.axis('off');"
   ]
  },
  {
   "cell_type": "markdown",
   "id": "e520d3c4",
   "metadata": {},
   "source": [
    "### Regression Task"
   ]
  },
  {
   "cell_type": "code",
   "execution_count": 143,
   "id": "0323753e",
   "metadata": {},
   "outputs": [
    {
     "name": "stdout",
     "output_type": "stream",
     "text": [
      "X_housing shape => (20640, 8)\n",
      "y_housing shape => (20640,)\n",
      "=============================================\n",
      "X_train_full shape => (18576, 8)\n",
      "y_train_full shape => (18576,)\n",
      "=============================================\n",
      "X_train shape => (14860, 8)\n",
      "y_train shape => (14860,)\n",
      "=============================================\n",
      "X_val shape => (3716, 8)\n",
      "y_val shape => (3716,)\n",
      "=============================================\n",
      "X_test shape => (2064, 8)\n",
      "y_test shape => (2064,)\n"
     ]
    }
   ],
   "source": [
    "## load the data\n",
    "housing = datasets.fetch_california_housing()\n",
    "\n",
    "X = housing['data']\n",
    "y = housing['target']\n",
    "\n",
    "## split the data\n",
    "X_train_full, X_test, y_train_full, y_test = train_test_split(X, y, test_size=0.1, shuffle=True)\n",
    "\n",
    "## split to train and val\n",
    "X_train, X_val, y_train, y_val = train_test_split(X_train_full, y_train_full, \n",
    "                                                  test_size=0.2, shuffle=True)\n",
    "\n",
    "\n",
    "## scaling the data\n",
    "my_scaler = StandardScaler()\n",
    "X_train = my_scaler.fit_transform(X_train)\n",
    "X_val = my_scaler.transform(X_val)\n",
    "X_test = my_scaler.transform(X_test)\n",
    "\n",
    "\n",
    "print('X_housing shape =>', housing['data'].shape)\n",
    "print('y_housing shape =>', housing['target'].shape)\n",
    "print('==='*15)\n",
    "print('X_train_full shape =>', X_train_full.shape)\n",
    "print('y_train_full shape =>', y_train_full.shape)\n",
    "print('==='*15)\n",
    "print('X_train shape =>', X_train.shape)\n",
    "print('y_train shape =>', y_train.shape)\n",
    "print('==='*15)\n",
    "print('X_val shape =>', X_val.shape)\n",
    "print('y_val shape =>', y_val.shape)\n",
    "print('==='*15)\n",
    "print('X_test shape =>', X_test.shape)\n",
    "print('y_test shape =>', y_test.shape)"
   ]
  },
  {
   "cell_type": "code",
   "execution_count": 144,
   "id": "b8099b95",
   "metadata": {},
   "outputs": [
    {
     "name": "stdout",
     "output_type": "stream",
     "text": [
      "Model: \"sequential_5\"\n",
      "_________________________________________________________________\n",
      "Layer (type)                 Output Shape              Param #   \n",
      "=================================================================\n",
      "dense_16 (Dense)             (None, 10)                90        \n",
      "_________________________________________________________________\n",
      "dense_17 (Dense)             (None, 1)                 11        \n",
      "=================================================================\n",
      "Total params: 101\n",
      "Trainable params: 101\n",
      "Non-trainable params: 0\n",
      "_________________________________________________________________\n"
     ]
    }
   ],
   "source": [
    "## Build the Model\n",
    "\n",
    "model_housing = tf.keras.models.Sequential()\n",
    "\n",
    "model_housing.add(tf.keras.layers.InputLayer([8]))\n",
    "model_housing.add(tf.keras.layers.Dense(10, activation='relu'))\n",
    "model_housing.add(tf.keras.layers.Dense(1, activation=None))  ## one output value without activation\n",
    "\n",
    "model_housing.summary()"
   ]
  },
  {
   "cell_type": "code",
   "execution_count": 145,
   "id": "be2c80c0",
   "metadata": {},
   "outputs": [
    {
     "data": {
      "image/png": "[encoded data removed]",
      "text/plain": [
       "<IPython.core.display.Image object>"
      ]
     },
     "execution_count": 145,
     "metadata": {},
     "output_type": "execute_result"
    }
   ],
   "source": [
    "## plot the model\n",
    "tf.keras.utils.plot_model(model_housing, show_shapes=True, show_layer_names=True)"
   ]
  },
  {
   "cell_type": "code",
   "execution_count": 146,
   "id": "0038e56f",
   "metadata": {},
   "outputs": [
    {
     "name": "stdout",
     "output_type": "stream",
     "text": [
      "Epoch 1/30\n",
      "465/465 [==============================] - 3s 6ms/step - loss: 1.7101 - mae: 0.9677 - val_loss: 0.7689 - val_mae: 0.6422\n",
      "Epoch 2/30\n",
      "465/465 [==============================] - 3s 6ms/step - loss: 0.6368 - mae: 0.5752 - val_loss: 0.5801 - val_mae: 0.5457\n",
      "Epoch 3/30\n",
      "465/465 [==============================] - 3s 7ms/step - loss: 0.6221 - mae: 0.5161 - val_loss: 0.5103 - val_mae: 0.5120\n",
      "Epoch 4/30\n",
      "465/465 [==============================] - 3s 7ms/step - loss: 0.5759 - mae: 0.4924 - val_loss: 0.4781 - val_mae: 0.4959\n",
      "Epoch 5/30\n",
      "465/465 [==============================] - 3s 7ms/step - loss: 0.5291 - mae: 0.4791 - val_loss: 0.4632 - val_mae: 0.4916\n",
      "Epoch 6/30\n",
      "465/465 [==============================] - 3s 6ms/step - loss: 0.4827 - mae: 0.4723 - val_loss: 0.4561 - val_mae: 0.4808\n",
      "Epoch 7/30\n",
      "465/465 [==============================] - 3s 6ms/step - loss: 0.4531 - mae: 0.4671 - val_loss: 0.4430 - val_mae: 0.4846\n",
      "Epoch 8/30\n",
      "465/465 [==============================] - 3s 7ms/step - loss: 0.4409 - mae: 0.4633 - val_loss: 0.4355 - val_mae: 0.4801\n",
      "Epoch 9/30\n",
      "465/465 [==============================] - 3s 7ms/step - loss: 0.4241 - mae: 0.4597 - val_loss: 0.4363 - val_mae: 0.4706\n",
      "Epoch 10/30\n",
      "465/465 [==============================] - 3s 6ms/step - loss: 0.4136 - mae: 0.4565 - val_loss: 0.4308 - val_mae: 0.4714\n",
      "Epoch 11/30\n",
      "465/465 [==============================] - 3s 7ms/step - loss: 0.4045 - mae: 0.4525 - val_loss: 0.4198 - val_mae: 0.4715\n",
      "Epoch 12/30\n",
      "465/465 [==============================] - 3s 7ms/step - loss: 0.4007 - mae: 0.4506 - val_loss: 0.4192 - val_mae: 0.4632\n",
      "Epoch 13/30\n",
      "465/465 [==============================] - 3s 7ms/step - loss: 0.3958 - mae: 0.4477 - val_loss: 0.4135 - val_mae: 0.4628\n",
      "Epoch 14/30\n",
      "465/465 [==============================] - 3s 6ms/step - loss: 0.3929 - mae: 0.4460 - val_loss: 0.4113 - val_mae: 0.4570\n",
      "Epoch 15/30\n",
      "465/465 [==============================] - 3s 6ms/step - loss: 0.3897 - mae: 0.4440 - val_loss: 0.4100 - val_mae: 0.4556\n",
      "Epoch 16/30\n",
      "465/465 [==============================] - 3s 6ms/step - loss: 0.3882 - mae: 0.4433 - val_loss: 0.4077 - val_mae: 0.4569\n",
      "Epoch 17/30\n",
      "465/465 [==============================] - 3s 6ms/step - loss: 0.3866 - mae: 0.4416 - val_loss: 0.4053 - val_mae: 0.4542\n",
      "Epoch 18/30\n",
      "465/465 [==============================] - 3s 6ms/step - loss: 0.3846 - mae: 0.4410 - val_loss: 0.4019 - val_mae: 0.4535\n",
      "Epoch 19/30\n",
      "465/465 [==============================] - 3s 6ms/step - loss: 0.3835 - mae: 0.4397 - val_loss: 0.4020 - val_mae: 0.4556\n",
      "Epoch 20/30\n",
      "465/465 [==============================] - 3s 6ms/step - loss: 0.3801 - mae: 0.4380 - val_loss: 0.4034 - val_mae: 0.4518\n",
      "Epoch 21/30\n",
      "465/465 [==============================] - 3s 6ms/step - loss: 0.3781 - mae: 0.4374 - val_loss: 0.3975 - val_mae: 0.4471\n",
      "Epoch 22/30\n",
      "465/465 [==============================] - 3s 6ms/step - loss: 0.3766 - mae: 0.4364 - val_loss: 0.3971 - val_mae: 0.4469\n",
      "Epoch 23/30\n",
      "465/465 [==============================] - 3s 6ms/step - loss: 0.3763 - mae: 0.4358 - val_loss: 0.3937 - val_mae: 0.4480\n",
      "Epoch 24/30\n",
      "465/465 [==============================] - 3s 6ms/step - loss: 0.3715 - mae: 0.4342 - val_loss: 0.3922 - val_mae: 0.4460\n",
      "Epoch 25/30\n",
      "465/465 [==============================] - 3s 6ms/step - loss: 0.3696 - mae: 0.4327 - val_loss: 0.3939 - val_mae: 0.4561\n",
      "Epoch 26/30\n",
      "465/465 [==============================] - 3s 6ms/step - loss: 0.3725 - mae: 0.4329 - val_loss: 0.3925 - val_mae: 0.4420\n",
      "Epoch 27/30\n",
      "465/465 [==============================] - 3s 6ms/step - loss: 0.3669 - mae: 0.4311 - val_loss: 0.3848 - val_mae: 0.4451\n",
      "Epoch 28/30\n",
      "465/465 [==============================] - 3s 7ms/step - loss: 0.3655 - mae: 0.4298 - val_loss: 0.3840 - val_mae: 0.4396\n",
      "Epoch 29/30\n",
      "465/465 [==============================] - 3s 7ms/step - loss: 0.3627 - mae: 0.4282 - val_loss: 0.3853 - val_mae: 0.4373\n",
      "Epoch 30/30\n",
      "465/465 [==============================] - 3s 7ms/step - loss: 0.3609 - mae: 0.4264 - val_loss: 0.3812 - val_mae: 0.4479\n"
     ]
    }
   ],
   "source": [
    "## compile the model\n",
    "model_housing.compile(loss='mse', optimizer='rmsprop', metrics=['mae'])\n",
    "\n",
    "\n",
    "early_stopp = tf.keras.callbacks.EarlyStopping(patience=10, restore_best_weights=True)\n",
    "## fit the model\n",
    "histroy = model_housing.fit(X_train, y_train, \n",
    "                            validation_data=(X_val, y_val), \n",
    "                            epochs=30, batch_size=32, callbacks=[early_stopp])"
   ]
  },
  {
   "cell_type": "code",
   "execution_count": 147,
   "id": "4cc263f5",
   "metadata": {},
   "outputs": [],
   "source": [
    "## save the Model\n",
    "model_housing.save('Housing_Model.h5')"
   ]
  },
  {
   "cell_type": "markdown",
   "id": "c8361ebd",
   "metadata": {},
   "source": [
    "## ` Functional API`\n",
    "\n",
    "`i will apply Functional API and subclassing to above Regression Task`"
   ]
  },
  {
   "cell_type": "markdown",
   "id": "c2f08a62",
   "metadata": {},
   "source": [
    "`Model 1 ==> Functional`"
   ]
  },
  {
   "cell_type": "code",
   "execution_count": 148,
   "id": "53886545",
   "metadata": {
    "scrolled": true
   },
   "outputs": [
    {
     "data": {
      "text/plain": [
       "(8,)"
      ]
     },
     "execution_count": 148,
     "metadata": {},
     "output_type": "execute_result"
    }
   ],
   "source": [
    "X_train.shape[1:]"
   ]
  },
  {
   "cell_type": "code",
   "execution_count": 149,
   "id": "781b6277",
   "metadata": {},
   "outputs": [
    {
     "name": "stdout",
     "output_type": "stream",
     "text": [
      "Model: \"model_4\"\n",
      "__________________________________________________________________________________________________\n",
      "Layer (type)                    Output Shape         Param #     Connected to                     \n",
      "==================================================================================================\n",
      "input_8 (InputLayer)            [(None, 8)]          0                                            \n",
      "__________________________________________________________________________________________________\n",
      "dense_18 (Dense)                (None, 30)           270         input_8[0][0]                    \n",
      "__________________________________________________________________________________________________\n",
      "dense_19 (Dense)                (None, 30)           930         dense_18[0][0]                   \n",
      "__________________________________________________________________________________________________\n",
      "concatenate_4 (Concatenate)     (None, 38)           0           input_8[0][0]                    \n",
      "                                                                 dense_19[0][0]                   \n",
      "__________________________________________________________________________________________________\n",
      "dense_20 (Dense)                (None, 1)            39          concatenate_4[0][0]              \n",
      "==================================================================================================\n",
      "Total params: 1,239\n",
      "Trainable params: 1,239\n",
      "Non-trainable params: 0\n",
      "__________________________________________________________________________________________________\n"
     ]
    }
   ],
   "source": [
    "## Build your Model\n",
    "## i will plot it below to pure understanding what i am trying to do\n",
    "\n",
    "## input layer , in functional API use Input instead of InputLayer\n",
    "input_total = tf.keras.layers.Input([X_train.shape[1]])\n",
    "## two hidden layers\n",
    "hidden_1 = tf.keras.layers.Dense(30, activation='relu')(input_total)\n",
    "hidden_2 = tf.keras.layers.Dense(30, activation='relu')(hidden_1)\n",
    "## conact both hidden_2 with input_total\n",
    "#this is the form of a technique called skip connection or residual\n",
    "#connection to help to alleviate vanishing gradients\n",
    "concat = tf.keras.layers.concatenate([input_total, hidden_2])\n",
    "output = tf.keras.layers.Dense(1, activation=None)(concat)\n",
    "\n",
    "## get the Model\n",
    "model_func = tf.keras.Model(inputs=[input_total], outputs=[output])\n",
    "\n",
    "model_func.summary()"
   ]
  },
  {
   "cell_type": "code",
   "execution_count": 150,
   "id": "75119c41",
   "metadata": {},
   "outputs": [
    {
     "data": {
      "image/png": "[encoded data removed]",
      "text/plain": [
       "<IPython.core.display.Image object>"
      ]
     },
     "execution_count": 150,
     "metadata": {},
     "output_type": "execute_result"
    }
   ],
   "source": [
    "## plot the model\n",
    "tf.keras.utils.plot_model(model=model_func, show_layer_names=True, show_shapes=True)\n",
    "## i think it is clear now what i am trying to do, now you can compile and build your model"
   ]
  },
  {
   "cell_type": "code",
   "execution_count": 151,
   "id": "b252b58e",
   "metadata": {},
   "outputs": [
    {
     "name": "stdout",
     "output_type": "stream",
     "text": [
      "Epoch 1/30\n",
      "465/465 [==============================] - 4s 8ms/step - loss: 0.9665 - mae: 0.6731 - val_loss: 0.4937 - val_mae: 0.5047\n",
      "Epoch 2/30\n",
      "465/465 [==============================] - 4s 8ms/step - loss: 0.5527 - mae: 0.4686 - val_loss: 0.4484 - val_mae: 0.4617\n",
      "Epoch 3/30\n",
      "465/465 [==============================] - 4s 8ms/step - loss: 0.5417 - mae: 0.4487 - val_loss: 0.4053 - val_mae: 0.4471\n",
      "Epoch 4/30\n",
      "465/465 [==============================] - 4s 8ms/step - loss: 0.4362 - mae: 0.4350 - val_loss: 0.3826 - val_mae: 0.4424\n",
      "Epoch 5/30\n",
      "465/465 [==============================] - 4s 8ms/step - loss: 0.3813 - mae: 0.4265 - val_loss: 0.3683 - val_mae: 0.4276\n",
      "Epoch 6/30\n",
      "465/465 [==============================] - 3s 8ms/step - loss: 0.3515 - mae: 0.4160 - val_loss: 0.3638 - val_mae: 0.4337\n",
      "Epoch 7/30\n",
      "465/465 [==============================] - 3s 7ms/step - loss: 0.3437 - mae: 0.4101 - val_loss: 0.3559 - val_mae: 0.4193\n",
      "Epoch 8/30\n",
      "465/465 [==============================] - 4s 8ms/step - loss: 0.3334 - mae: 0.4034 - val_loss: 0.3492 - val_mae: 0.4196\n",
      "Epoch 9/30\n",
      "465/465 [==============================] - 4s 8ms/step - loss: 0.3263 - mae: 0.3987 - val_loss: 0.3519 - val_mae: 0.4335\n",
      "Epoch 10/30\n",
      "465/465 [==============================] - 4s 8ms/step - loss: 0.3226 - mae: 0.3955 - val_loss: 0.3377 - val_mae: 0.3990\n",
      "Epoch 11/30\n",
      "465/465 [==============================] - 4s 8ms/step - loss: 0.3156 - mae: 0.3909 - val_loss: 0.3316 - val_mae: 0.4073\n",
      "Epoch 12/30\n",
      "465/465 [==============================] - 4s 8ms/step - loss: 0.3123 - mae: 0.3872 - val_loss: 0.3278 - val_mae: 0.4111\n",
      "Epoch 13/30\n",
      "465/465 [==============================] - 4s 8ms/step - loss: 0.3087 - mae: 0.3838 - val_loss: 0.3298 - val_mae: 0.3924\n",
      "Epoch 14/30\n",
      "465/465 [==============================] - 4s 8ms/step - loss: 0.3051 - mae: 0.3807 - val_loss: 0.3196 - val_mae: 0.3920\n",
      "Epoch 15/30\n",
      "465/465 [==============================] - 4s 8ms/step - loss: 0.2998 - mae: 0.3767 - val_loss: 0.3206 - val_mae: 0.3848\n",
      "Epoch 16/30\n",
      "465/465 [==============================] - 4s 8ms/step - loss: 0.2993 - mae: 0.3758 - val_loss: 0.3425 - val_mae: 0.4012\n",
      "Epoch 17/30\n",
      "465/465 [==============================] - 3s 7ms/step - loss: 0.2951 - mae: 0.3740 - val_loss: 0.3149 - val_mae: 0.3959\n",
      "Epoch 18/30\n",
      "465/465 [==============================] - 3s 7ms/step - loss: 0.2937 - mae: 0.3723 - val_loss: 0.3075 - val_mae: 0.3840\n",
      "Epoch 19/30\n",
      "465/465 [==============================] - 3s 7ms/step - loss: 0.2924 - mae: 0.3704 - val_loss: 0.3478 - val_mae: 0.3917\n",
      "Epoch 20/30\n",
      "465/465 [==============================] - 3s 7ms/step - loss: 0.2878 - mae: 0.3690 - val_loss: 0.3059 - val_mae: 0.3783\n",
      "Epoch 21/30\n",
      "465/465 [==============================] - 4s 8ms/step - loss: 0.2868 - mae: 0.3664 - val_loss: 0.3086 - val_mae: 0.3774\n",
      "Epoch 22/30\n",
      "465/465 [==============================] - 3s 7ms/step - loss: 0.2893 - mae: 0.3670 - val_loss: 0.3152 - val_mae: 0.3726\n",
      "Epoch 23/30\n",
      "465/465 [==============================] - 3s 7ms/step - loss: 0.2853 - mae: 0.3653 - val_loss: 0.3247 - val_mae: 0.3701\n",
      "Epoch 24/30\n",
      "465/465 [==============================] - 4s 8ms/step - loss: 0.2816 - mae: 0.3644 - val_loss: 0.2995 - val_mae: 0.3775\n",
      "Epoch 25/30\n",
      "465/465 [==============================] - 3s 7ms/step - loss: 0.2902 - mae: 0.3635 - val_loss: 0.3020 - val_mae: 0.3747\n",
      "Epoch 26/30\n",
      "465/465 [==============================] - 3s 7ms/step - loss: 0.2853 - mae: 0.3626 - val_loss: 0.2969 - val_mae: 0.3638\n",
      "Epoch 27/30\n",
      "465/465 [==============================] - 3s 7ms/step - loss: 0.2799 - mae: 0.3597 - val_loss: 0.3065 - val_mae: 0.3775\n",
      "Epoch 28/30\n",
      "465/465 [==============================] - 3s 7ms/step - loss: 0.2787 - mae: 0.3606 - val_loss: 0.3060 - val_mae: 0.3859\n",
      "Epoch 29/30\n",
      "465/465 [==============================] - 3s 7ms/step - loss: 0.2736 - mae: 0.3587 - val_loss: 0.2885 - val_mae: 0.3680\n",
      "Epoch 30/30\n",
      "465/465 [==============================] - 3s 7ms/step - loss: 0.2741 - mae: 0.3576 - val_loss: 0.2974 - val_mae: 0.3794\n"
     ]
    }
   ],
   "source": [
    "## compile the model\n",
    "model_func.compile(loss='mse', optimizer='rmsprop', metrics=['mae'])\n",
    "\n",
    "\n",
    "early_stopp = tf.keras.callbacks.EarlyStopping(patience=10, restore_best_weights=True)\n",
    "## fit the model\n",
    "histroy = model_func.fit(X_train, y_train, \n",
    "                        validation_data=(X_val, y_val), \n",
    "                        epochs=30, batch_size=32, callbacks=[early_stopp])"
   ]
  },
  {
   "cell_type": "code",
   "execution_count": 152,
   "id": "05f4d64c",
   "metadata": {},
   "outputs": [],
   "source": [
    "## save the Model\n",
    "model_func.save('Housing_Model_functional_1.h5')"
   ]
  },
  {
   "cell_type": "markdown",
   "id": "4a3b2e97",
   "metadata": {},
   "source": [
    "`Model 2 ==> Functional`"
   ]
  },
  {
   "cell_type": "code",
   "execution_count": 153,
   "id": "dad44094",
   "metadata": {},
   "outputs": [
    {
     "name": "stdout",
     "output_type": "stream",
     "text": [
      "A_shape => (14860, 5)\n",
      "B_shape => (14860, 3)\n"
     ]
    }
   ],
   "source": [
    "## for input A and B respectively\n",
    "A_shape = X_train[:, :5].shape\n",
    "B_shape = X_train[:, 5:].shape  \n",
    "\n",
    "print('A_shape =>', A_shape)\n",
    "print('B_shape =>', B_shape)\n",
    "## here i deceided to take take the first 5 features as Input_A, and other 3 features as Input_B"
   ]
  },
  {
   "cell_type": "code",
   "execution_count": 154,
   "id": "1e04cdf3",
   "metadata": {},
   "outputs": [
    {
     "name": "stdout",
     "output_type": "stream",
     "text": [
      "Model: \"model_5\"\n",
      "__________________________________________________________________________________________________\n",
      "Layer (type)                    Output Shape         Param #     Connected to                     \n",
      "==================================================================================================\n",
      "input_B (InputLayer)            [(None, 3)]          0                                            \n",
      "__________________________________________________________________________________________________\n",
      "hidden_1 (Dense)                (None, 30)           120         input_B[0][0]                    \n",
      "__________________________________________________________________________________________________\n",
      "input_A (InputLayer)            [(None, 5)]          0                                            \n",
      "__________________________________________________________________________________________________\n",
      "hidden_2 (Dense)                (None, 30)           930         hidden_1[0][0]                   \n",
      "__________________________________________________________________________________________________\n",
      "concatenate_5 (Concatenate)     (None, 35)           0           input_A[0][0]                    \n",
      "                                                                 hidden_2[0][0]                   \n",
      "__________________________________________________________________________________________________\n",
      "output (Dense)                  (None, 1)            36          concatenate_5[0][0]              \n",
      "==================================================================================================\n",
      "Total params: 1,086\n",
      "Trainable params: 1,086\n",
      "Non-trainable params: 0\n",
      "__________________________________________________________________________________________________\n"
     ]
    }
   ],
   "source": [
    "## Build the Model\n",
    "\n",
    "## InputLayers\n",
    "## in functional API use Input instead of InputLayer\n",
    "input_A = tf.keras.layers.Input(A_shape[1], name='input_A')\n",
    "input_B = tf.keras.layers.Input(B_shape[1], name='input_B')\n",
    "## Hidden Layers\n",
    "hidden_1 = tf.keras.layers.Dense(30, activation='relu', name='hidden_1')(input_B)\n",
    "hidden_2 = tf.keras.layers.Dense(30, activation='relu', name='hidden_2')(hidden_1)\n",
    "# concat and output\n",
    "concat = tf.keras.layers.concatenate([input_A, hidden_2])\n",
    "output = tf.keras.layers.Dense(1, activation=None, name='output')(concat)\n",
    "# get the model\n",
    "model_func = tf.keras.Model(inputs=[input_A, input_B], outputs=[output])\n",
    "\n",
    "model_func.summary()"
   ]
  },
  {
   "cell_type": "code",
   "execution_count": 155,
   "id": "568b53bb",
   "metadata": {},
   "outputs": [
    {
     "data": {
      "image/png": "[encoded data removed]",
      "text/plain": [
       "<IPython.core.display.Image object>"
      ]
     },
     "execution_count": 155,
     "metadata": {},
     "output_type": "execute_result"
    }
   ],
   "source": [
    "## plot the model\n",
    "tf.keras.utils.plot_model(model_func, show_layer_names=True, show_shapes=True)  \n",
    "## i think it is now clear what this complex model is\n",
    "## you can write your custom Model and do what ever you want >>>> AGOOR"
   ]
  },
  {
   "cell_type": "code",
   "execution_count": 161,
   "id": "7fabaf6f",
   "metadata": {},
   "outputs": [],
   "source": [
    "### note when you fit the model, it required two inputs and one output  (VERY IMPORTANT!)\n",
    "## as i did here\n",
    "X_train_A, X_train_B = X_train[:,:5], X_train[:,5:]\n",
    "X_val_A, X_val_B = X_val[:,:5], X_val[:,5:]\n",
    "X_test_A, X_test_B = X_test[:,:5], X_test[:,5:]\n",
    "\n",
    "## to predict new classes\n",
    "X_new_A, X_new_B = X_test_A[:3], X_test_B[:3]\n",
    "y_new = y_test[:3]"
   ]
  },
  {
   "cell_type": "code",
   "execution_count": 159,
   "id": "5cd585a2",
   "metadata": {},
   "outputs": [
    {
     "name": "stdout",
     "output_type": "stream",
     "text": [
      "Epoch 1/30\n",
      "465/465 [==============================] - 4s 8ms/step - loss: 1.3796 - mae: 0.8487 - val_loss: 0.7057 - val_mae: 0.6409\n",
      "Epoch 2/30\n",
      "465/465 [==============================] - 4s 8ms/step - loss: 0.5200 - mae: 0.5234 - val_loss: 0.4507 - val_mae: 0.4963\n",
      "Epoch 3/30\n",
      "465/465 [==============================] - 4s 8ms/step - loss: 0.4059 - mae: 0.4601 - val_loss: 0.4045 - val_mae: 0.4569\n",
      "Epoch 4/30\n",
      "465/465 [==============================] - 3s 7ms/step - loss: 0.4462 - mae: 0.4460 - val_loss: 0.3900 - val_mae: 0.4611\n",
      "Epoch 5/30\n",
      "465/465 [==============================] - 3s 7ms/step - loss: 0.4153 - mae: 0.4368 - val_loss: 0.3959 - val_mae: 0.4689\n",
      "Epoch 6/30\n",
      "465/465 [==============================] - 3s 7ms/step - loss: 0.4105 - mae: 0.4319 - val_loss: 0.3786 - val_mae: 0.4438\n",
      "Epoch 7/30\n",
      "465/465 [==============================] - 4s 8ms/step - loss: 0.4028 - mae: 0.4284 - val_loss: 0.3644 - val_mae: 0.4349\n",
      "Epoch 8/30\n",
      "465/465 [==============================] - 4s 8ms/step - loss: 0.4112 - mae: 0.4255 - val_loss: 0.3755 - val_mae: 0.4296\n",
      "Epoch 9/30\n",
      "465/465 [==============================] - 4s 8ms/step - loss: 0.3739 - mae: 0.4232 - val_loss: 0.3896 - val_mae: 0.4521\n",
      "Epoch 10/30\n",
      "465/465 [==============================] - 4s 8ms/step - loss: 0.3697 - mae: 0.4221 - val_loss: 0.3706 - val_mae: 0.4200\n",
      "Epoch 11/30\n",
      "465/465 [==============================] - 4s 8ms/step - loss: 0.3530 - mae: 0.4197 - val_loss: 0.3674 - val_mae: 0.4452\n",
      "Epoch 12/30\n",
      "465/465 [==============================] - 4s 9ms/step - loss: 0.3652 - mae: 0.4200 - val_loss: 0.3674 - val_mae: 0.4258\n",
      "Epoch 13/30\n",
      "465/465 [==============================] - 4s 8ms/step - loss: 0.3513 - mae: 0.4184 - val_loss: 0.3845 - val_mae: 0.4674\n",
      "Epoch 14/30\n",
      "465/465 [==============================] - 4s 8ms/step - loss: 0.3505 - mae: 0.4176 - val_loss: 0.3650 - val_mae: 0.4243\n",
      "Epoch 15/30\n",
      "465/465 [==============================] - 4s 8ms/step - loss: 0.3553 - mae: 0.4165 - val_loss: 0.3779 - val_mae: 0.4540\n",
      "Epoch 16/30\n",
      "465/465 [==============================] - 4s 8ms/step - loss: 0.3536 - mae: 0.4178 - val_loss: 0.3614 - val_mae: 0.4270\n",
      "Epoch 17/30\n",
      "465/465 [==============================] - 4s 8ms/step - loss: 0.3515 - mae: 0.4155 - val_loss: 0.3600 - val_mae: 0.4329\n",
      "Epoch 18/30\n",
      "465/465 [==============================] - 4s 8ms/step - loss: 0.3468 - mae: 0.4145 - val_loss: 0.3543 - val_mae: 0.4242\n",
      "Epoch 19/30\n",
      "465/465 [==============================] - 4s 8ms/step - loss: 0.3458 - mae: 0.4146 - val_loss: 0.3580 - val_mae: 0.4245\n",
      "Epoch 20/30\n",
      "465/465 [==============================] - 4s 8ms/step - loss: 0.3523 - mae: 0.4127 - val_loss: 0.3571 - val_mae: 0.4168\n",
      "Epoch 21/30\n",
      "465/465 [==============================] - 4s 8ms/step - loss: 0.3487 - mae: 0.4137 - val_loss: 0.3619 - val_mae: 0.4209\n",
      "Epoch 22/30\n",
      "465/465 [==============================] - 4s 8ms/step - loss: 0.3457 - mae: 0.4119 - val_loss: 0.3719 - val_mae: 0.4322\n",
      "Epoch 23/30\n",
      "465/465 [==============================] - 4s 8ms/step - loss: 0.3491 - mae: 0.4125 - val_loss: 0.3734 - val_mae: 0.4451\n",
      "Epoch 24/30\n",
      "465/465 [==============================] - 4s 8ms/step - loss: 0.3407 - mae: 0.4106 - val_loss: 0.3727 - val_mae: 0.4339\n",
      "Epoch 25/30\n",
      "465/465 [==============================] - 4s 8ms/step - loss: 0.3489 - mae: 0.4112 - val_loss: 0.3805 - val_mae: 0.4305\n",
      "Epoch 26/30\n",
      "465/465 [==============================] - 4s 8ms/step - loss: 0.3447 - mae: 0.4097 - val_loss: 0.3506 - val_mae: 0.4137\n",
      "Epoch 27/30\n",
      "465/465 [==============================] - 4s 8ms/step - loss: 0.3407 - mae: 0.4093 - val_loss: 0.3612 - val_mae: 0.4191\n",
      "Epoch 28/30\n",
      "465/465 [==============================] - 4s 8ms/step - loss: 0.3464 - mae: 0.4097 - val_loss: 0.3533 - val_mae: 0.4249\n",
      "Epoch 29/30\n",
      "465/465 [==============================] - 4s 8ms/step - loss: 0.3507 - mae: 0.4091 - val_loss: 0.3598 - val_mae: 0.4116\n",
      "Epoch 30/30\n",
      "465/465 [==============================] - 4s 8ms/step - loss: 0.3386 - mae: 0.4084 - val_loss: 0.3492 - val_mae: 0.4217\n"
     ]
    }
   ],
   "source": [
    "## you can compile and Build it\n",
    "## compile the model\n",
    "model_func.compile(loss='mse', optimizer='rmsprop', metrics=['mae'])\n",
    "\n",
    "\n",
    "early_stopp = tf.keras.callbacks.EarlyStopping(patience=10, restore_best_weights=True)\n",
    "\n",
    "## fit the model\n",
    "### note when you fit the model, it required two inputs and one output\n",
    "histroy = model_func.fit((X_train_A, X_train_B), y_train, \n",
    "                        validation_data=((X_val_A, X_val_B), y_val), \n",
    "                        epochs=30, batch_size=32, callbacks=[early_stopp])"
   ]
  },
  {
   "cell_type": "code",
   "execution_count": 167,
   "id": "26cebaf2",
   "metadata": {},
   "outputs": [
    {
     "name": "stdout",
     "output_type": "stream",
     "text": [
      "loss_test MSE => 0.3370739817619324\n",
      "acc_test MAE => 0.40886756777763367\n"
     ]
    }
   ],
   "source": [
    "## Evaluate on test set\n",
    "loss_test, acc_test = model_func.evaluate((X_test_A, X_test_B), y_test, verbose=0)\n",
    "print('loss_test MSE =>', loss_test)\n",
    "print('acc_test MAE =>', acc_test)"
   ]
  },
  {
   "cell_type": "code",
   "execution_count": 168,
   "id": "78274775",
   "metadata": {},
   "outputs": [
    {
     "data": {
      "text/plain": [
       "array([[1.62155  ],\n",
       "       [1.9012762],\n",
       "       [2.7911742]], dtype=float32)"
      ]
     },
     "execution_count": 168,
     "metadata": {},
     "output_type": "execute_result"
    }
   ],
   "source": [
    "## predict new \n",
    "y_predict_new = model_func.predict((X_new_A, X_new_B))\n",
    "y_predict_new"
   ]
  },
  {
   "cell_type": "markdown",
   "id": "c400ffa0",
   "metadata": {},
   "source": [
    "### Using TensorBoard for Visualization\n",
    "\n",
    "`I will try it on one of above projects `"
   ]
  },
  {
   "cell_type": "code",
   "execution_count": 188,
   "id": "41e1f533",
   "metadata": {},
   "outputs": [
    {
     "data": {
      "text/plain": [
       "'.\\\\my_logs\\\\In_2021_09_16-21_08_29'"
      ]
     },
     "execution_count": 188,
     "metadata": {},
     "output_type": "execute_result"
    }
   ],
   "source": [
    "## get this path\n",
    "this_path = os.path.join(os.curdir, 'my_logs')\n",
    "\n",
    "import time\n",
    "\n",
    "## Create a Folder of Logs\n",
    "def create_log():\n",
    "    time_now = time.strftime('In_%Y_%m_%d-%H_%M_%S')\n",
    "    create_path = os.path.join(this_path, time_now)\n",
    "    return create_path\n",
    "\n",
    "## path this calling of the above function to Tensorboard callbacks\n",
    "run_log_dir = create_log()\n",
    "run_log_dir  ## a path"
   ]
  },
  {
   "cell_type": "code",
   "execution_count": 183,
   "id": "8a465e94",
   "metadata": {},
   "outputs": [],
   "source": [
    "## load the data\n",
    "housing = datasets.fetch_california_housing()\n",
    "\n",
    "X = housing['data']\n",
    "y = housing['target']\n",
    "\n",
    "## split the data\n",
    "X_train_full, X_test, y_train_full, y_test = train_test_split(X, y, test_size=0.1, shuffle=True)\n",
    "\n",
    "## split to train and val\n",
    "X_train, X_val, y_train, y_val = train_test_split(X_train_full, y_train_full, \n",
    "                                                  test_size=0.2, shuffle=True)\n",
    "\n",
    "\n",
    "## scaling the data\n",
    "my_scaler = StandardScaler()\n",
    "X_train = my_scaler.fit_transform(X_train)\n",
    "X_val = my_scaler.transform(X_val)\n",
    "X_test = my_scaler.transform(X_test)"
   ]
  },
  {
   "cell_type": "code",
   "execution_count": 184,
   "id": "6e51f477",
   "metadata": {},
   "outputs": [],
   "source": [
    "## Build the Model\n",
    "\n",
    "model_housing = tf.keras.models.Sequential()\n",
    "\n",
    "model_housing.add(tf.keras.layers.InputLayer([8]))\n",
    "model_housing.add(tf.keras.layers.Dense(10, activation='relu'))\n",
    "model_housing.add(tf.keras.layers.Dense(1, activation=None))  ## one output value without activation"
   ]
  },
  {
   "cell_type": "code",
   "execution_count": 189,
   "id": "07bb2c6b",
   "metadata": {
    "collapsed": true
   },
   "outputs": [
    {
     "name": "stdout",
     "output_type": "stream",
     "text": [
      "Epoch 1/30\n",
      "465/465 [==============================] - 3s 6ms/step - loss: 0.3670 - mae: 0.4227 - val_loss: 0.3483 - val_mae: 0.4079\n",
      "Epoch 2/30\n",
      "465/465 [==============================] - 3s 6ms/step - loss: 0.3634 - mae: 0.4226 - val_loss: 0.3546 - val_mae: 0.4179\n",
      "Epoch 3/30\n",
      "465/465 [==============================] - 2s 5ms/step - loss: 0.3674 - mae: 0.4233 - val_loss: 0.3476 - val_mae: 0.4069\n",
      "Epoch 4/30\n",
      "465/465 [==============================] - 3s 6ms/step - loss: 0.3589 - mae: 0.4225 - val_loss: 0.3429 - val_mae: 0.4021\n",
      "Epoch 5/30\n",
      "465/465 [==============================] - 3s 6ms/step - loss: 0.3514 - mae: 0.4181 - val_loss: 0.3483 - val_mae: 0.4175\n",
      "Epoch 6/30\n",
      "465/465 [==============================] - 2s 5ms/step - loss: 0.3515 - mae: 0.4184 - val_loss: 0.3426 - val_mae: 0.4036\n",
      "Epoch 7/30\n",
      "465/465 [==============================] - 2s 5ms/step - loss: 0.3600 - mae: 0.4184 - val_loss: 0.3401 - val_mae: 0.4018\n",
      "Epoch 8/30\n",
      "465/465 [==============================] - 3s 5ms/step - loss: 0.3495 - mae: 0.4158 - val_loss: 0.3409 - val_mae: 0.4084\n",
      "Epoch 9/30\n",
      "465/465 [==============================] - 2s 5ms/step - loss: 0.3491 - mae: 0.4147 - val_loss: 0.3401 - val_mae: 0.4064\n",
      "Epoch 10/30\n",
      "465/465 [==============================] - 2s 5ms/step - loss: 0.3492 - mae: 0.4153 - val_loss: 0.3388 - val_mae: 0.3962\n",
      "Epoch 11/30\n",
      "465/465 [==============================] - 3s 6ms/step - loss: 0.3476 - mae: 0.4145 - val_loss: 0.3373 - val_mae: 0.4024\n",
      "Epoch 12/30\n",
      "465/465 [==============================] - 3s 6ms/step - loss: 0.3465 - mae: 0.4133 - val_loss: 0.3394 - val_mae: 0.3956\n",
      "Epoch 13/30\n",
      "465/465 [==============================] - 3s 5ms/step - loss: 0.3726 - mae: 0.4195 - val_loss: 0.3461 - val_mae: 0.4043\n",
      "Epoch 14/30\n",
      "465/465 [==============================] - 2s 5ms/step - loss: 0.4264 - mae: 0.4274 - val_loss: 0.3513 - val_mae: 0.4098\n",
      "Epoch 15/30\n",
      "465/465 [==============================] - 2s 5ms/step - loss: 0.3565 - mae: 0.4199 - val_loss: 0.3702 - val_mae: 0.4169\n",
      "Epoch 16/30\n",
      "465/465 [==============================] - 2s 5ms/step - loss: 0.3607 - mae: 0.4192 - val_loss: 0.3476 - val_mae: 0.4073\n",
      "Epoch 17/30\n",
      "465/465 [==============================] - 2s 5ms/step - loss: 0.3601 - mae: 0.4199 - val_loss: 0.3539 - val_mae: 0.4095\n",
      "Epoch 18/30\n",
      "465/465 [==============================] - 2s 5ms/step - loss: 0.3525 - mae: 0.4178 - val_loss: 0.3423 - val_mae: 0.4092\n",
      "Epoch 19/30\n",
      "465/465 [==============================] - 2s 5ms/step - loss: 0.3479 - mae: 0.4151 - val_loss: 0.3388 - val_mae: 0.4057\n",
      "Epoch 20/30\n",
      "465/465 [==============================] - 2s 5ms/step - loss: 0.3458 - mae: 0.4140 - val_loss: 0.3405 - val_mae: 0.3968\n",
      "Epoch 21/30\n",
      "465/465 [==============================] - 2s 5ms/step - loss: 0.3455 - mae: 0.4131 - val_loss: 0.3374 - val_mae: 0.4054\n"
     ]
    }
   ],
   "source": [
    "## compile the model\n",
    "model_housing.compile(loss='mse', \n",
    "                      optimizer=tf.keras.optimizers.SGD(), \n",
    "                      metrics=['mae'])\n",
    "\n",
    "\n",
    "early_stopp = tf.keras.callbacks.EarlyStopping(patience=10, restore_best_weights=True)\n",
    "\n",
    "## use TensorBoard Callback\n",
    "tensorboard_cback = tf.keras.callbacks.TensorBoard(run_log_dir)\n",
    "\n",
    "## fit the model\n",
    "histroy = model_housing.fit(X_train, y_train, \n",
    "                            validation_data=(X_val, y_val), \n",
    "                            epochs=30, batch_size=32, callbacks=[early_stopp, tensorboard_cback])"
   ]
  },
  {
   "cell_type": "markdown",
   "id": "4e2e0483",
   "metadata": {},
   "source": [
    "#### where is the tensorboard , well open it"
   ]
  },
  {
   "cell_type": "code",
   "execution_count": 190,
   "id": "72e6cc7c",
   "metadata": {},
   "outputs": [
    {
     "name": "stdout",
     "output_type": "stream",
     "text": [
      "The tensorboard extension is already loaded. To reload it, use:\n",
      "  %reload_ext tensorboard\n"
     ]
    },
    {
     "data": {
      "text/plain": [
       "Reusing TensorBoard on port 6006 (pid 17420), started 0:07:38 ago. (Use '!kill 17420' to kill it.)"
      ]
     },
     "metadata": {},
     "output_type": "display_data"
    },
    {
     "data": {
      "text/html": [
       "\n",
       "      <iframe id=\"tensorboard-frame-a94c6a8bbb85fb4\" width=\"100%\" height=\"800\" frameborder=\"0\">\n",
       "      </iframe>\n",
       "      <script>\n",
       "        (function() {\n",
       "          const frame = document.getElementById(\"tensorboard-frame-a94c6a8bbb85fb4\");\n",
       "          const url = new URL(\"/\", window.location);\n",
       "          const port = 6006;\n",
       "          if (port) {\n",
       "            url.port = port;\n",
       "          }\n",
       "          frame.src = url;\n",
       "        })();\n",
       "      </script>\n",
       "    "
      ],
      "text/plain": [
       "<IPython.core.display.HTML object>"
      ]
     },
     "metadata": {},
     "output_type": "display_data"
    }
   ],
   "source": [
    "## open the tenorboard\n",
    "%load_ext tensorboard\n",
    "%tensorboard --logdir=./my_logs --port=6006    ## you can play with that"
   ]
  },
  {
   "cell_type": "markdown",
   "id": "6b865ed4",
   "metadata": {},
   "source": [
    "### Let's fine Tune this Model\n",
    "\n",
    "`convert Model to sklearn wrapper`"
   ]
  },
  {
   "cell_type": "code",
   "execution_count": 200,
   "id": "3a96506c",
   "metadata": {},
   "outputs": [
    {
     "data": {
      "text/plain": [
       "<tensorflow.python.keras.wrappers.scikit_learn.KerasRegressor at 0x14a9f325730>"
      ]
     },
     "execution_count": 200,
     "metadata": {},
     "output_type": "execute_result"
    }
   ],
   "source": [
    "# create the Function\n",
    "\n",
    "def build_model(n_layers=2, n_neurons=30, activation='relu', input_shape=[8]):\n",
    "    ''' this function is set to to tune the Model according to some HyperParameteres\n",
    "        you can Tune more parameters and tweak as you like\n",
    "    '''\n",
    "    model = tf.keras.models.Sequential()\n",
    "    model.add(tf.keras.layers.InputLayer(input_shape))\n",
    "    for layer in range(n_layers):\n",
    "        model.add(tf.keras.layers.Dense(n_neurons, activation=activation))\n",
    "        \n",
    "    ## for Regression \n",
    "    model.add(tf.keras.layers.Dense(1, activation=None))\n",
    "\n",
    "    model.compile(loss='mse', optimizer='rmsprop', metrics=['mae'])\n",
    "    \n",
    "    return model\n",
    "\n",
    "## to sklearn wrapper\n",
    "keras_reg = tf.keras.wrappers.scikit_learn.KerasRegressor(build_model)\n",
    "keras_reg"
   ]
  },
  {
   "cell_type": "code",
   "execution_count": 201,
   "id": "ad2b6ed4",
   "metadata": {},
   "outputs": [
    {
     "name": "stdout",
     "output_type": "stream",
     "text": [
      "Epoch 1/30\n",
      "465/465 [==============================] - 6s 12ms/step - loss: 0.8837 - mae: 0.6492 - val_loss: 0.4840 - val_mae: 0.4983\n",
      "Epoch 2/30\n",
      "465/465 [==============================] - 4s 8ms/step - loss: 0.4309 - mae: 0.4700 - val_loss: 0.4129 - val_mae: 0.4387\n",
      "Epoch 3/30\n",
      "465/465 [==============================] - 4s 8ms/step - loss: 0.3966 - mae: 0.4485 - val_loss: 0.3937 - val_mae: 0.4245\n",
      "Epoch 4/30\n",
      "465/465 [==============================] - 4s 8ms/step - loss: 0.3777 - mae: 0.4380 - val_loss: 0.3901 - val_mae: 0.4253\n",
      "Epoch 5/30\n",
      "465/465 [==============================] - 3s 7ms/step - loss: 0.3632 - mae: 0.4274 - val_loss: 0.3712 - val_mae: 0.4096\n",
      "Epoch 6/30\n",
      "465/465 [==============================] - 4s 8ms/step - loss: 0.3546 - mae: 0.4214 - val_loss: 0.3580 - val_mae: 0.4073\n",
      "Epoch 7/30\n",
      "465/465 [==============================] - 4s 8ms/step - loss: 0.3459 - mae: 0.4151 - val_loss: 0.3480 - val_mae: 0.3981\n",
      "Epoch 8/30\n",
      "465/465 [==============================] - 3s 7ms/step - loss: 0.3380 - mae: 0.4090 - val_loss: 0.3273 - val_mae: 0.3935\n",
      "Epoch 9/30\n",
      "465/465 [==============================] - 4s 8ms/step - loss: 0.3324 - mae: 0.4052 - val_loss: 0.3205 - val_mae: 0.3868\n",
      "Epoch 10/30\n",
      "465/465 [==============================] - 4s 8ms/step - loss: 0.3284 - mae: 0.4013 - val_loss: 0.3275 - val_mae: 0.3828\n",
      "Epoch 11/30\n",
      "465/465 [==============================] - 3s 7ms/step - loss: 0.3245 - mae: 0.3989 - val_loss: 0.3193 - val_mae: 0.3925\n",
      "Epoch 12/30\n",
      "465/465 [==============================] - 3s 7ms/step - loss: 0.3222 - mae: 0.3956 - val_loss: 0.3161 - val_mae: 0.3864\n",
      "Epoch 13/30\n",
      "465/465 [==============================] - 3s 7ms/step - loss: 0.3167 - mae: 0.3941 - val_loss: 0.3118 - val_mae: 0.3801\n",
      "Epoch 14/30\n",
      "465/465 [==============================] - 4s 9ms/step - loss: 0.3149 - mae: 0.3924 - val_loss: 0.3159 - val_mae: 0.3896\n",
      "Epoch 15/30\n",
      "465/465 [==============================] - 3s 7ms/step - loss: 0.3112 - mae: 0.3905 - val_loss: 0.3196 - val_mae: 0.3768\n",
      "Epoch 16/30\n",
      "465/465 [==============================] - 3s 7ms/step - loss: 0.3107 - mae: 0.3887 - val_loss: 0.3146 - val_mae: 0.3856\n",
      "Epoch 17/30\n",
      "465/465 [==============================] - 3s 7ms/step - loss: 0.3122 - mae: 0.3866 - val_loss: 0.3235 - val_mae: 0.3808\n",
      "Epoch 18/30\n",
      "465/465 [==============================] - 3s 7ms/step - loss: 0.3071 - mae: 0.3851 - val_loss: 0.3102 - val_mae: 0.3756\n",
      "Epoch 19/30\n",
      "465/465 [==============================] - 3s 7ms/step - loss: 0.3054 - mae: 0.3836 - val_loss: 0.3151 - val_mae: 0.3996\n",
      "Epoch 20/30\n",
      "465/465 [==============================] - 3s 7ms/step - loss: 0.3024 - mae: 0.3827 - val_loss: 0.3037 - val_mae: 0.3723\n",
      "Epoch 21/30\n",
      "465/465 [==============================] - 3s 7ms/step - loss: 0.3009 - mae: 0.3811 - val_loss: 0.3286 - val_mae: 0.3766\n",
      "Epoch 22/30\n",
      "465/465 [==============================] - 4s 9ms/step - loss: 0.2997 - mae: 0.3804 - val_loss: 0.3328 - val_mae: 0.4209\n",
      "Epoch 23/30\n",
      "465/465 [==============================] - 3s 7ms/step - loss: 0.2994 - mae: 0.3797 - val_loss: 0.3111 - val_mae: 0.3735\n",
      "Epoch 24/30\n",
      "465/465 [==============================] - 4s 8ms/step - loss: 0.2993 - mae: 0.3778 - val_loss: 0.3048 - val_mae: 0.3688\n",
      "Epoch 25/30\n",
      "465/465 [==============================] - 4s 8ms/step - loss: 0.2975 - mae: 0.3779 - val_loss: 0.2969 - val_mae: 0.3730\n",
      "Epoch 26/30\n",
      "465/465 [==============================] - 4s 8ms/step - loss: 0.2924 - mae: 0.3754 - val_loss: 0.3044 - val_mae: 0.3707\n",
      "Epoch 27/30\n",
      "465/465 [==============================] - 4s 9ms/step - loss: 0.2935 - mae: 0.3739 - val_loss: 0.2944 - val_mae: 0.3758\n",
      "Epoch 28/30\n",
      "465/465 [==============================] - 4s 8ms/step - loss: 0.2970 - mae: 0.3754 - val_loss: 0.2974 - val_mae: 0.3780\n",
      "Epoch 29/30\n",
      "465/465 [==============================] - 3s 7ms/step - loss: 0.2921 - mae: 0.3734 - val_loss: 0.3014 - val_mae: 0.3837\n",
      "Epoch 30/30\n",
      "465/465 [==============================] - 4s 8ms/step - loss: 0.2958 - mae: 0.3726 - val_loss: 0.3016 - val_mae: 0.3766\n"
     ]
    }
   ],
   "source": [
    "## complete ordinary steps\n",
    "## this (keras_reg) now has two layers , layer from sklearn and other from tf.keras\n",
    "early_stopp = tf.keras.callbacks.EarlyStopping(patience=10, restore_best_weights=True)\n",
    "## fit the model\n",
    "histroy = keras_reg.fit(X_train, y_train, \n",
    "                        validation_data=(X_val, y_val), \n",
    "                        epochs=30, batch_size=32, callbacks=[early_stopp, tensorboard_cback])"
   ]
  },
  {
   "cell_type": "code",
   "execution_count": 206,
   "id": "8781ac2d",
   "metadata": {},
   "outputs": [
    {
     "data": {
      "text/plain": [
       "array([1.1920191, 1.3160834, 1.4104298, ..., 1.731779 , 1.0933282,\n",
       "       3.653172 ], dtype=float32)"
      ]
     },
     "execution_count": 206,
     "metadata": {},
     "output_type": "execute_result"
    }
   ],
   "source": [
    "## Predict\n",
    "y_pred_test = keras_reg.predict(X_test)\n",
    "y_pred_test"
   ]
  },
  {
   "cell_type": "markdown",
   "id": "03bcbe32",
   "metadata": {},
   "source": [
    "## You can use GridSearch, RandomizedSearch and any other techniques of Tuning Hyperparameters , but it may take a long time, so stop here"
   ]
  },
  {
   "cell_type": "markdown",
   "id": "f06c70bb",
   "metadata": {},
   "source": [
    "### Done!"
   ]
  }
 ],
 "metadata": {
  "kernelspec": {
   "display_name": "Python 3 (ipykernel)",
   "language": "python",
   "name": "python3"
  },
  "language_info": {
   "codemirror_mode": {
    "name": "ipython",
    "version": 3
   },
   "file_extension": ".py",
   "mimetype": "text/x-python",
   "name": "python",
   "nbconvert_exporter": "python",
   "pygments_lexer": "ipython3",
   "version": "3.8.8"
  }
 },
 "nbformat": 4,
 "nbformat_minor": 5
}
