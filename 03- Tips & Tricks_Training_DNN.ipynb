{
 "cells": [
  {
   "cell_type": "code",
   "execution_count": 1,
   "id": "173110e2",
   "metadata": {},
   "outputs": [],
   "source": [
    "## Most Important\n",
    "import numpy as np\n",
    "import pandas as pd\n",
    "import matplotlib.pyplot as plt\n",
    "%matplotlib inline\n",
    "import seaborn as sns\n",
    "\n",
    "## less Important\n",
    "import os\n",
    "from scipy import stats\n",
    "import missingno as msno\n",
    "import joblib\n",
    "import tarfile\n",
    "import shutil\n",
    "import urllib\n",
    "\n",
    "## Sklearn\n",
    "from sklearn import datasets\n",
    "## Preprocessing\n",
    "from sklearn.preprocessing import StandardScaler\n",
    "from sklearn.model_selection import train_test_split\n",
    "## Metrics\n",
    "from sklearn.metrics import accuracy_score\n",
    "\n",
    "## tensorflow & Keras\n",
    "import tensorflow as tf    ## i will use tf for every thing and for keras using tf.keras"
   ]
  },
  {
   "cell_type": "markdown",
   "id": "1218bc8b",
   "metadata": {},
   "source": [
    "## Vanishing or Exploding the Gradients\n",
    "1. Choose a best Activation Function\n",
    "2. Choose a best Initialization technique\n",
    "3. try using a faster Optimizer"
   ]
  },
  {
   "cell_type": "markdown",
   "id": "ef1c761c",
   "metadata": {},
   "source": [
    "### Loading `Fashion MNIST Dataset` "
   ]
  },
  {
   "cell_type": "code",
   "execution_count": 2,
   "id": "73f44acd",
   "metadata": {},
   "outputs": [
    {
     "name": "stdout",
     "output_type": "stream",
     "text": [
      "X_train_full shape => (60000, 28, 28)\n",
      "y_train_full shape => (60000,)\n",
      "=============================================\n",
      "X_train shape => (54000, 28, 28)\n",
      "y_train shape => (54000,)\n",
      "=============================================\n",
      "X_val shape => (6000, 28, 28)\n",
      "y_val shape => (6000,)\n",
      "=============================================\n",
      "X_test shape => (10000, 28, 28)\n",
      "y_test shape => (10000,)\n",
      "===========================================================================\n",
      "X_train , y_train -- dtypes => (dtype('float32'), dtype('int32'))\n",
      "X_val , y_val -- dtypes => (dtype('float32'), dtype('int32'))\n",
      "X_test , y_test -- dtypes => (dtype('float32'), dtype('int32'))\n"
     ]
    }
   ],
   "source": [
    "### Building a Sequential API for multiclass Classification\n",
    "\n",
    "## loading the Fashion MNIST \n",
    "(X_train_full, y_train_full), (X_test, y_test) = tf.keras.datasets.fashion_mnist.load_data()\n",
    "\n",
    "## show shapes, dtypes and transfer datatypes to (float32, enough for NN)\n",
    "## and rescale the inputs to be from (0-1)\n",
    "\n",
    "X_train_full = (X_train_full/255.0).astype('float32')\n",
    "y_train_full = y_train_full.astype('int32')\n",
    "\n",
    "X_test = (X_test/255.0).astype('float32')\n",
    "y_test = y_test.astype('int32')\n",
    "\n",
    "## split train to train & val\n",
    "X_train, X_val, y_train, y_val = train_test_split(X_train_full, y_train_full, \n",
    "                                                  test_size=0.1, shuffle=True)\n",
    "\n",
    "\n",
    "print('X_train_full shape =>', X_train_full.shape)\n",
    "print('y_train_full shape =>', y_train_full.shape)\n",
    "print('==='*15)\n",
    "print('X_train shape =>', X_train.shape)\n",
    "print('y_train shape =>', y_train.shape)\n",
    "print('==='*15)\n",
    "print('X_val shape =>', X_val.shape)\n",
    "print('y_val shape =>', y_val.shape)\n",
    "print('==='*15)\n",
    "print('X_test shape =>', X_test.shape)\n",
    "print('y_test shape =>', y_test.shape)\n",
    "print('==='*25)\n",
    "print('X_train , y_train -- dtypes =>', (X_train.dtype, y_train.dtype))\n",
    "print('X_val , y_val -- dtypes =>', (X_val.dtype, y_val.dtype))\n",
    "print('X_test , y_test -- dtypes =>', (X_test.dtype, y_test.dtype))"
   ]
  },
  {
   "cell_type": "code",
   "execution_count": 3,
   "id": "11230df0",
   "metadata": {},
   "outputs": [
    {
     "data": {
      "image/png": "[encoded data removed]",
      "text/plain": [
       "<Figure size 864x432 with 10 Axes>"
      ]
     },
     "metadata": {
      "needs_background": "light"
     },
     "output_type": "display_data"
    }
   ],
   "source": [
    "target_only_plot = pd.DataFrame(y_train, columns=['target'])\n",
    "\n",
    "## get first index only i need only one unique value to test to \n",
    "## what this number belong to what photo (i hope you understand me)\n",
    "## although the images are diffrent for each class_name < like (coats have diffrent images)\n",
    "## but still have the same number of target, that what i only want\n",
    "\n",
    "img_indicies = {}\n",
    "\n",
    "for i in range(len(np.unique(y_train))):\n",
    "    img_indicies[i] = target_only_plot[target_only_plot['target']==i].index[0]   \n",
    "\n",
    "    \n",
    "keys = list(img_indicies.keys())\n",
    "\n",
    "fig, ax = plt.subplots(2, 5, figsize=(12, 6))\n",
    "\n",
    "plt.sca(ax[0,0])\n",
    "plt.imshow(X_train[img_indicies[0]], cmap='binary')\n",
    "plt.title(f'y == {keys[0]}')\n",
    "plt.axis('off')\n",
    "plt.sca(ax[0,1])\n",
    "plt.imshow(X_train[img_indicies[1]], cmap='binary')\n",
    "plt.title(f'y == {keys[1]}')\n",
    "plt.axis('off')\n",
    "plt.sca(ax[0,2])\n",
    "plt.imshow(X_train[img_indicies[2]], cmap='binary')\n",
    "plt.title(f'y == {keys[2]}')\n",
    "plt.axis('off')\n",
    "plt.sca(ax[0,3])\n",
    "plt.imshow(X_train[img_indicies[3]], cmap='binary')\n",
    "plt.title(f'y == {keys[3]}')\n",
    "plt.axis('off')\n",
    "plt.sca(ax[0,4])\n",
    "plt.imshow(X_train[img_indicies[4]], cmap='binary')\n",
    "plt.title(f'y == {keys[4]}')\n",
    "plt.axis('off')\n",
    "\n",
    "###################\n",
    "plt.sca(ax[1,0])\n",
    "plt.imshow(X_train[img_indicies[5]], cmap='binary')\n",
    "plt.title(f'y == {keys[5]}')\n",
    "plt.axis('off')\n",
    "plt.sca(ax[1,1])\n",
    "plt.imshow(X_train[img_indicies[6]], cmap='binary')\n",
    "plt.title(f'y == {keys[6]}')\n",
    "plt.axis('off')\n",
    "plt.sca(ax[1,2])\n",
    "plt.imshow(X_train[img_indicies[7]], cmap='binary')\n",
    "plt.title(f'y == {keys[7]}')\n",
    "plt.axis('off')\n",
    "plt.sca(ax[1,3])\n",
    "plt.imshow(X_train[img_indicies[8]], cmap='binary')\n",
    "plt.title(f'y == {keys[8]}')\n",
    "plt.axis('off')\n",
    "plt.sca(ax[1,4])\n",
    "plt.imshow(X_train[img_indicies[9]], cmap='binary')\n",
    "plt.title(f'y == {keys[9]}')\n",
    "plt.axis('off')\n",
    "plt.show()"
   ]
  },
  {
   "cell_type": "code",
   "execution_count": 4,
   "id": "3fd67308",
   "metadata": {},
   "outputs": [
    {
     "name": "stdout",
     "output_type": "stream",
     "text": [
      "y_train in row 1 => 4\n",
      "get its corresponding class => Coat\n"
     ]
    }
   ],
   "source": [
    "### you can now know for each target value belong to what class\n",
    "class_names = ['T_Shirt', 'Trouser', 'Pullover', 'Dress', 'Coat', \n",
    "               'Sandal', 'Shirt', 'Sneaker','Bag', 'Ankle_Boot']\n",
    "\n",
    "\n",
    "## you can now work like this\n",
    "\n",
    "print('y_train in row 1 =>', y_train[0])\n",
    "print('get its corresponding class =>', class_names[y_train[0]])"
   ]
  },
  {
   "cell_type": "markdown",
   "id": "c0b922cb",
   "metadata": {},
   "source": [
    "## `Kernel Initialization with diffrent Activation Functions`"
   ]
  },
  {
   "cell_type": "markdown",
   "id": "2732b352",
   "metadata": {},
   "source": [
    "##### 1. `Golorot Initialization` ==> preferable with (None, tanh, sigmoid, softmax)\n",
    "\n",
    "* here ==> kernel_initializer='glorot_uniform' ==> default  <br />\n",
    "* you can also use ('glorot_normal')\n",
    "* glorot_normal use initialization mean=0, variance=(1/fan_avg), fan_avg = 0.5(fan_in+fan_out)<br />\n",
    "* glorot_unifrom use initialization r=sqrt(3*variance)"
   ]
  },
  {
   "cell_type": "code",
   "execution_count": 5,
   "id": "68e3a94e",
   "metadata": {},
   "outputs": [
    {
     "data": {
      "image/png": "[encoded data removed]",
      "text/plain": [
       "<Figure size 432x288 with 1 Axes>"
      ]
     },
     "metadata": {
      "needs_background": "light"
     },
     "output_type": "display_data"
    }
   ],
   "source": [
    "## model\n",
    "model_fashion = tf.keras.models.Sequential()\n",
    "\n",
    "## first flatten the input of each image\n",
    "\n",
    "model_fashion.add(tf.keras.layers.Flatten(input_shape=[28, 28]))\n",
    "model_fashion.add(tf.keras.layers.Dense(300, activation='tanh', kernel_initializer='glorot_uniform'))\n",
    "model_fashion.add(tf.keras.layers.Dense(100, activation='tanh', kernel_initializer='glorot_uniform'))\n",
    "model_fashion.add(tf.keras.layers.Dense(10, activation='softmax'))  ## 10 calss with sotmax function\n",
    "\n",
    "## check for example layer 1\n",
    "weights_1, biases_1 = model_fashion.layers[1].get_weights()\n",
    "\n",
    "## check for feature of these features\n",
    "pd.DataFrame(weights_1).iloc[:,0].hist(bins=30);  ## distribution of feature 1 ==> uniform distr."
   ]
  },
  {
   "cell_type": "markdown",
   "id": "ad0939db",
   "metadata": {},
   "source": [
    "##### 2. `He Initialization` ==> preferable with (relu, elu, leakyrelu, parametricrelu, randomizedrelu)\n",
    "\n",
    "* here ==> kernel_initializer='he_normal'   <br />\n",
    "* you can also use ('he_uniform')\n",
    "* he_normal use initialization mean=0, variance=(2/fan_in)   <br />\n",
    "* he_unifrom use initialization r=sqrt(3*variance)"
   ]
  },
  {
   "cell_type": "code",
   "execution_count": 6,
   "id": "4b359563",
   "metadata": {},
   "outputs": [
    {
     "data": {
      "image/png": "[encoded data removed]",
      "text/plain": [
       "<Figure size 432x288 with 1 Axes>"
      ]
     },
     "metadata": {
      "needs_background": "light"
     },
     "output_type": "display_data"
    }
   ],
   "source": [
    "## model\n",
    "model_fashion = tf.keras.models.Sequential()\n",
    "\n",
    "## first flatten the input of each image\n",
    "\n",
    "model_fashion.add(tf.keras.layers.Flatten(input_shape=[28, 28]))\n",
    "model_fashion.add(tf.keras.layers.Dense(300, activation='relu', kernel_initializer='he_normal'))\n",
    "model_fashion.add(tf.keras.layers.Dense(100, activation='relu', kernel_initializer='he_normal'))\n",
    "model_fashion.add(tf.keras.layers.Dense(10, activation='softmax'))  ## 10 calss with sotmax function\n",
    "\n",
    "## check for example layer 1\n",
    "weights_1, biases_1 = model_fashion.layers[1].get_weights()\n",
    "\n",
    "## check for feature of these features\n",
    "pd.DataFrame(weights_1).iloc[:,0].hist(bins=30);  ## distribution of feature 1 ==> normal distr."
   ]
  },
  {
   "cell_type": "markdown",
   "id": "fa81f462",
   "metadata": {},
   "source": [
    "##### 3. `LeCun Initialization` ==> preferable with (Selu)\n",
    "\n",
    "* here ==> kernel_initializer='lecun_normal'   <br />\n",
    "* you can also use ('lecun_uniform')\n",
    "* lecun_normal use initialization mean=0, variance=(1/fan_in)   <br />\n",
    "* lecun_unifrom use initialization r=sqrt(3*variance)"
   ]
  },
  {
   "cell_type": "code",
   "execution_count": 7,
   "id": "bd501932",
   "metadata": {},
   "outputs": [
    {
     "data": {
      "image/png": "[encoded data removed]",
      "text/plain": [
       "<Figure size 432x288 with 1 Axes>"
      ]
     },
     "metadata": {
      "needs_background": "light"
     },
     "output_type": "display_data"
    }
   ],
   "source": [
    "## model\n",
    "model_fashion = tf.keras.models.Sequential()\n",
    "\n",
    "## first flatten the input of each image\n",
    "\n",
    "model_fashion.add(tf.keras.layers.Flatten(input_shape=[28, 28]))\n",
    "model_fashion.add(tf.keras.layers.Dense(300, activation='selu', kernel_initializer='lecun_normal'))\n",
    "model_fashion.add(tf.keras.layers.Dense(100, activation='selu', kernel_initializer='lecun_normal'))\n",
    "model_fashion.add(tf.keras.layers.Dense(10, activation='softmax'))  ## 10 calss with sotmax function\n",
    "\n",
    "## check for example layer 1\n",
    "weights_1, biases_1 = model_fashion.layers[1].get_weights()\n",
    "\n",
    "## check for feature of these features\n",
    "pd.DataFrame(weights_1).iloc[:,0].hist(bins=30);  ## distribution of feature 1 ==> normal distr."
   ]
  },
  {
   "cell_type": "markdown",
   "id": "92cea0c4",
   "metadata": {},
   "source": [
    "#### you can apply `LeakRelu` like this\n",
    "#### as i said, it is preferable for Relu and its variants to be 'he_normal or he_uniform' initailization"
   ]
  },
  {
   "cell_type": "code",
   "execution_count": 8,
   "id": "59219ef2",
   "metadata": {},
   "outputs": [
    {
     "data": {
      "image/png": "[encoded data removed]",
      "text/plain": [
       "<Figure size 432x288 with 1 Axes>"
      ]
     },
     "metadata": {
      "needs_background": "light"
     },
     "output_type": "display_data"
    }
   ],
   "source": [
    "## model\n",
    "model_fashion = tf.keras.models.Sequential()\n",
    "\n",
    "## first flatten the input of each image\n",
    "\n",
    "model_fashion.add(tf.keras.layers.Flatten(input_shape=[28, 28]))\n",
    "model_fashion.add(tf.keras.layers.Dense(300, kernel_initializer='he_normal'))\n",
    "model_fashion.add(tf.keras.layers.LeakyReLU(0.01))  ## here alpha=0.01\n",
    "model_fashion.add(tf.keras.layers.Dense(100, kernel_initializer='he_normal'))\n",
    "model_fashion.add(tf.keras.layers.Dense(10, activation='softmax'))  ## 10 calss with sotmax function\n",
    "\n",
    "## check for example layer 1\n",
    "weights_1, biases_1 = model_fashion.layers[1].get_weights()\n",
    "\n",
    "## check for feature of these features\n",
    "pd.DataFrame(weights_1).iloc[:,0].hist(bins=30);  ## distribution of feature 1 ==> normal distr."
   ]
  },
  {
   "cell_type": "markdown",
   "id": "648e4aef",
   "metadata": {},
   "source": [
    "#### you can apply `ParametricRelu` like this\n",
    "#### as i said, it is preferable for Relu and its variants to be 'he_normal or he_uniform' initailization"
   ]
  },
  {
   "cell_type": "code",
   "execution_count": 9,
   "id": "9e62e892",
   "metadata": {},
   "outputs": [
    {
     "data": {
      "image/png": "[encoded data removed]",
      "text/plain": [
       "<Figure size 432x288 with 1 Axes>"
      ]
     },
     "metadata": {
      "needs_background": "light"
     },
     "output_type": "display_data"
    }
   ],
   "source": [
    "## model\n",
    "model_fashion = tf.keras.models.Sequential()\n",
    "\n",
    "## first flatten the input of each image\n",
    "\n",
    "model_fashion.add(tf.keras.layers.Flatten(input_shape=[28, 28]))\n",
    "model_fashion.add(tf.keras.layers.Dense(300, kernel_initializer='he_normal'))\n",
    "model_fashion.add(tf.keras.layers.PReLU())  \n",
    "model_fashion.add(tf.keras.layers.Dense(100, kernel_initializer='he_normal'))\n",
    "model_fashion.add(tf.keras.layers.Dense(10, activation='softmax'))  ## 10 calss with sotmax function\n",
    "\n",
    "## check for example layer 1\n",
    "weights_1, biases_1 = model_fashion.layers[1].get_weights()\n",
    "\n",
    "## check for feature of these features\n",
    "pd.DataFrame(weights_1).iloc[:,0].hist(bins=30);  ## distribution of feature 1 ==> normal distr."
   ]
  },
  {
   "cell_type": "markdown",
   "id": "cfb548fc",
   "metadata": {},
   "source": [
    "### `Conclusion`\n",
    "#### you can choose \n",
    "\n"
   ]
  },
  {
   "cell_type": "code",
   "execution_count": 10,
   "id": "75e86bb6",
   "metadata": {},
   "outputs": [
    {
     "data": {
      "text/html": [
       "<div>\n",
       "<style scoped>\n",
       "    .dataframe tbody tr th:only-of-type {\n",
       "        vertical-align: middle;\n",
       "    }\n",
       "\n",
       "    .dataframe tbody tr th {\n",
       "        vertical-align: top;\n",
       "    }\n",
       "\n",
       "    .dataframe thead th {\n",
       "        text-align: right;\n",
       "    }\n",
       "</style>\n",
       "<table border=\"1\" class=\"dataframe\">\n",
       "  <thead>\n",
       "    <tr style=\"text-align: right;\">\n",
       "      <th></th>\n",
       "      <th>Activation</th>\n",
       "      <th>Initialization</th>\n",
       "      <th>variance</th>\n",
       "    </tr>\n",
       "  </thead>\n",
       "  <tbody>\n",
       "    <tr>\n",
       "      <th>0</th>\n",
       "      <td>None, Sigmoid, tanh, softmax</td>\n",
       "      <td>Golort</td>\n",
       "      <td>1/fan_avg</td>\n",
       "    </tr>\n",
       "    <tr>\n",
       "      <th>1</th>\n",
       "      <td>Relu and its Variants</td>\n",
       "      <td>He</td>\n",
       "      <td>2/fan_in</td>\n",
       "    </tr>\n",
       "    <tr>\n",
       "      <th>2</th>\n",
       "      <td>Selu</td>\n",
       "      <td>LeCun</td>\n",
       "      <td>1/fan_in</td>\n",
       "    </tr>\n",
       "  </tbody>\n",
       "</table>\n",
       "</div>"
      ],
      "text/plain": [
       "                     Activation Initialization   variance\n",
       "0  None, Sigmoid, tanh, softmax         Golort  1/fan_avg\n",
       "1         Relu and its Variants             He   2/fan_in\n",
       "2                          Selu          LeCun   1/fan_in"
      ]
     },
     "execution_count": 10,
     "metadata": {},
     "output_type": "execute_result"
    }
   ],
   "source": [
    "values_1 = ['None, Sigmoid, tanh, softmax', 'Relu and its Variants', 'Selu']\n",
    "values_2 = ['Golort', 'He', 'LeCun']\n",
    "values_3 = ['1/fan_avg', '2/fan_in', '1/fan_in']\n",
    "pd.DataFrame({'Activation': values_1, 'Initialization':values_2, 'variance':values_3})"
   ]
  },
  {
   "cell_type": "markdown",
   "id": "82ee4841",
   "metadata": {},
   "source": [
    "###### **Selu Notes :** <br />\n",
    "This activation function was proposed in this [great paper](https://arxiv.org/pdf/1706.02515.pdf) by Günter Klambauer, Thomas Unterthiner and Andreas Mayr, published in June 2017. During training, a neural network composed exclusively of a stack of dense layers using the SELU activation function and LeCun initialization will self-normalize: the output of each layer will tend to preserve the same mean and variance during training, which solves the vanishing/exploding gradients problem. As a result, this activation function outperforms the other activation functions very significantly for such neural nets, so you should really try it out. Unfortunately, the self-normalizing property of the SELU activation function is easily broken: you cannot use ℓ<sub>1</sub> or ℓ<sub>2</sub> regularization, regular dropout, max-norm, skip connections or other non-sequential topologies (so recurrent neural networks won't self-normalize). However, in practice it works quite well with sequential CNNs. If you break self-normalization, SELU will not necessarily outperform other activation functions."
   ]
  },
  {
   "cell_type": "markdown",
   "id": "61da69cd",
   "metadata": {},
   "source": [
    "### Batch Normalization\n",
    "`this technique is used to solve the Problem of Vanishing of the Gradients and also works as a Regularizer`\n",
    "\n",
    "for each Batch ==> Normalize ==> called Batch Normalization\n",
    "$$mean = 'the-mean-of-this-batch'$$\n",
    "$$std = 'the-std-of-this-batch'$$\n",
    "$$X^{-} = (x - mean) / std$$\n",
    "$$Z_{new} = gamma * X^{-} + bias$$\n",
    "\n",
    "#### Model try to learn (gamma and bias) through BackPropagation\n",
    "\n",
    "##### you can try both adding Batch Normalization Layer before or after the Activation Function"
   ]
  },
  {
   "cell_type": "markdown",
   "id": "091bf994",
   "metadata": {},
   "source": [
    "`Batch Normalization after Activation Function`"
   ]
  },
  {
   "cell_type": "code",
   "execution_count": 11,
   "id": "80e605de",
   "metadata": {},
   "outputs": [
    {
     "name": "stdout",
     "output_type": "stream",
     "text": [
      "Model: \"sequential_5\"\n",
      "_________________________________________________________________\n",
      "Layer (type)                 Output Shape              Param #   \n",
      "=================================================================\n",
      "flatten_5 (Flatten)          (None, 784)               0         \n",
      "_________________________________________________________________\n",
      "batch_normalization (BatchNo (None, 784)               3136      \n",
      "_________________________________________________________________\n",
      "dense_15 (Dense)             (None, 300)               235500    \n",
      "_________________________________________________________________\n",
      "batch_normalization_1 (Batch (None, 300)               1200      \n",
      "_________________________________________________________________\n",
      "dense_16 (Dense)             (None, 100)               30100     \n",
      "_________________________________________________________________\n",
      "batch_normalization_2 (Batch (None, 100)               400       \n",
      "_________________________________________________________________\n",
      "dense_17 (Dense)             (None, 10)                1010      \n",
      "=================================================================\n",
      "Total params: 271,346\n",
      "Trainable params: 268,978\n",
      "Non-trainable params: 2,368\n",
      "_________________________________________________________________\n"
     ]
    }
   ],
   "source": [
    "## Adding Batch Normalization Layer before Activation Function\n",
    "## you can Add Batch Normalization Layer before any layer works equally as StandardScaler\n",
    "\n",
    "## model\n",
    "model_fashion = tf.keras.models.Sequential()\n",
    "\n",
    "## first flatten the input of each image\n",
    "\n",
    "model_fashion.add(tf.keras.layers.Flatten(input_shape=[28, 28]))\n",
    "model_fashion.add(tf.keras.layers.BatchNormalization()) ## as StandardScaler\n",
    "model_fashion.add(tf.keras.layers.Dense(300, activation='relu', kernel_initializer='he_normal'))\n",
    "model_fashion.add(tf.keras.layers.BatchNormalization()) ## added it after Activation Function\n",
    "model_fashion.add(tf.keras.layers.Dense(100, activation='relu', kernel_initializer='he_normal'))\n",
    "model_fashion.add(tf.keras.layers.BatchNormalization()) ## added it after Activation Function\n",
    "model_fashion.add(tf.keras.layers.Dense(10, activation='softmax'))  ## 10 calss with sotmax function\n",
    "\n",
    "### note that (gamma and bias) model try to learn them using BackPropagation\n",
    "## note that (mean and std) model calculates them directly using moving average\n",
    "## so we have here for each Batch Normalization (4 parameters: gamma, bias, mean, std)\n",
    "## beacuse model does not learn what mean and std are , directly calculates them\n",
    "## keras set them to (non_trainable) parameters ==> check summary\n",
    "\n",
    "model_fashion.summary()"
   ]
  },
  {
   "cell_type": "markdown",
   "id": "1248576b",
   "metadata": {},
   "source": [
    "`Batch Normalization before Activation Function`"
   ]
  },
  {
   "cell_type": "code",
   "execution_count": 12,
   "id": "59a3578d",
   "metadata": {},
   "outputs": [
    {
     "name": "stdout",
     "output_type": "stream",
     "text": [
      "Model: \"sequential_6\"\n",
      "_________________________________________________________________\n",
      "Layer (type)                 Output Shape              Param #   \n",
      "=================================================================\n",
      "flatten_6 (Flatten)          (None, 784)               0         \n",
      "_________________________________________________________________\n",
      "batch_normalization_3 (Batch (None, 784)               3136      \n",
      "_________________________________________________________________\n",
      "dense_18 (Dense)             (None, 300)               235500    \n",
      "_________________________________________________________________\n",
      "batch_normalization_4 (Batch (None, 300)               1200      \n",
      "_________________________________________________________________\n",
      "activation (Activation)      (None, 300)               0         \n",
      "_________________________________________________________________\n",
      "dense_19 (Dense)             (None, 100)               30100     \n",
      "_________________________________________________________________\n",
      "batch_normalization_5 (Batch (None, 100)               400       \n",
      "_________________________________________________________________\n",
      "activation_1 (Activation)    (None, 100)               0         \n",
      "_________________________________________________________________\n",
      "dense_20 (Dense)             (None, 10)                1010      \n",
      "=================================================================\n",
      "Total params: 271,346\n",
      "Trainable params: 268,978\n",
      "Non-trainable params: 2,368\n",
      "_________________________________________________________________\n"
     ]
    }
   ],
   "source": [
    "## Adding Batch Normalization Layer before Activation Function\n",
    "## you can Add Batch Normalization Layer before any layer works equally as StandardScaler\n",
    "\n",
    "## model\n",
    "model_fashion = tf.keras.models.Sequential()\n",
    "\n",
    "## first flatten the input of each image\n",
    "\n",
    "model_fashion.add(tf.keras.layers.Flatten(input_shape=[28, 28]))\n",
    "model_fashion.add(tf.keras.layers.BatchNormalization()) ## as StandardScaler\n",
    "model_fashion.add(tf.keras.layers.Dense(300, kernel_initializer='he_normal'))\n",
    "model_fashion.add(tf.keras.layers.BatchNormalization()) ## added it before Activation Function\n",
    "model_fashion.add(tf.keras.layers.Activation('relu'))\n",
    "model_fashion.add(tf.keras.layers.Dense(100, kernel_initializer='he_normal'))\n",
    "model_fashion.add(tf.keras.layers.BatchNormalization()) ## added it before Activation Function\n",
    "model_fashion.add(tf.keras.layers.Activation('relu'))\n",
    "model_fashion.add(tf.keras.layers.Dense(10, activation='softmax'))  ## 10 calss with sotmax function\n",
    "\n",
    "### note that (gamma and bias) model try to learn them using BackPropagation\n",
    "## note that (mean and std) model calculates them directly using moving average\n",
    "## so we have here for each Batch Normalization (4 parameters: gamma, bias, mean, std)\n",
    "## beacuse model does not learn what mean and std are , directly calculates them\n",
    "## keras set them to (non_trainable) parameters ==> check summary\n",
    "\n",
    "model_fashion.summary()"
   ]
  },
  {
   "cell_type": "markdown",
   "id": "2fdfb4fc",
   "metadata": {},
   "source": [
    "### Gradient Cliping\n",
    "#### `it is a technique specially for RNN when gradients are exploding`\n",
    "###### we set that weights should not exceed determined value, this value may by two Methods\n",
    "1. by using (clipvalue ), here you say that value should not exceed it\n",
    "2. by using (clipnorm  ), here you say that norm should not exceed it\n",
    "###### `try both`"
   ]
  },
  {
   "cell_type": "code",
   "execution_count": 13,
   "id": "bd2785c3",
   "metadata": {},
   "outputs": [],
   "source": [
    "## model\n",
    "model_fashion = tf.keras.models.Sequential()\n",
    "\n",
    "## first flatten the input of each image\n",
    "\n",
    "model_fashion.add(tf.keras.layers.Flatten(input_shape=[28, 28]))\n",
    "model_fashion.add(tf.keras.layers.Dense(300, activation='tanh', kernel_initializer='glorot_uniform'))\n",
    "model_fashion.add(tf.keras.layers.Dense(100, activation='tanh', kernel_initializer='glorot_uniform'))\n",
    "model_fashion.add(tf.keras.layers.Dense(10, activation='softmax'))  ## 10 calss with sotmax function\n",
    "\n",
    "optimizer_clipValue = tf.keras.optimizers.SGD(clipvalue=1.0)  ## or try (clipnorm=?)\n",
    "model_fashion.compile(loss='sparse_categorical_crossentropy', \n",
    "                      optimizer=optimizer_clipValue, \n",
    "                      metrics=['accuracy'])\n",
    "\n",
    "early_stopp = tf.keras.callbacks.EarlyStopping(patience=5, restore_best_weights=True)\n",
    "# history = model_fashion.fit(X_train, y_train, \n",
    "#                             validation_data=(X_val, y_val), \n",
    "#                             epochs=30, batch_size=32, callbacks=[early_stopp])"
   ]
  },
  {
   "cell_type": "markdown",
   "id": "acd7f6ae",
   "metadata": {},
   "source": [
    "## Optimizers\n",
    "\n",
    "`In a previous Notebook, I implemented (GD, SGD, mini_batch GD)`\n",
    "\n",
    "`Here, I will implement (Momentum, NAG, Adagrad, RMSProp, Adam)`"
   ]
  },
  {
   "cell_type": "markdown",
   "id": "78007790",
   "metadata": {},
   "source": [
    "### Momentum"
   ]
  },
  {
   "cell_type": "markdown",
   "id": "466a852a",
   "metadata": {},
   "source": [
    "#### Dummy Data"
   ]
  },
  {
   "cell_type": "code",
   "execution_count": 14,
   "id": "7ebfe023",
   "metadata": {},
   "outputs": [],
   "source": [
    "X = np.linspace(0,20,50)\n",
    "y = -1 * X + 2\n",
    "X = X.reshape(-1,1) \n",
    "X =  np.insert(arr=X, obj=0, values=1, axis=1)"
   ]
  },
  {
   "cell_type": "code",
   "execution_count": 15,
   "id": "167f6eff",
   "metadata": {},
   "outputs": [],
   "source": [
    "theta_moment = np.zeros(2)\n",
    "def momentum_based_GD(X, y, theta_moment, alfa, iters, gamma):\n",
    "    \n",
    "    cost_steps = np.zeros(iters)\n",
    "    theta_steps = np.zeros(iters*2).reshape(-1,2)\n",
    "    \n",
    "    vt = 0\n",
    "    for i in range(iters):\n",
    "        h_theta = X @ theta_moment\n",
    "        loss = h_theta - y\n",
    "        cost = np.sum(loss**2)/(2 * len(X))\n",
    "        \n",
    "        gradient = (X.T @ loss) / len(X)\n",
    "        \n",
    "        vt = gamma * vt + alfa * gradient      \n",
    "        theta_moment = theta_moment - vt\n",
    "        \n",
    "        # append in arrays\n",
    "        theta_trmpor = theta_moment\n",
    "        cost_steps[i] = cost\n",
    "        theta_steps[i] = theta_trmpor\n",
    "        \n",
    "        \n",
    "    return theta_moment, theta_steps, cost_steps\n",
    "\n",
    "\n",
    "## call the function\n",
    "## my Results using Momentum\n",
    "theta_moment_final, theta_steps_moment, cost_steps_moment = momentum_based_GD(X, y, \n",
    "                                                                              theta_moment, \n",
    "                                                                              alfa=0.01, \n",
    "                                                                              iters=1000, \n",
    "                                                                              gamma=0.9)"
   ]
  },
  {
   "cell_type": "code",
   "execution_count": 16,
   "id": "5078d966",
   "metadata": {},
   "outputs": [],
   "source": [
    "### but momentum in keras is mouch easier\n",
    "optimizer_moment = tf.keras.optimizers.SGD(learning_rate=0.001, momentum=0.9)"
   ]
  },
  {
   "cell_type": "markdown",
   "id": "f9294f00",
   "metadata": {},
   "source": [
    "### Nestrov Accelerated Gradient"
   ]
  },
  {
   "cell_type": "code",
   "execution_count": 17,
   "id": "14f7941b",
   "metadata": {},
   "outputs": [],
   "source": [
    "thetas_NAG = np.zeros(2)\n",
    "def NAG_GD(X, y, thetas_nag, alfa, iters, gamma):\n",
    "         \n",
    "    cost_steps = np.zeros(iters)\n",
    "    theta_steps = np.zeros(iters*2).reshape(-1,2)\n",
    "    \n",
    "    vt = 0\n",
    "    \n",
    "    for i in range(iters):\n",
    "                \n",
    "        # get theta_temp\n",
    "        thetas_temp = thetas_nag - gamma * vt\n",
    "        \n",
    "        # Note : I want to get gradient_temp not gradient_thetas_nag\n",
    "        h_theta_temp = X @ thetas_temp\n",
    "        loss_temp = h_theta_temp - y\n",
    "        cost_temp = np.sum(loss_temp**2) / (2 * len(X))\n",
    "        gradient_temp = (X.T @ loss_temp) / len(X)\n",
    "        \n",
    "        \n",
    "        thetas_nag = thetas_temp - alfa * gradient_temp\n",
    "        vt = gamma * vt + alfa * gradient_temp\n",
    "        \n",
    "        \n",
    "        # append in arrays\n",
    "        theta_tempor = thetas_nag\n",
    "        cost_steps[i] = cost_temp\n",
    "        theta_steps[i] = theta_tempor\n",
    "               \n",
    "    return thetas_nag, theta_steps, cost_steps\n",
    "\n",
    "## here is my reults using NAG\n",
    "# using gamma = 0.9, alfa = 0.01\n",
    "thetas_nag_final, theta_steps_nag, cost_steps_nag = NAG_GD(X, y, thetas_NAG, 0.01, 1000, gamma=0.9)"
   ]
  },
  {
   "cell_type": "code",
   "execution_count": 18,
   "id": "c3d1c853",
   "metadata": {},
   "outputs": [],
   "source": [
    "### but NAG in keras is much easier\n",
    "optimizer_nag = tf.keras.optimizers.SGD(learning_rate=0.001, momentum=0.9, nesterov=True)"
   ]
  },
  {
   "cell_type": "markdown",
   "id": "ccc94b35",
   "metadata": {},
   "source": [
    "### Adagrad (not preferable in NN)"
   ]
  },
  {
   "cell_type": "code",
   "execution_count": 19,
   "id": "c4c48b09",
   "metadata": {},
   "outputs": [],
   "source": [
    "thetas_adag = np.zeros(2)\n",
    "def adagrad(X, y, theta_input, alfa, epsilon):\n",
    "    \n",
    "    cost_steps = []\n",
    "    theta_steps = []\n",
    "    h_teta_steps = []\n",
    "    \n",
    "    \n",
    "    vt = 0\n",
    "    \n",
    "    # first calculations\n",
    "    h_theta = X @ theta_input     \n",
    "\n",
    "    loss = h_theta - y\n",
    "\n",
    "    cost = np.sum(loss**2) / (2 * len(X))\n",
    "\n",
    "    gradient = (X.T @ loss) / len(X)\n",
    "    \n",
    "    vt = vt + (gradient)**2\n",
    "\n",
    "    theta_input = theta_input - ((alfa * gradient) / (np.sqrt(vt)+epsilon))\n",
    "\n",
    "\n",
    "    cost_steps.append(cost)\n",
    "    theta_steps.append(theta_input)\n",
    "    h_teta_steps.append(h_theta)\n",
    "    \n",
    "   \n",
    "    \n",
    "    while (gradient[0] > 0.01 or gradient[0] > -0.01) and (gradient[1] > 0.01 or gradient[1] > -0.01): \n",
    "        \n",
    "        h_theta = X @ theta_input     \n",
    "        \n",
    "        loss = h_theta - y\n",
    "        \n",
    "        cost = np.sum(loss**2) / (2 * len(X))\n",
    "        \n",
    "        gradient = (X.T @ loss) / len(X)\n",
    "        \n",
    "        vt = vt + (gradient)**2\n",
    "        \n",
    "        theta_input = theta_input - ((alfa * gradient) / (np.sqrt(vt)+epsilon))\n",
    "        \n",
    "        # append in array\n",
    "        cost_steps.append(cost)\n",
    "        theta_steps.append(theta_input)\n",
    "        h_teta_steps.append(h_theta)\n",
    "    \n",
    "    return theta_input, theta_steps, cost_steps, h_teta_steps\n",
    "\n",
    "## my results\n",
    "theta_adag1, theta_steps_adag1, cost_steps_adag1, h_steps_adag1 = adagrad(X, y, \n",
    "                                                                          thetas_adag, 0.01, 1e-8)\n"
   ]
  },
  {
   "cell_type": "code",
   "execution_count": 20,
   "id": "c005c0d5",
   "metadata": {},
   "outputs": [],
   "source": [
    "## in keras Adgarad is much easier\n",
    "optimizer_adagard = tf.keras.optimizers.Adagrad(learning_rate=0.001)"
   ]
  },
  {
   "cell_type": "markdown",
   "id": "4f0e8e59",
   "metadata": {},
   "source": [
    "### RMSProp"
   ]
  },
  {
   "cell_type": "code",
   "execution_count": 21,
   "id": "b0a04fda",
   "metadata": {},
   "outputs": [],
   "source": [
    "thetas_rms1 = np.zeros(2)\n",
    "def RMSProp(X, y, theta_input, alfa, epsilon, beta):\n",
    "    \n",
    "    cost_steps = []\n",
    "    theta_steps = []\n",
    "    h_theta_rms = []\n",
    "    \n",
    "    vt = 0\n",
    "    \n",
    "    h_theta = X @ theta_input     \n",
    "\n",
    "    loss = h_theta - y\n",
    "\n",
    "    cost = np.sum(loss**2) / (2 * len(X))\n",
    "\n",
    "    gradient = (X.T @ loss) / len(X)\n",
    "\n",
    "    vt = beta * vt + (1 - beta) * gradient**2\n",
    "\n",
    "    theta_input = theta_input - ((alfa * gradient) / (np.sqrt(vt)+epsilon))\n",
    "    \n",
    "    \n",
    "    cost_steps.append(cost)\n",
    "    theta_steps.append(theta_input)\n",
    "    h_theta_rms.append(h_theta)\n",
    "    \n",
    "    while (gradient[0] > 0.01 or gradient[0] > -0.01) and (gradient[1] > 0.01 or gradient[1] > -0.01):\n",
    "        \n",
    "        h_theta = X @ theta_input     \n",
    "        \n",
    "        loss = h_theta - y\n",
    "        \n",
    "        cost = np.sum(loss**2) / (2 * len(X))\n",
    "        \n",
    "        gradient = (X.T @ loss) / len(X)\n",
    "        \n",
    "        vt = beta * vt + (1 - beta) * gradient**2\n",
    "        \n",
    "        theta_input = theta_input - ((alfa * gradient) / (np.sqrt(vt)+epsilon))\n",
    "        \n",
    "        # append in array\n",
    "        cost_steps.append(cost)\n",
    "        theta_steps.append(theta_input)\n",
    "        h_theta_rms.append(h_theta)\n",
    "\n",
    "    return theta_input, theta_steps, cost_steps, h_theta_rms\n",
    "\n",
    "\n",
    "## my results\n",
    "# using alfa = 0.5 and epsilon = 1e-8 and beta = 0.4\n",
    "thetas_rms1, theta_steps_rms1, cost_steps_rms1, h_thetas = RMSProp(X, y, thetas_rms1, 0.5, 1e-8, 0.9)\n"
   ]
  },
  {
   "cell_type": "code",
   "execution_count": 22,
   "id": "5232a947",
   "metadata": {},
   "outputs": [],
   "source": [
    "## in keras RMSProp is much easier\n",
    "optimizer_rmsprop = tf.keras.optimizers.RMSprop(learning_rate=0.001)"
   ]
  },
  {
   "cell_type": "markdown",
   "id": "dcd66c6b",
   "metadata": {},
   "source": [
    "### Adam"
   ]
  },
  {
   "cell_type": "code",
   "execution_count": 23,
   "id": "d28df9c7",
   "metadata": {},
   "outputs": [],
   "source": [
    "thetas_adam1 = np.zeros(2)\n",
    "def Adam(X, y, theta_input, alfa, epsilon, beta1, beta2):\n",
    "    \n",
    "    cost_steps = []\n",
    "    theta_steps = []\n",
    "    h_thetas_steps = []\n",
    "       \n",
    "    vt = 0\n",
    "    mt = 0\n",
    "    i = 0\n",
    "\n",
    "    h_theta = X @ theta_input     \n",
    "\n",
    "    loss = h_theta - y\n",
    "\n",
    "    cost = np.sum(loss**2) / (2 * len(X))\n",
    "\n",
    "    gradient = (X.T @ loss) / len(X)\n",
    "\n",
    "    mt = beta1 * mt + (1 - beta1) * gradient\n",
    "    vt = beta2 * vt + (1 - beta2) * gradient**2\n",
    "\n",
    "    mt_bias = mt / (1 - beta1**(i+1))\n",
    "    vt_bias = vt / (1 - beta2**(i+1))\n",
    "\n",
    "    theta_input = theta_input - ((alfa * mt_bias) / (np.sqrt(vt_bias)+epsilon))\n",
    "    \n",
    "    \n",
    "    cost_steps.append(cost)\n",
    "    theta_steps.append(theta_input)\n",
    "    h_thetas_steps.append(h_theta)\n",
    "    \n",
    "   \n",
    "    while (gradient[0] > 0.01 or gradient[0] > -0.01) and (gradient[1] > 0.01 or gradient[1] > -0.01):\n",
    "        \n",
    "        i+=1\n",
    "        \n",
    "        h_theta = X @ theta_input     \n",
    "        \n",
    "        loss = h_theta - y\n",
    "        \n",
    "        cost = np.sum(loss**2) / (2 * len(X))\n",
    "        \n",
    "        gradient = (X.T @ loss) / len(X)\n",
    "        \n",
    "        mt = beta1 * mt + (1 - beta1) * gradient\n",
    "        vt = beta2 * vt + (1 - beta2) * gradient**2\n",
    "        \n",
    "        mt_bias = mt / (1 - beta1**(i+1))\n",
    "        vt_bias = vt / (1 - beta2**(i+1))\n",
    "        \n",
    "        theta_input = theta_input - ((alfa * mt_bias) / (np.sqrt(vt_bias)+epsilon))\n",
    "        \n",
    "        # append in array\n",
    "        cost_steps.append(cost)\n",
    "        theta_steps.append(theta_input)\n",
    "        h_thetas_steps.append(h_theta)\n",
    "\n",
    "    \n",
    "    return theta_input, theta_steps, cost_steps, h_thetas_steps\n",
    "\n",
    "## my reults using Adam\n",
    "thetas_adam1, thetas_steps_adam1, cost_adam1, hypo_adam = Adam(X, y, thetas_adam1, 0.8, 1e-8, 0.2, 0.2)\n"
   ]
  },
  {
   "cell_type": "code",
   "execution_count": 24,
   "id": "4c5e27a8",
   "metadata": {},
   "outputs": [],
   "source": [
    "## adam and Naam in keras\n",
    "optmizer_adam = tf.keras.optimizers.Adam(learning_rate=0.001, beta_1=0.9, beta_2=0.999)\n",
    "optmizer_Nadam = tf.keras.optimizers.Nadam(learning_rate=0.001, beta_1=0.9, beta_2=0.999)"
   ]
  },
  {
   "cell_type": "markdown",
   "id": "3d339c41",
   "metadata": {},
   "source": [
    "-----------------"
   ]
  },
  {
   "cell_type": "markdown",
   "id": "b3284ebb",
   "metadata": {},
   "source": [
    "### Learning Rate Scheduling\n",
    "`Instead of making LR constant we can make it high at start where cost is high and then decrease it`\n",
    "\n",
    "**Scheduling Methods**\n",
    "1. Power Scheduling\n",
    "2. Exponential Scheduling\n",
    "3. Piecewise Scheduling\n",
    "4. Performance Scheduling\n",
    "5. 1 Cycle Scheduling"
   ]
  },
  {
   "cell_type": "markdown",
   "id": "614648cc",
   "metadata": {},
   "source": [
    "#### `Power Scheduling`\n",
    "\n",
    "$$Lr^{t} = Lr_0 / (1 + t/s)^{c}$$\n",
    "`Keras uses c=1, decay=1/s`\n",
    "\n",
    "#### you can set that by parameter (decay, inverse of s) in the optimizer"
   ]
  },
  {
   "cell_type": "code",
   "execution_count": 25,
   "id": "ef9519d4",
   "metadata": {},
   "outputs": [],
   "source": [
    "### call the optimizer\n",
    "#### you can set that by parameter (decay, inverse of s) in the optimizer\n",
    "optimizer_power_LR = tf.keras.optimizers.SGD(learning_rate=0.01, decay=1e-4)\n",
    "\n",
    "# history = model_fashion.fit(X_train, y_train, \n",
    "#                             validation_data=(X_val, y_val), epochs=10,\n",
    "#                             batch_size=32, callbacks=[early_stopp])"
   ]
  },
  {
   "cell_type": "code",
   "execution_count": 26,
   "id": "b679cd84",
   "metadata": {},
   "outputs": [
    {
     "data": {
      "image/png": "[encoded data removed]",
      "text/plain": [
       "<Figure size 432x288 with 1 Axes>"
      ]
     },
     "metadata": {
      "needs_background": "light"
     },
     "output_type": "display_data"
    }
   ],
   "source": [
    "### Viusalizing what learning_rate values\n",
    "\n",
    "### you can test what power method does in learning rate\n",
    "n_epochs = 10 ## in the above i try 10 epochs\n",
    "learning_rate = 0.01\n",
    "decay = 1e-4\n",
    "batch_size = 32\n",
    "n_steps_per_epoch = np.ceil(len(X_train) // batch_size)\n",
    "epochs = np.arange(n_epochs)\n",
    "## each step learning rate is updated\n",
    "lrs = learning_rate / (1 + decay * epochs * n_steps_per_epoch)\n",
    "\n",
    "plt.plot(epochs, lrs,  \"o-\")\n",
    "plt.axis([0, n_epochs - 1, 0, 0.01])\n",
    "plt.xlabel(\"Epoch\",  fontsize=12)\n",
    "plt.ylabel(\"Learning Rate\", fontsize=12)\n",
    "plt.title(\"Power Scheduling\", fontsize=14)\n",
    "plt.grid(True)\n",
    "plt.show()"
   ]
  },
  {
   "cell_type": "markdown",
   "id": "66e2df13",
   "metadata": {},
   "source": [
    "#### `Exponential Scheduling`\n",
    "\n",
    "$$Lr^{t} = Lr_0 * 0.1^{t/s}$$\n",
    "\n",
    "#### you can emplement you custom function"
   ]
  },
  {
   "cell_type": "code",
   "execution_count": 28,
   "id": "c1cc3652",
   "metadata": {
    "scrolled": false
   },
   "outputs": [
    {
     "name": "stdout",
     "output_type": "stream",
     "text": [
      "Epoch 1/4\n",
      "1688/1688 [==============================] - 12s 7ms/step - loss: 0.8170 - accuracy: 0.6998 - val_loss: 0.5928 - val_accuracy: 0.7867\n",
      "Epoch 2/4\n",
      "1688/1688 [==============================] - 10s 6ms/step - loss: 0.6095 - accuracy: 0.7838 - val_loss: 0.5943 - val_accuracy: 0.7917\n",
      "Epoch 3/4\n",
      "1688/1688 [==============================] - 11s 6ms/step - loss: 0.5625 - accuracy: 0.8021 - val_loss: 0.6463 - val_accuracy: 0.7693\n",
      "Epoch 4/4\n",
      "1688/1688 [==============================] - 11s 6ms/step - loss: 0.5330 - accuracy: 0.8126 - val_loss: 0.4883 - val_accuracy: 0.8353\n"
     ]
    }
   ],
   "source": [
    "## le that initail LR = 0.01\n",
    "## and i will reduce learing rate each 20 step\n",
    "\n",
    "def exponential_LR_fn(epoch):\n",
    "    ''' this function is to get the learning rate at each epoch\n",
    "    * initial learning rate = 0.01\n",
    "    * reducing the learning rate each 20 step, each 20 batch_size\n",
    "    \n",
    "    '''\n",
    "    lr_epoch = 0.01 * 0.1**(epoch/20)\n",
    "    \n",
    "    return lr_epoch\n",
    "\n",
    "## you can make LearningRateSchedular, and pass this to callbaks when fitting the Model\n",
    "\n",
    "model_fashion.compile(loss='sparse_categorical_crossentropy', \n",
    "                      optimizer='rmsprop', metrics=['accuracy'])\n",
    "\n",
    "## pass this function to LearningRateScheduler\n",
    "lr_scheduler = tf.keras.callbacks.LearningRateScheduler(exponential_LR_fn)\n",
    "\n",
    "## pass above  'lr_scheduler' to callabaks in fit\n",
    "## ==> read hands-on-ML for this Note\n",
    "history = model_fashion.fit(X_train, y_train, \n",
    "                            validation_data=(X_val, y_val), epochs=4, \n",
    "                            batch_size=32, callbacks=[early_stopp, lr_scheduler])"
   ]
  },
  {
   "cell_type": "markdown",
   "id": "19536c82",
   "metadata": {},
   "source": [
    "#### you can make schedular for exponential instead of your function\n",
    "\n",
    "`ExponentialDecay` return the below line\n",
    "```python\n",
    "return initial_learning_rate * decay_rate ^ (step / decay_steps)\n",
    "```"
   ]
  },
  {
   "cell_type": "code",
   "execution_count": 30,
   "id": "43da4498",
   "metadata": {
    "collapsed": true
   },
   "outputs": [
    {
     "name": "stdout",
     "output_type": "stream",
     "text": [
      "Epoch 1/20\n",
      "1688/1688 [==============================] - 8s 5ms/step - loss: 0.4920 - accuracy: 0.8243 - val_loss: 0.4298 - val_accuracy: 0.8457\n",
      "Epoch 2/20\n",
      "1688/1688 [==============================] - 8s 5ms/step - loss: 0.3936 - accuracy: 0.8569 - val_loss: 0.3809 - val_accuracy: 0.8598\n",
      "Epoch 3/20\n",
      "1688/1688 [==============================] - 8s 5ms/step - loss: 0.3580 - accuracy: 0.8698 - val_loss: 0.3594 - val_accuracy: 0.8660\n",
      "Epoch 4/20\n",
      "1688/1688 [==============================] - 8s 5ms/step - loss: 0.3338 - accuracy: 0.8784 - val_loss: 0.3296 - val_accuracy: 0.8813\n",
      "Epoch 5/20\n",
      "1688/1688 [==============================] - 9s 5ms/step - loss: 0.3137 - accuracy: 0.8855 - val_loss: 0.3201 - val_accuracy: 0.8778\n",
      "Epoch 6/20\n",
      "1688/1688 [==============================] - 9s 5ms/step - loss: 0.2979 - accuracy: 0.8908 - val_loss: 0.3149 - val_accuracy: 0.8763\n",
      "Epoch 7/20\n",
      "1688/1688 [==============================] - 8s 5ms/step - loss: 0.2848 - accuracy: 0.8949 - val_loss: 0.3249 - val_accuracy: 0.8782\n",
      "Epoch 8/20\n",
      "1688/1688 [==============================] - 9s 5ms/step - loss: 0.2737 - accuracy: 0.8997 - val_loss: 0.3032 - val_accuracy: 0.8883\n",
      "Epoch 9/20\n",
      "1688/1688 [==============================] - 8s 5ms/step - loss: 0.2626 - accuracy: 0.9033 - val_loss: 0.3004 - val_accuracy: 0.8877\n",
      "Epoch 10/20\n",
      "1688/1688 [==============================] - 9s 5ms/step - loss: 0.2547 - accuracy: 0.9065 - val_loss: 0.2930 - val_accuracy: 0.8928\n",
      "Epoch 11/20\n",
      "1688/1688 [==============================] - 9s 5ms/step - loss: 0.2455 - accuracy: 0.9098 - val_loss: 0.2951 - val_accuracy: 0.8940\n",
      "Epoch 12/20\n",
      "1688/1688 [==============================] - 8s 5ms/step - loss: 0.2383 - accuracy: 0.9121 - val_loss: 0.2802 - val_accuracy: 0.8968\n",
      "Epoch 13/20\n",
      "1688/1688 [==============================] - 9s 5ms/step - loss: 0.2320 - accuracy: 0.9146 - val_loss: 0.2743 - val_accuracy: 0.8970\n",
      "Epoch 14/20\n",
      "1688/1688 [==============================] - 8s 5ms/step - loss: 0.2251 - accuracy: 0.9167 - val_loss: 0.2717 - val_accuracy: 0.8980\n",
      "Epoch 15/20\n",
      "1688/1688 [==============================] - 9s 5ms/step - loss: 0.2198 - accuracy: 0.9202 - val_loss: 0.2699 - val_accuracy: 0.9007\n",
      "Epoch 16/20\n",
      "1688/1688 [==============================] - 9s 5ms/step - loss: 0.2138 - accuracy: 0.9215 - val_loss: 0.2770 - val_accuracy: 0.8995\n",
      "Epoch 17/20\n",
      "1688/1688 [==============================] - 8s 5ms/step - loss: 0.2103 - accuracy: 0.9229 - val_loss: 0.2760 - val_accuracy: 0.8987\n",
      "Epoch 18/20\n",
      "1688/1688 [==============================] - 8s 5ms/step - loss: 0.2054 - accuracy: 0.9243 - val_loss: 0.2725 - val_accuracy: 0.9028\n",
      "Epoch 19/20\n",
      "1688/1688 [==============================] - 8s 5ms/step - loss: 0.2013 - accuracy: 0.9272 - val_loss: 0.2735 - val_accuracy: 0.9003\n",
      "Epoch 20/20\n",
      "1688/1688 [==============================] - 8s 5ms/step - loss: 0.1980 - accuracy: 0.9284 - val_loss: 0.2728 - val_accuracy: 0.8997\n"
     ]
    }
   ],
   "source": [
    "model = tf.keras.models.Sequential([\n",
    "                tf.keras.layers.Flatten(input_shape=[28, 28]),\n",
    "                tf.keras.layers.Dense(300, activation=\"selu\", kernel_initializer=\"lecun_normal\"),\n",
    "                tf.keras.layers.Dense(100, activation=\"selu\", kernel_initializer=\"lecun_normal\"),\n",
    "                tf.keras.layers.Dense(10, activation=\"softmax\")\n",
    "                            ])\n",
    "\n",
    "## you can try these criteria\n",
    "## => batch size=32 ==> (len(X_train) // 32)=no of batches in 1 epoch\n",
    "## for 20 epoch ===> we get the number of batches in 20 epoch\n",
    "\n",
    "n_epochs = 20\n",
    "s = n_epochs * len(X_train) // 32  \n",
    "lr_schedular = tf.keras.optimizers.schedules.ExponentialDecay(initial_learning_rate=0.01, \n",
    "                                                              decay_steps=s, decay_rate=0.1)\n",
    "\n",
    "optimizer_with_lr = tf.keras.optimizers.SGD(learning_rate=lr_schedular, momentum=0.9, nesterov=True)\n",
    "model.compile(loss='sparse_categorical_crossentropy', \n",
    "                      metrics=['accuracy'], \n",
    "                      optimizer=optimizer_with_lr)\n",
    "\n",
    "early_stopp = tf.keras.callbacks.EarlyStopping(patience=5, restore_best_weights=True)\n",
    "history = model.fit(X_train, y_train, \n",
    "                            epochs=n_epochs,\n",
    "                            validation_data=(X_val, y_val), \n",
    "                            batch_size=32, callbacks=[early_stopp])"
   ]
  },
  {
   "cell_type": "code",
   "execution_count": 31,
   "id": "683c2330",
   "metadata": {},
   "outputs": [
    {
     "data": {
      "image/png": "[encoded data removed]",
      "text/plain": [
       "<Figure size 864x288 with 1 Axes>"
      ]
     },
     "metadata": {
      "needs_background": "light"
     },
     "output_type": "display_data"
    }
   ],
   "source": [
    "## you can test what is happening to the learning_rate\n",
    "initial_learning_rate = 0.01\n",
    "decay_rate = 0.1\n",
    "## for 20 epoch => i have this number of steps if (batch_size=32)\n",
    "decay_steps = 20 * len(X_train) // 32\n",
    "\n",
    "## for this steps ==> 32, 64, ....\n",
    "steps = []\n",
    "batch_size_each = 32\n",
    "for step in range(decay_steps):\n",
    "    steps.append(batch_size_each)\n",
    "    batch_size_each += 32\n",
    "    \n",
    "steps = np.array(steps) \n",
    "lr_each_step = initial_learning_rate * decay_rate**(steps/decay_steps)\n",
    "\n",
    "### Visualization of this schedular\n",
    "plt.figure(figsize=(12, 4))\n",
    "plt.plot(range(1, len(lr_each_step)+1), lr_each_step, 'o--')\n",
    "plt.xlabel('Epochs')\n",
    "plt.ylabel('Learning-Rate')\n",
    "plt.title('Learning rate at diffrent Steps using Exponential Schedular')\n",
    "plt.show()"
   ]
  },
  {
   "cell_type": "markdown",
   "id": "d354ce83",
   "metadata": {},
   "source": [
    "#### `Piecewise Scheduling`\n",
    "\n",
    "for each number of epochs reduce learning_rate steps\n",
    "\n",
    "#### you can emplement you custom function"
   ]
  },
  {
   "cell_type": "code",
   "execution_count": 32,
   "id": "728eb6fc",
   "metadata": {},
   "outputs": [],
   "source": [
    "## le that initail LR = 0.01\n",
    "def piecewise_LR(epoch):\n",
    "    if epochch < 5:\n",
    "        return 0.01\n",
    "    elif epoch < 15:\n",
    "        return 0.005\n",
    "    else:\n",
    "        return 0.001\n",
    "    \n",
    "## pass this function to LearningRateScheduler\n",
    "lr_scheduler = tf.keras.callbacks.LearningRateScheduler(piecewise_LR)\n",
    "\n",
    "## pass above  'lr_scheduler' to callabaks in fit\n",
    "# history = model_fashion.fit(X_train, y_train, \n",
    "#                             validation_data=(X_val, y_val), epochs=30, \n",
    "#                             batch_size=32, callbacks=[early_stopp, lr_scheduler])    "
   ]
  },
  {
   "cell_type": "markdown",
   "id": "2a4f3328",
   "metadata": {},
   "source": [
    "#### `Performance Scheduling`\n",
    "\n",
    "`multiply the learning rate by a factor less than 1.0, if the monitor like 'val_loss' does not improve for number of epochs` \n",
    "#### you can emplement you custom function"
   ]
  },
  {
   "cell_type": "code",
   "execution_count": 35,
   "id": "88f05652",
   "metadata": {
    "scrolled": true
   },
   "outputs": [
    {
     "name": "stdout",
     "output_type": "stream",
     "text": [
      "Epoch 1/25\n",
      "1688/1688 [==============================] - 8s 5ms/step - loss: 0.5549 - accuracy: 0.8030 - val_loss: 0.4722 - val_accuracy: 0.8285\n",
      "Epoch 2/25\n",
      "1688/1688 [==============================] - 8s 4ms/step - loss: 0.4467 - accuracy: 0.8408 - val_loss: 0.4342 - val_accuracy: 0.8430\n",
      "Epoch 3/25\n",
      "1688/1688 [==============================] - 9s 5ms/step - loss: 0.4192 - accuracy: 0.8496 - val_loss: 0.3668 - val_accuracy: 0.8663\n",
      "Epoch 4/25\n",
      "1688/1688 [==============================] - 8s 5ms/step - loss: 0.3973 - accuracy: 0.8579 - val_loss: 0.3629 - val_accuracy: 0.8655\n",
      "Epoch 5/25\n",
      "1688/1688 [==============================] - 8s 4ms/step - loss: 0.3849 - accuracy: 0.8618 - val_loss: 0.3704 - val_accuracy: 0.8588\n",
      "Epoch 6/25\n",
      "1688/1688 [==============================] - 8s 5ms/step - loss: 0.3753 - accuracy: 0.8639 - val_loss: 0.3749 - val_accuracy: 0.8632\n",
      "Epoch 7/25\n",
      "1688/1688 [==============================] - 8s 4ms/step - loss: 0.3610 - accuracy: 0.8703 - val_loss: 0.4501 - val_accuracy: 0.8397\n",
      "Epoch 8/25\n",
      "1688/1688 [==============================] - 7s 4ms/step - loss: 0.3503 - accuracy: 0.8734 - val_loss: 0.3601 - val_accuracy: 0.8685\n",
      "Epoch 9/25\n",
      "1688/1688 [==============================] - 8s 4ms/step - loss: 0.3511 - accuracy: 0.8754 - val_loss: 0.3739 - val_accuracy: 0.8705\n",
      "Epoch 10/25\n",
      "1688/1688 [==============================] - 8s 4ms/step - loss: 0.3371 - accuracy: 0.8775 - val_loss: 0.3601 - val_accuracy: 0.8730\n",
      "Epoch 11/25\n",
      "1688/1688 [==============================] - 8s 5ms/step - loss: 0.3390 - accuracy: 0.8787 - val_loss: 0.4173 - val_accuracy: 0.8708\n",
      "Epoch 12/25\n",
      "1688/1688 [==============================] - 8s 5ms/step - loss: 0.3248 - accuracy: 0.8838 - val_loss: 0.3892 - val_accuracy: 0.8773\n",
      "Epoch 13/25\n",
      "1688/1688 [==============================] - 8s 5ms/step - loss: 0.3230 - accuracy: 0.8857 - val_loss: 0.3871 - val_accuracy: 0.8725\n",
      "Epoch 14/25\n",
      "1688/1688 [==============================] - 8s 5ms/step - loss: 0.2393 - accuracy: 0.9099 - val_loss: 0.2897 - val_accuracy: 0.8972\n",
      "Epoch 15/25\n",
      "1688/1688 [==============================] - 8s 5ms/step - loss: 0.2286 - accuracy: 0.9125 - val_loss: 0.3066 - val_accuracy: 0.8940\n",
      "Epoch 16/25\n",
      "1688/1688 [==============================] - 8s 5ms/step - loss: 0.2190 - accuracy: 0.9154 - val_loss: 0.3054 - val_accuracy: 0.8930\n",
      "Epoch 17/25\n",
      "1688/1688 [==============================] - 8s 5ms/step - loss: 0.2142 - accuracy: 0.9179 - val_loss: 0.3165 - val_accuracy: 0.8890\n",
      "Epoch 18/25\n",
      "1688/1688 [==============================] - 8s 5ms/step - loss: 0.2114 - accuracy: 0.9191 - val_loss: 0.3408 - val_accuracy: 0.8922\n",
      "Epoch 19/25\n",
      "1688/1688 [==============================] - 8s 5ms/step - loss: 0.2081 - accuracy: 0.9207 - val_loss: 0.3249 - val_accuracy: 0.8950\n",
      "Epoch 20/25\n",
      "1688/1688 [==============================] - 8s 5ms/step - loss: 0.1713 - accuracy: 0.9349 - val_loss: 0.3008 - val_accuracy: 0.9022\n",
      "Epoch 21/25\n",
      "1688/1688 [==============================] - 8s 5ms/step - loss: 0.1659 - accuracy: 0.9362 - val_loss: 0.3020 - val_accuracy: 0.9020\n",
      "Epoch 22/25\n",
      "1688/1688 [==============================] - 8s 5ms/step - loss: 0.1626 - accuracy: 0.9374 - val_loss: 0.3021 - val_accuracy: 0.9015\n",
      "Epoch 23/25\n",
      "1688/1688 [==============================] - 8s 5ms/step - loss: 0.1577 - accuracy: 0.9396 - val_loss: 0.3013 - val_accuracy: 0.8998\n",
      "Epoch 24/25\n",
      "1688/1688 [==============================] - 8s 5ms/step - loss: 0.1559 - accuracy: 0.9408 - val_loss: 0.3071 - val_accuracy: 0.9047\n",
      "Epoch 25/25\n",
      "1688/1688 [==============================] - 8s 5ms/step - loss: 0.1379 - accuracy: 0.9474 - val_loss: 0.2994 - val_accuracy: 0.9053\n"
     ]
    }
   ],
   "source": [
    "## for performance scheduling\n",
    "lr_scheduler = tf.keras.callbacks.ReduceLROnPlateau(factor=0.5, patience=5)\n",
    "\n",
    "model = tf.keras.models.Sequential([\n",
    "    tf.keras.layers.Flatten(input_shape=[28, 28]),\n",
    "    tf.keras.layers.Dense(300, activation=\"selu\", kernel_initializer=\"lecun_normal\"),\n",
    "    tf.keras.layers.Dense(100, activation=\"selu\", kernel_initializer=\"lecun_normal\"),\n",
    "    tf.keras.layers.Dense(10, activation=\"softmax\")\n",
    "])\n",
    "optimizer = tf.keras.optimizers.SGD(learning_rate=0.02, momentum=0.9)\n",
    "model.compile(loss=\"sparse_categorical_crossentropy\", optimizer=optimizer, metrics=[\"accuracy\"])\n",
    "n_epochs = 25\n",
    "history = model.fit(X_train, y_train, epochs=n_epochs,\n",
    "                    validation_data=(X_val, y_val),\n",
    "                    callbacks=[lr_scheduler])"
   ]
  },
  {
   "cell_type": "code",
   "execution_count": 36,
   "id": "94622e7e",
   "metadata": {},
   "outputs": [
    {
     "data": {
      "image/png": "[encoded data removed]",
      "text/plain": [
       "<Figure size 432x288 with 2 Axes>"
      ]
     },
     "metadata": {
      "needs_background": "light"
     },
     "output_type": "display_data"
    }
   ],
   "source": [
    "### Visualization of performance scheduling\n",
    "\n",
    "lr_history = history.history['lr']\n",
    "val_loss_hist = history.history['val_loss']\n",
    "n_epochs = history.epoch\n",
    "plt.xlabel(\"Epoch\", fontsize=14)\n",
    "plt.ylabel(\"Learning Rate\", color='b', fontsize=14)\n",
    "plt.plot(n_epochs, lr_history, 'bo-')\n",
    "\n",
    "ax2 = plt.gca().twinx()\n",
    "ax2.plot(n_epochs, val_loss_hist, 'r*-')\n",
    "ax2.set_ylabel(\"Learning Rate\", color='r', fontsize=14)\n",
    "plt.title(\"Reduce LR on Plateau Performance\", fontsize=14)\n",
    "plt.show()"
   ]
  },
  {
   "cell_type": "markdown",
   "id": "f2c1b2f8",
   "metadata": {},
   "source": [
    "#### `1Cycle Scheduling`\n",
    "\n",
    "\n",
    "#### you can emplement you custom function"
   ]
  },
  {
   "cell_type": "code",
   "execution_count": 37,
   "id": "c9a26ae3",
   "metadata": {},
   "outputs": [],
   "source": [
    "## i will implement my own function later"
   ]
  },
  {
   "cell_type": "code",
   "execution_count": null,
   "id": "3dc1a7d7",
   "metadata": {},
   "outputs": [],
   "source": []
  },
  {
   "cell_type": "markdown",
   "id": "154b291c",
   "metadata": {},
   "source": [
    "### Regularization techniques\n",
    "1. L1 or L2 or L1_L2 norm\n",
    "2. max norm\n",
    "3. Dropout ==> Note if you use selu activation function with lecun init. , you should use Alpha Dropout\n",
    "4. Monto Carlo (MC) Dropout\n",
    "5. Batch Normalization ==> works as a regularizer"
   ]
  },
  {
   "cell_type": "markdown",
   "id": "b27bc025",
   "metadata": {},
   "source": [
    "### $\\ell_1$ and $\\ell_2$ Reguarizers"
   ]
  },
  {
   "cell_type": "code",
   "execution_count": 38,
   "id": "a6caaaff",
   "metadata": {},
   "outputs": [
    {
     "data": {
      "text/plain": [
       "<tensorflow.python.keras.layers.core.Dense at 0x1b91c7b60d0>"
      ]
     },
     "execution_count": 38,
     "metadata": {},
     "output_type": "execute_result"
    }
   ],
   "source": [
    "## set kernel_regularizer for (l1 or l2 or l1_l2)\n",
    "tf.keras.layers.Dense(100, activation=\"elu\",\n",
    "                           kernel_initializer=\"he_normal\",\n",
    "                           kernel_regularizer=tf.keras.regularizers.l2(0.01))\n",
    "# or l1(0.1) for ℓ1 regularization with a factor or 0.1\n",
    "# or l1_l2(0.1, 0.01) for both ℓ1 and ℓ2 regularization, with factors 0.1 and 0.01 respectively"
   ]
  },
  {
   "cell_type": "code",
   "execution_count": 39,
   "id": "70b53df7",
   "metadata": {},
   "outputs": [
    {
     "name": "stdout",
     "output_type": "stream",
     "text": [
      "Model: \"sequential_11\"\n",
      "_________________________________________________________________\n",
      "Layer (type)                 Output Shape              Param #   \n",
      "=================================================================\n",
      "flatten_11 (Flatten)         (None, 784)               0         \n",
      "_________________________________________________________________\n",
      "dense_34 (Dense)             (None, 300)               235500    \n",
      "_________________________________________________________________\n",
      "dense_35 (Dense)             (None, 100)               30100     \n",
      "_________________________________________________________________\n",
      "dense_36 (Dense)             (None, 10)                1010      \n",
      "=================================================================\n",
      "Total params: 266,610\n",
      "Trainable params: 266,610\n",
      "Non-trainable params: 0\n",
      "_________________________________________________________________\n"
     ]
    }
   ],
   "source": [
    "## you can use this method for making yout code more neat and beatiful\n",
    "## using partial from functools , you can get a class contains all what you need\n",
    "from functools import partial\n",
    "\n",
    "## this will return a class contains these data\n",
    "func_ready = partial(tf.keras.layers.Dense, \n",
    "                        activation='elu', \n",
    "                        kernel_initializer='he_normal', \n",
    "                        kernel_regularizer=tf.keras.regularizers.l2(0.01))\n",
    "\n",
    "model_new = tf.keras.models.Sequential()\n",
    "model_new.add(tf.keras.layers.Flatten(input_shape=[28,28]))\n",
    "model_new.add(func_ready(300))\n",
    "model_new.add(func_ready(100))\n",
    "model_new.add(func_ready(10, activation='softmax'))\n",
    "\n",
    "## check summary\n",
    "model_new.summary()"
   ]
  },
  {
   "cell_type": "markdown",
   "id": "06531757",
   "metadata": {},
   "source": [
    "### Dropout"
   ]
  },
  {
   "cell_type": "code",
   "execution_count": 40,
   "id": "e0379d89",
   "metadata": {},
   "outputs": [
    {
     "name": "stdout",
     "output_type": "stream",
     "text": [
      "Model: \"sequential_12\"\n",
      "_________________________________________________________________\n",
      "Layer (type)                 Output Shape              Param #   \n",
      "=================================================================\n",
      "flatten_12 (Flatten)         (None, 784)               0         \n",
      "_________________________________________________________________\n",
      "dense_37 (Dense)             (None, 300)               235500    \n",
      "_________________________________________________________________\n",
      "dropout (Dropout)            (None, 300)               0         \n",
      "_________________________________________________________________\n",
      "dense_38 (Dense)             (None, 100)               30100     \n",
      "_________________________________________________________________\n",
      "dropout_1 (Dropout)          (None, 100)               0         \n",
      "_________________________________________________________________\n",
      "dense_39 (Dense)             (None, 10)                1010      \n",
      "=================================================================\n",
      "Total params: 266,610\n",
      "Trainable params: 266,610\n",
      "Non-trainable params: 0\n",
      "_________________________________________________________________\n"
     ]
    }
   ],
   "source": [
    "## using dropout \n",
    "model_drop = tf.keras.models.Sequential()\n",
    "model_drop.add(tf.keras.layers.Flatten(input_shape=[28,28]))\n",
    "model_drop.add(tf.keras.layers.Dense(300, activation='elu', kernel_initializer='he_normal'))\n",
    "model_drop.add(tf.keras.layers.Dropout(0.5))    ## here i add layer dropout with factor=0.5\n",
    "model_drop.add(tf.keras.layers.Dense(100, activation='elu', kernel_initializer='he_normal'))\n",
    "model_drop.add(tf.keras.layers.Dropout(0.5))\n",
    "model_drop.add(tf.keras.layers.Dense(10, activation='softmax'))\n",
    "\n",
    "model_drop.summary()"
   ]
  },
  {
   "cell_type": "code",
   "execution_count": 41,
   "id": "53713af6",
   "metadata": {},
   "outputs": [],
   "source": [
    "## using Alpha dropout for selu with lecun\n",
    "model_drop = tf.keras.models.Sequential()\n",
    "model_drop.add(tf.keras.layers.Flatten(input_shape=[28,28]))\n",
    "model_drop.add(tf.keras.layers.Dense(300, activation='selu', kernel_initializer='lecun_normal'))\n",
    "## version of dropout to self normalize with selu and lecun init.\n",
    "model_drop.add(tf.keras.layers.AlphaDropout(rate=0.5, seed=123))    ### you can use seed\n",
    "model_drop.add(tf.keras.layers.Dense(100, activation='selu', kernel_initializer='lecun_normal'))\n",
    "## version of dropout to self normalize with selu and lecun init.\n",
    "model_drop.add(tf.keras.layers.AlphaDropout(rate=0.5, seed=123)) \n",
    "model_drop.add(tf.keras.layers.Dense(10, activation='softmax'))"
   ]
  },
  {
   "cell_type": "markdown",
   "id": "e3ce110a",
   "metadata": {},
   "source": [
    "### Monto_Carlo (MC) Dropout\n",
    "`it provides much better measure of the model's uncertainity , gives you much insights for the output` <br />\n",
    "`MC dropout ==> get the probability by Activating the dropout during testing`"
   ]
  },
  {
   "cell_type": "code",
   "execution_count": 42,
   "id": "76b964ef",
   "metadata": {},
   "outputs": [
    {
     "name": "stdout",
     "output_type": "stream",
     "text": [
      "Epoch 1/5\n",
      "1688/1688 [==============================] - 9s 5ms/step - loss: 0.5800 - accuracy: 0.7914 - val_loss: 0.4152 - val_accuracy: 0.8513\n",
      "Epoch 2/5\n",
      "1688/1688 [==============================] - 9s 5ms/step - loss: 0.4533 - accuracy: 0.8371 - val_loss: 0.4001 - val_accuracy: 0.8488\n",
      "Epoch 3/5\n",
      "1688/1688 [==============================] - 9s 5ms/step - loss: 0.4244 - accuracy: 0.8456 - val_loss: 0.3672 - val_accuracy: 0.8623\n",
      "Epoch 4/5\n",
      "1688/1688 [==============================] - 9s 5ms/step - loss: 0.4051 - accuracy: 0.8534 - val_loss: 0.3597 - val_accuracy: 0.8657\n",
      "Epoch 5/5\n",
      "1688/1688 [==============================] - 9s 5ms/step - loss: 0.3923 - accuracy: 0.8590 - val_loss: 0.3552 - val_accuracy: 0.8662\n"
     ]
    }
   ],
   "source": [
    "### train and compile a model \n",
    "model = tf.keras.models.Sequential([\n",
    "                tf.keras.layers.Flatten(input_shape=[28, 28]),\n",
    "                tf.keras.layers.Dense(300, activation=\"elu\", kernel_initializer=\"he_normal\"),\n",
    "                tf.keras.layers.Dropout(rate=0.3),\n",
    "                tf.keras.layers.Dense(100, activation=\"elu\", kernel_initializer=\"he_normal\"),\n",
    "                tf.keras.layers.Dropout(rate=0.3),\n",
    "                tf.keras.layers.Dense(10, activation=\"softmax\")\n",
    "                            ])\n",
    "\n",
    "## you can try these criteria\n",
    "## => batch size=32 ==> (len(X_train) // 32)=no of batches in 1 epoch\n",
    "## for 20 epoch ===> we get the number of batches in 20 epoch\n",
    "\n",
    "n_epochs = 5\n",
    "s = n_epochs * len(X_train) // 32  \n",
    "lr_schedular = tf.keras.optimizers.schedules.ExponentialDecay(initial_learning_rate=0.01, \n",
    "                                                              decay_steps=s, decay_rate=0.1)\n",
    "\n",
    "optimizer_with_lr = tf.keras.optimizers.SGD(learning_rate=lr_schedular, momentum=0.9, nesterov=True)\n",
    "model.compile(loss='sparse_categorical_crossentropy', \n",
    "                      metrics=['accuracy'], \n",
    "                      optimizer=optimizer_with_lr)\n",
    "\n",
    "early_stopp = tf.keras.callbacks.EarlyStopping(patience=5, restore_best_weights=True)\n",
    "history = model.fit(X_train, y_train, \n",
    "                            epochs=n_epochs,\n",
    "                            validation_data=(X_val, y_val), \n",
    "                            batch_size=32, callbacks=[early_stopp])"
   ]
  },
  {
   "cell_type": "code",
   "execution_count": 43,
   "id": "23f698f4",
   "metadata": {},
   "outputs": [
    {
     "name": "stdout",
     "output_type": "stream",
     "text": [
      "y_probability_MC.shape => (100, 10000, 10)\n",
      "\n",
      "y_mean_each_MC.shape => (10000, 10)\n"
     ]
    }
   ],
   "source": [
    "## you predict X_test ('another method without calling predict')\n",
    "## I set trainig=True => to allow dropout during testing, that is not allowed in the ordinary cases\n",
    "\n",
    "## here i choose to make 100 prediction(randomly because dropout is active) for each instance\n",
    "## for each instance you have 100 diffrent proabilities, you can try other number\n",
    "y_probability_MC = np.stack([model(X_test, training=True) for sample in range(100)])\n",
    "y_mean_each_MC = y_probability_MC.mean(axis=0)\n",
    "# shape of the 100 prediction for each output , and 10 output classes (probabilty using softmax)\n",
    "print('y_probability_MC.shape =>', y_probability_MC.shape)\n",
    "print()\n",
    "## after thaking the mean ==> shape\n",
    "print('y_mean_each_MC.shape =>', y_mean_each_MC.shape)"
   ]
  },
  {
   "cell_type": "code",
   "execution_count": 44,
   "id": "1dbb3008",
   "metadata": {},
   "outputs": [
    {
     "data": {
      "text/plain": [
       "array([0.  , 0.  , 0.  , 0.  , 0.  , 0.14, 0.  , 0.11, 0.  , 0.74],\n",
       "      dtype=float32)"
      ]
     },
     "execution_count": 44,
     "metadata": {},
     "output_type": "execute_result"
    }
   ],
   "source": [
    "## for example for each instance >>> that is the mean probability of the prediction\n",
    "## this mean is over 100 randomly activating dropout during testing\n",
    "## that what is called MC Drop out\n",
    "## it gives you much uncertainity of your output\n",
    "## if you predict without MC, you will get a hard prediction cancelling the dropout at testing\n",
    "np.round(y_mean_each_MC[0], 2)  ## seems Good!"
   ]
  },
  {
   "cell_type": "code",
   "execution_count": null,
   "id": "1c1ea287",
   "metadata": {},
   "outputs": [],
   "source": []
  },
  {
   "cell_type": "markdown",
   "id": "cb12fc3a",
   "metadata": {},
   "source": [
    "### Max_Norm Regularizer\n",
    "\n",
    "`you can specify that your waeights is constraints by not exceed specified threshold` <br />\n",
    "\n",
    "`Max_Norm Regularization loss does not loss term to cost function, after each training step, compute the norm2 of weights and if they need scaling to not exceed a specified threshold`"
   ]
  },
  {
   "cell_type": "code",
   "execution_count": 45,
   "id": "a6546b7c",
   "metadata": {},
   "outputs": [
    {
     "name": "stdout",
     "output_type": "stream",
     "text": [
      "Epoch 1/3\n",
      "1688/1688 [==============================] - 11s 7ms/step - loss: 1.2056 - accuracy: 0.7354 - val_loss: 1.0087 - val_accuracy: 0.7973\n",
      "Epoch 2/3\n",
      "1688/1688 [==============================] - 11s 6ms/step - loss: 0.9835 - accuracy: 0.8041 - val_loss: 0.9421 - val_accuracy: 0.8248\n",
      "Epoch 3/3\n",
      "1688/1688 [==============================] - 11s 6ms/step - loss: 0.9491 - accuracy: 0.8150 - val_loss: 0.9235 - val_accuracy: 0.8253\n"
     ]
    }
   ],
   "source": [
    "### you can add kernel_constraint to the layers\n",
    "\n",
    "model_maxnorm = tf.keras.models.Sequential()\n",
    "\n",
    "from functools import partial\n",
    "## make ready layers to be added\n",
    "ready_add_layers = partial(tf.keras.layers.Dense, \n",
    "                            activation='elu', \n",
    "                            kernel_initializer='he_normal', \n",
    "                            kernel_regularizer=tf.keras.regularizers.l2(0.001),\n",
    "                            kernel_constraint=tf.keras.constraints.max_norm(1.0))  ## not exceed=1.0\n",
    "\n",
    "## add layers\n",
    "model_maxnorm.add(tf.keras.layers.Flatten(input_shape=[28, 28]))\n",
    "model_maxnorm.add(ready_add_layers(300))\n",
    "model_maxnorm.add(ready_add_layers(100))\n",
    "model_maxnorm.add(ready_add_layers(10, activation='softmax'))\n",
    "\n",
    "## making exponential schedular for learning rate, compile and fit the model\n",
    "## let's use only n_spochs = 3\n",
    "n_epochs = 3\n",
    "s = n_epochs * len(X_train) // 32\n",
    "lr_expon = tf.keras.optimizers.schedules.ExponentialDecay(initial_learning_rate=0.001, \n",
    "                                                          decay_steps=s, decay_rate=0.1)\n",
    "optim_sgd = tf.keras.optimizers.SGD(learning_rate=lr_expon, momentum=0.9, nesterov=True)\n",
    "## compile\n",
    "model_maxnorm.compile(loss='sparse_categorical_crossentropy', \n",
    "                      metrics=['accuracy'],\n",
    "                      optimizer=optim_sgd)\n",
    "## fit\n",
    "histroy = model_maxnorm.fit(X_train, y_train, validation_data=(X_val, y_val), \n",
    "                            epochs=n_epochs, batch_size=32, callbacks=[early_stopp])"
   ]
  },
  {
   "cell_type": "markdown",
   "id": "7c370195",
   "metadata": {},
   "source": [
    "-------\n",
    "-----\n"
   ]
  },
  {
   "cell_type": "markdown",
   "id": "fcca8c04",
   "metadata": {},
   "source": [
    "## Done!"
   ]
  }
 ],
 "metadata": {
  "kernelspec": {
   "display_name": "Python 3 (ipykernel)",
   "language": "python",
   "name": "python3"
  },
  "language_info": {
   "codemirror_mode": {
    "name": "ipython",
    "version": 3
   },
   "file_extension": ".py",
   "mimetype": "text/x-python",
   "name": "python",
   "nbconvert_exporter": "python",
   "pygments_lexer": "ipython3",
   "version": "3.8.8"
  }
 },
 "nbformat": 4,
 "nbformat_minor": 5
}
