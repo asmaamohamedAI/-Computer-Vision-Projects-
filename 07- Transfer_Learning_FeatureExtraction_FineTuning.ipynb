{
 "cells": [
  {
   "cell_type": "markdown",
   "metadata": {
    "id": "FjwnPM8_SFka"
   },
   "source": [
    "## Using a pre-trained ConvNet"
   ]
  },
  {
   "cell_type": "markdown",
   "metadata": {
    "id": "2SdT24qBSPVp"
   },
   "source": [
    "### Transfer Learning Scenarios\n",
    "\n",
    "__1- Feature Extraction without Data Augmentation__  <br />\n",
    "__2- Feature Extraction with Data Augmentation__ <br />\n",
    "__3- Fine Tuning__"
   ]
  },
  {
   "cell_type": "code",
   "execution_count": 1,
   "metadata": {
    "id": "_wD_wh7hSH9v"
   },
   "outputs": [],
   "source": [
    "import numpy as np\n",
    "import pandas as pd\n",
    "import matplotlib.pyplot as plt\n",
    "%matplotlib inline\n",
    "\n",
    "from sklearn import datasets\n",
    "from sklearn.preprocessing import StandardScaler\n",
    "from sklearn.model_selection import train_test_split\n",
    "from sklearn.metrics import accuracy_score\n",
    "\n",
    "import tensorflow as tf\n",
    "\n",
    "import os, shutil, tarfile"
   ]
  },
  {
   "cell_type": "markdown",
   "metadata": {
    "id": "O1nLAZYjSfGa"
   },
   "source": [
    "### Using VGG-16 pretrained Model"
   ]
  },
  {
   "cell_type": "code",
   "execution_count": 42,
   "metadata": {
    "id": "-esGJ5NsSioS"
   },
   "outputs": [],
   "source": [
    "## taking the weights of ImageNet Dataset and take only the convBase, I will make my top classifier\n",
    "from tensorflow.keras.applications import VGG16\n",
    "## Load the Model\n",
    "conv_base_vgg16 = VGG16(weights='imagenet', include_top=False, input_shape=(150, 150, 3))"
   ]
  },
  {
   "cell_type": "code",
   "execution_count": 43,
   "metadata": {
    "colab": {
     "base_uri": "https://localhost:8080/"
    },
    "id": "-L0GfiyUTCZt",
    "outputId": "5c0b80b8-7333-46d8-892f-330b6c1dcb63"
   },
   "outputs": [
    {
     "name": "stdout",
     "output_type": "stream",
     "text": [
      "Model: \"vgg16\"\n",
      "_________________________________________________________________\n",
      "Layer (type)                 Output Shape              Param #   \n",
      "=================================================================\n",
      "input_2 (InputLayer)         [(None, 150, 150, 3)]     0         \n",
      "_________________________________________________________________\n",
      "block1_conv1 (Conv2D)        (None, 150, 150, 64)      1792      \n",
      "_________________________________________________________________\n",
      "block1_conv2 (Conv2D)        (None, 150, 150, 64)      36928     \n",
      "_________________________________________________________________\n",
      "block1_pool (MaxPooling2D)   (None, 75, 75, 64)        0         \n",
      "_________________________________________________________________\n",
      "block2_conv1 (Conv2D)        (None, 75, 75, 128)       73856     \n",
      "_________________________________________________________________\n",
      "block2_conv2 (Conv2D)        (None, 75, 75, 128)       147584    \n",
      "_________________________________________________________________\n",
      "block2_pool (MaxPooling2D)   (None, 37, 37, 128)       0         \n",
      "_________________________________________________________________\n",
      "block3_conv1 (Conv2D)        (None, 37, 37, 256)       295168    \n",
      "_________________________________________________________________\n",
      "block3_conv2 (Conv2D)        (None, 37, 37, 256)       590080    \n",
      "_________________________________________________________________\n",
      "block3_conv3 (Conv2D)        (None, 37, 37, 256)       590080    \n",
      "_________________________________________________________________\n",
      "block3_pool (MaxPooling2D)   (None, 18, 18, 256)       0         \n",
      "_________________________________________________________________\n",
      "block4_conv1 (Conv2D)        (None, 18, 18, 512)       1180160   \n",
      "_________________________________________________________________\n",
      "block4_conv2 (Conv2D)        (None, 18, 18, 512)       2359808   \n",
      "_________________________________________________________________\n",
      "block4_conv3 (Conv2D)        (None, 18, 18, 512)       2359808   \n",
      "_________________________________________________________________\n",
      "block4_pool (MaxPooling2D)   (None, 9, 9, 512)         0         \n",
      "_________________________________________________________________\n",
      "block5_conv1 (Conv2D)        (None, 9, 9, 512)         2359808   \n",
      "_________________________________________________________________\n",
      "block5_conv2 (Conv2D)        (None, 9, 9, 512)         2359808   \n",
      "_________________________________________________________________\n",
      "block5_conv3 (Conv2D)        (None, 9, 9, 512)         2359808   \n",
      "_________________________________________________________________\n",
      "block5_pool (MaxPooling2D)   (None, 4, 4, 512)         0         \n",
      "=================================================================\n",
      "Total params: 14,714,688\n",
      "Trainable params: 14,714,688\n",
      "Non-trainable params: 0\n",
      "_________________________________________________________________\n"
     ]
    }
   ],
   "source": [
    "## check the summary \n",
    "conv_base_vgg16.summary()"
   ]
  },
  {
   "cell_type": "markdown",
   "metadata": {
    "colab": {
     "base_uri": "https://localhost:8080/"
    },
    "id": "6yqaMURaTgoe",
    "outputId": "c0f90fcc-f20f-4bb3-ed62-1d193f01a30b"
   },
   "source": [
    "#### Download the Dataset of dogs and cats from kaggle as we mentioned before using Kaggle API\n",
    "``` bash\n",
    "!pip install -q kaggle\n",
    "!mkdir ~/.kaggle\n",
    "!cp kaggle.json ~/.kaggle/\n",
    "!chmod 600 ~/.kaggle/kaggle.json\n",
    "!kaggle datasets list\n",
    "!kaggle competitions download -c dogs-vs-cats\n",
    "!unzip /content/train.zip\n",
    "```"
   ]
  },
  {
   "cell_type": "code",
   "execution_count": 4,
   "metadata": {
    "id": "iQQxfCa-VO9S"
   },
   "outputs": [],
   "source": [
    "## I downlaod the data to my pc\n",
    "\n",
    "original_dir = 'full_kaggle_dataset_dogs_cats'\n",
    "base_dir = 'cats_dogs_dataset'\n",
    "\n",
    "# check for directory\n",
    "if not os.path.isdir(base_dir):\n",
    "    os.makedirs(base_dir)\n",
    "\n",
    "# Directories for our training,\n",
    "# validation and test splits\n",
    "train_dir = os.path.join(base_dir, 'train')\n",
    "valid_dir = os.path.join(base_dir, 'valid')\n",
    "test_dir = os.path.join(base_dir, 'test')\n",
    "\n",
    "train_cats_dir = os.path.join(train_dir, 'cats')\n",
    "train_dogs_dir = os.path.join(train_dir, 'dogs')\n",
    "valid_cats_dir = os.path.join(valid_dir, 'cats')\n",
    "valid_dogs_dir = os.path.join(valid_dir, 'dogs')\n",
    "test_cats_dir = os.path.join(test_dir, 'cats')\n",
    "test_dogs_dir = os.path.join(test_dir, 'dogs')\n",
    "\n",
    "# check for directory\n",
    "if not os.path.isdir(train_dir):\n",
    "    os.makedirs(train_dir)\n",
    "# check for directory\n",
    "if not os.path.isdir(valid_dir):\n",
    "    os.makedirs(valid_dir)\n",
    "# check for directory\n",
    "if not os.path.isdir(test_dir):\n",
    "    os.makedirs(test_dir)\n",
    "    \n",
    "# check for directory\n",
    "if not os.path.isdir(train_cats_dir):\n",
    "    os.makedirs(train_cats_dir)\n",
    "# check for directory\n",
    "if not os.path.isdir(train_dogs_dir):\n",
    "    os.makedirs(train_dogs_dir)\n",
    "# check for directory\n",
    "if not os.path.isdir(valid_cats_dir):\n",
    "    os.makedirs(valid_cats_dir)\n",
    "# check for directory\n",
    "if not os.path.isdir(valid_dogs_dir):\n",
    "    os.makedirs(valid_dogs_dir)\n",
    "# check for directory\n",
    "if not os.path.isdir(test_cats_dir):\n",
    "    os.makedirs(test_cats_dir)\n",
    "# check for directory\n",
    "if not os.path.isdir(test_dogs_dir):\n",
    "    os.makedirs(test_dogs_dir)\n",
    "    \n",
    "    \n",
    "# Copy first 1000 cat images to train_cats_dir\n",
    "imgs_train = ['cat.{}.jpg'.format(i) for i in range(1000)]\n",
    "for img in imgs_train:\n",
    "    src = os.path.join(original_dir, img)\n",
    "    dst = os.path.join(train_cats_dir, img)\n",
    "    shutil.copyfile(src, dst)\n",
    "# Copy first 1000 dog images to train_dogs_dir\n",
    "imgs_train = ['dog.{}.jpg'.format(i) for i in range(1000)]\n",
    "for img in imgs_train:\n",
    "    src = os.path.join(original_dir, img)\n",
    "    dst = os.path.join(train_dogs_dir, img)\n",
    "    shutil.copyfile(src, dst)\n",
    "    \n",
    "# Copy second 500 cat images to valid_cats_dir\n",
    "imgs_valid = ['cat.{}.jpg'.format(i) for i in range(1000, 1500)]\n",
    "for img in imgs_valid:\n",
    "    src = os.path.join(original_dir, img)\n",
    "    dst = os.path.join(valid_cats_dir, img)\n",
    "    shutil.copyfile(src, dst)\n",
    "# Copy second 500 dog images to valid_dogs_dir\n",
    "imgs_valid = ['dog.{}.jpg'.format(i) for i in range(1000, 1500)]\n",
    "for img in imgs_valid:\n",
    "    src = os.path.join(original_dir, img)\n",
    "    dst = os.path.join(valid_dogs_dir, img)\n",
    "    shutil.copyfile(src, dst)\n",
    "    \n",
    "# Copy second 500 cat images to test_cats_dir\n",
    "imgs_test = ['cat.{}.jpg'.format(i) for i in range(1500, 2000)]\n",
    "for img in imgs_test:\n",
    "    src = os.path.join(original_dir, img)\n",
    "    dst = os.path.join(test_cats_dir, img)\n",
    "    shutil.copyfile(src, dst)\n",
    "# Copy second 500 dog images to test_dogs_dir\n",
    "imgs_test = ['dog.{}.jpg'.format(i) for i in range(1500, 2000)]\n",
    "for img in imgs_test:\n",
    "    src = os.path.join(original_dir, img)\n",
    "    dst = os.path.join(test_dogs_dir, img)\n",
    "    shutil.copyfile(src, dst)    ## data is ready"
   ]
  },
  {
   "cell_type": "markdown",
   "metadata": {
    "id": "lWqonuIbV8sO"
   },
   "source": [
    "### Feature Extraction without Data Augmentation\n",
    "` Note that conv_base_vgg16 --> extract Features (4, 4, 512)`"
   ]
  },
  {
   "cell_type": "code",
   "execution_count": 7,
   "metadata": {
    "id": "WRH9HRfzVoe1"
   },
   "outputs": [],
   "source": [
    "from tensorflow.keras.preprocessing.image import ImageDataGenerator\n",
    "\n",
    "datagen = ImageDataGenerator(rescale=1./255)\n",
    "n_batch_size = 20\n",
    "\n",
    "def extract_features(req_directory, req_sample_count):\n",
    "    ## empty array for both features and label\n",
    "    features = np.zeros((req_sample_count, 4, 4, 512))\n",
    "    labels = np.zeros(req_sample_count)\n",
    "    \n",
    "    generator_dir = datagen.flow_from_directory(directory=req_directory, target_size=(150, 150), \n",
    "                                                class_mode='binary', batch_size=n_batch_size, \n",
    "                                                color_mode='rgb', shuffle=True)  \n",
    "    i = 0\n",
    "    for inputs_batch, labels_batch in generator_dir:\n",
    "        features_batch = conv_base_vgg16.predict(inputs_batch)\n",
    "        ## fill the empty arrays\n",
    "        features[i*n_batch_size:(i+1)*n_batch_size] = features_batch\n",
    "        labels[i*n_batch_size:(i+1)*n_batch_size] = labels_batch\n",
    "        \n",
    "        i += 1\n",
    "        \n",
    "        ## break after full batch_size --> because generator yields does not stop\n",
    "        if i * n_batch_size >= req_sample_count:\n",
    "            break\n",
    "        \n",
    "    return features, labels"
   ]
  },
  {
   "cell_type": "code",
   "execution_count": 8,
   "metadata": {
    "id": "rglREl1cWHUb",
    "scrolled": true
   },
   "outputs": [
    {
     "name": "stdout",
     "output_type": "stream",
     "text": [
      "Found 2000 images belonging to 2 classes.\n",
      "Found 1000 images belonging to 2 classes.\n",
      "Found 1000 images belonging to 2 classes.\n",
      "train_features shape ... (2000, 4, 4, 512)\n",
      "train_labels shape ... (2000,)\n",
      "valid_features shape ... (1000, 4, 4, 512)\n",
      "valid_labels shape ... (1000,)\n",
      "test_features shape ... (1000, 4, 4, 512)\n",
      "test_labels shape ... (1000,)\n"
     ]
    }
   ],
   "source": [
    "## call the function to extract features and labels for (train, valid, test)\n",
    "## as mentioned before --> using only 1000/class for train, 500/class for both valid and test\n",
    "train_features, train_labels = extract_features(req_directory=train_dir, req_sample_count=2000)\n",
    "valid_features, valid_labels = extract_features(req_directory=valid_dir, req_sample_count=1000)\n",
    "test_features, test_labels = extract_features(req_directory=test_dir, req_sample_count=1000)\n",
    "\n",
    "## check shape\n",
    "print('train_features shape ...', train_features.shape)\n",
    "print('train_labels shape ...', train_labels.shape)\n",
    "print('valid_features shape ...', valid_features.shape)\n",
    "print('valid_labels shape ...', valid_labels.shape)\n",
    "print('test_features shape ...', test_features.shape)\n",
    "print('test_labels shape ...', test_labels.shape)"
   ]
  },
  {
   "cell_type": "markdown",
   "metadata": {},
   "source": [
    "##### `Very Important Point ---> you MUST Flatten the features as you will pass them to Dense directly `"
   ]
  },
  {
   "cell_type": "code",
   "execution_count": 9,
   "metadata": {},
   "outputs": [
    {
     "name": "stdout",
     "output_type": "stream",
     "text": [
      "train_features shape ... (2000, 8192)\n",
      "train_labels shape ... (2000,)\n",
      "valid_features shape ... (1000, 8192)\n",
      "valid_labels shape ... (1000,)\n",
      "test_features shape ... (1000, 8192)\n",
      "test_labels shape ... (1000,)\n"
     ]
    }
   ],
   "source": [
    "## reshape train_features, valid_features, test_features\n",
    "## reshaping will be to (batch_count x product)    #------> Note that\n",
    "train_features = np.reshape(train_features, (2000, 4*4*512))\n",
    "valid_features = np.reshape(valid_features, (1000, 4*4*512))\n",
    "test_features = np.reshape(test_features, (1000, 4*4*512))\n",
    "\n",
    "## check the shape now\n",
    "\n",
    "## check shape\n",
    "print('train_features shape ...', train_features.shape)\n",
    "print('train_labels shape ...', train_labels.shape)\n",
    "print('valid_features shape ...', valid_features.shape)\n",
    "print('valid_labels shape ...', valid_labels.shape)\n",
    "print('test_features shape ...', test_features.shape)\n",
    "print('test_labels shape ...', test_labels.shape)   ## ready to enter the model"
   ]
  },
  {
   "cell_type": "markdown",
   "metadata": {},
   "source": [
    "#### Build the Model"
   ]
  },
  {
   "cell_type": "code",
   "execution_count": 10,
   "metadata": {
    "scrolled": true
   },
   "outputs": [
    {
     "name": "stdout",
     "output_type": "stream",
     "text": [
      "Epoch 1/50\n",
      "100/100 [==============================] - 1s 9ms/step - loss: 0.4805 - accuracy: 0.7550 - val_loss: 0.2995 - val_accuracy: 0.8760\n",
      "Epoch 2/50\n",
      "100/100 [==============================] - 1s 8ms/step - loss: 0.2932 - accuracy: 0.8845 - val_loss: 0.2731 - val_accuracy: 0.8880\n",
      "Epoch 3/50\n",
      "100/100 [==============================] - 1s 8ms/step - loss: 0.2358 - accuracy: 0.9035 - val_loss: 0.2405 - val_accuracy: 0.9050\n",
      "Epoch 4/50\n",
      "100/100 [==============================] - 1s 8ms/step - loss: 0.2034 - accuracy: 0.9165 - val_loss: 0.2956 - val_accuracy: 0.8690\n",
      "Epoch 5/50\n",
      "100/100 [==============================] - 1s 7ms/step - loss: 0.1732 - accuracy: 0.9365 - val_loss: 0.2527 - val_accuracy: 0.8990\n",
      "Epoch 6/50\n",
      "100/100 [==============================] - 1s 7ms/step - loss: 0.1601 - accuracy: 0.9385 - val_loss: 0.2876 - val_accuracy: 0.8810\n",
      "Epoch 7/50\n",
      "100/100 [==============================] - 1s 8ms/step - loss: 0.1375 - accuracy: 0.9415 - val_loss: 0.2564 - val_accuracy: 0.8970\n",
      "Epoch 8/50\n",
      "100/100 [==============================] - 1s 7ms/step - loss: 0.1221 - accuracy: 0.9510 - val_loss: 0.2460 - val_accuracy: 0.9020\n",
      "Epoch 9/50\n",
      "100/100 [==============================] - 1s 8ms/step - loss: 0.1009 - accuracy: 0.9650 - val_loss: 0.2508 - val_accuracy: 0.9010\n",
      "Epoch 10/50\n",
      "100/100 [==============================] - 1s 8ms/step - loss: 0.0949 - accuracy: 0.9650 - val_loss: 0.2509 - val_accuracy: 0.9020\n"
     ]
    }
   ],
   "source": [
    "model_extract = tf.keras.models.Sequential([\n",
    "    ## we add only the top classifier --> \n",
    "    ## as our inputs to the model are 4x4x512 (extracted features already)\n",
    "    tf.keras.layers.Dense(256, activation='relu', input_shape=(4*4*512,)),\n",
    "    tf.keras.layers.Dropout(0.5),\n",
    "    tf.keras.layers.Dense(1, activation='sigmoid')   ## binary\n",
    "])\n",
    "\n",
    "model_extract.compile(loss='binary_crossentropy', \n",
    "              optimizer=tf.keras.optimizers.RMSprop(learning_rate=1e-4), \n",
    "              metrics=['accuracy'])\n",
    "early_stopp = tf.keras.callbacks.EarlyStopping(patience=7, restore_best_weights=True)\n",
    "\n",
    "history_extract = model_extract.fit(train_features, train_labels, \n",
    "                                    validation_data=(valid_features, valid_labels), \n",
    "                                    epochs=50, batch_size=20, callbacks=[early_stopp])"
   ]
  },
  {
   "cell_type": "code",
   "execution_count": 17,
   "metadata": {},
   "outputs": [
    {
     "data": {
      "image/png": "[encoded data removed]",
      "text/plain": [
       "<Figure size 864x288 with 2 Axes>"
      ]
     },
     "metadata": {},
     "output_type": "display_data"
    }
   ],
   "source": [
    "## Visualize the resutls\n",
    "n_epochs = len(history_extract.history['accuracy'])\n",
    "\n",
    "plt.style.use('ggplot')\n",
    "fig, ax = plt.subplots(1, 2, figsize=(12, 4))\n",
    "\n",
    "plt.sca(ax[0])\n",
    "plt.plot(range(1, n_epochs+1), history_extract.history['accuracy'], 'bo', label='Train Accuracy')\n",
    "plt.plot(range(1, n_epochs+1), history_extract.history['val_accuracy'], 'r-', label='Valid Accuracy')\n",
    "plt.xlabel('Epochs', fontsize=14)\n",
    "plt.ylabel('Accuracy',  fontsize=14)\n",
    "plt.legend()\n",
    "\n",
    "plt.sca(ax[1])\n",
    "plt.plot(range(1, n_epochs+1), history_extract.history['loss'], 'bo', label='Train loss')\n",
    "plt.plot(range(1, n_epochs+1), history_extract.history['val_loss'], 'r-', label='Valid loss')\n",
    "plt.xlabel('Epochs', fontsize=14)\n",
    "plt.ylabel('Loss',  fontsize=14)\n",
    "plt.legend()\n",
    "plt.show()"
   ]
  },
  {
   "cell_type": "code",
   "execution_count": 11,
   "metadata": {},
   "outputs": [
    {
     "name": "stdout",
     "output_type": "stream",
     "text": [
      "32/32 [==============================] - 0s 4ms/step - loss: 0.2607 - accuracy: 0.8870\n",
      "loss_test --> 0.2607244849205017\n",
      "acc_test --> 0.8870000243186951\n"
     ]
    }
   ],
   "source": [
    "## evaluating on test set\n",
    "loss_test, acc_test = model_extract.evaluate(test_features, test_labels)\n",
    "print('loss_test -->', loss_test)\n",
    "print('acc_test -->', acc_test)"
   ]
  },
  {
   "cell_type": "markdown",
   "metadata": {},
   "source": [
    "### Feature Extractinon with Data Augmentation"
   ]
  },
  {
   "cell_type": "code",
   "execution_count": 12,
   "metadata": {},
   "outputs": [
    {
     "name": "stdout",
     "output_type": "stream",
     "text": [
      "Model: \"sequential_1\"\n",
      "_________________________________________________________________\n",
      "Layer (type)                 Output Shape              Param #   \n",
      "=================================================================\n",
      "vgg16 (Functional)           (None, 4, 4, 512)         14714688  \n",
      "_________________________________________________________________\n",
      "flatten (Flatten)            (None, 8192)              0         \n",
      "_________________________________________________________________\n",
      "dense_2 (Dense)              (None, 256)               2097408   \n",
      "_________________________________________________________________\n",
      "dense_3 (Dense)              (None, 1)                 257       \n",
      "=================================================================\n",
      "Total params: 16,812,353\n",
      "Trainable params: 16,812,353\n",
      "Non-trainable params: 0\n",
      "_________________________________________________________________\n"
     ]
    }
   ],
   "source": [
    "## Build a Model but add the conv_base to it\n",
    "\n",
    "model_extract_aug = tf.keras.models.Sequential([\n",
    "                        conv_base_vgg16,    ## Add the conv_base\n",
    "                        ## Do not forget to flatten\n",
    "                        tf.keras.layers.Flatten(),\n",
    "                        tf.keras.layers.Dense(256, activation='relu'),\n",
    "                        tf.keras.layers.Dense(1, activation='sigmoid')\n",
    "])\n",
    "\n",
    "model_extract_aug.summary()  ## very nice"
   ]
  },
  {
   "cell_type": "code",
   "execution_count": 13,
   "metadata": {
    "scrolled": true
   },
   "outputs": [
    {
     "name": "stdout",
     "output_type": "stream",
     "text": [
      "Number of trainable weights before freezing --> 30\n",
      "Number of trainable weights after freezing --> 4\n"
     ]
    }
   ],
   "source": [
    "## check trainable weights\n",
    "## for each conv or dense --> 1 for weight and 1 for bias --> you can calculate 30\n",
    "print('Number of trainable weights before freezing -->', len(model_extract_aug.trainable_weights))\n",
    "\n",
    "conv_base_vgg16.trainable = False    ###  --> Freezing the model to be as it is\n",
    "\n",
    "print('Number of trainable weights after freezing -->', len(model_extract_aug.trainable_weights))"
   ]
  },
  {
   "cell_type": "markdown",
   "metadata": {},
   "source": [
    "__Please take care of the parameter: process_input in ImageDataGenerator class.__\n",
    "This one is important as it performs the necessary preprocessing needed for the image before giving it to the model you transfer from.\n",
    "Every pre-trained net typically provides the good pre-processing function.\n",
    "\n",
    "For VGG16: keras.applications.vgg16.preprocess_input\n",
    "It's also ok to use from keras.applications.imagenet_utils import preprocess_input in case of VGG"
   ]
  },
  {
   "cell_type": "code",
   "execution_count": 14,
   "metadata": {},
   "outputs": [
    {
     "name": "stdout",
     "output_type": "stream",
     "text": [
      "Found 2000 images belonging to 2 classes.\n",
      "Found 1000 images belonging to 2 classes.\n",
      "Found 1000 images belonging to 2 classes.\n"
     ]
    }
   ],
   "source": [
    "### we can do Augmentation now\n",
    "from tensorflow.keras.applications.vgg16 import preprocess_input\n",
    "\n",
    "train_datagen = ImageDataGenerator(\n",
    "                           rescale=1./255,   \n",
    "        ## use VGG16 function for processing --> check this function (not divide by 255)\n",
    "                           preprocessing_function=preprocess_input, \n",
    "                           rotation_range=40, \n",
    "                            width_shift_range=0.2, \n",
    "                            height_shift_range=0.2, \n",
    "                            shear_range=0.2, \n",
    "                            zoom_range=0.2, \n",
    "                            horizontal_flip=True, \n",
    "                            fill_mode='nearest')\n",
    "\n",
    "test_datagen = ImageDataGenerator(rescale=1./255, preprocessing_function=preprocess_input)\n",
    "\n",
    "## craete the Generators for train, valid and test\n",
    "\n",
    "## only Augmentation for training Data ---> so only train_datagen\n",
    "train_gen = train_datagen.flow_from_directory(directory=train_dir, \n",
    "                                                    target_size=(150, 150), \n",
    "                                                    color_mode='rgb',  batch_size=20, \n",
    "                                                    class_mode='binary')\n",
    "## only Augmentation for training Data ---> so only train_datagen\n",
    "valid_gen = test_datagen.flow_from_directory(directory=valid_dir, \n",
    "                                                    target_size=(150, 150), \n",
    "                                                    color_mode='rgb',  batch_size=20, \n",
    "                                                    class_mode='binary')\n",
    "## only Augmentation for training Data ---> so only train_datagen\n",
    "test_gen = test_datagen.flow_from_directory(directory=test_dir, \n",
    "                                                    target_size=(150, 150), \n",
    "                                                    color_mode='rgb',  batch_size=20, \n",
    "                                                    class_mode='binary')"
   ]
  },
  {
   "cell_type": "code",
   "execution_count": 15,
   "metadata": {
    "scrolled": true
   },
   "outputs": [
    {
     "name": "stdout",
     "output_type": "stream",
     "text": [
      "Epoch 1/30\n",
      "100/100 [==============================] - 22s 217ms/step - loss: 0.5824 - accuracy: 0.7035 - val_loss: 0.4103 - val_accuracy: 0.8440\n",
      "Epoch 2/30\n",
      "100/100 [==============================] - 22s 216ms/step - loss: 0.4553 - accuracy: 0.8050 - val_loss: 0.3252 - val_accuracy: 0.8790\n",
      "Epoch 3/30\n",
      "100/100 [==============================] - 21s 206ms/step - loss: 0.3937 - accuracy: 0.8310 - val_loss: 0.3094 - val_accuracy: 0.8640\n",
      "Epoch 4/30\n",
      "100/100 [==============================] - 20s 202ms/step - loss: 0.3706 - accuracy: 0.8350 - val_loss: 0.2710 - val_accuracy: 0.8850\n",
      "Epoch 5/30\n",
      "100/100 [==============================] - 20s 205ms/step - loss: 0.3650 - accuracy: 0.8350 - val_loss: 0.2645 - val_accuracy: 0.8900\n",
      "Epoch 6/30\n",
      "100/100 [==============================] - 20s 202ms/step - loss: 0.3317 - accuracy: 0.8485 - val_loss: 0.2554 - val_accuracy: 0.8870\n",
      "Epoch 7/30\n",
      "100/100 [==============================] - 20s 203ms/step - loss: 0.3273 - accuracy: 0.8525 - val_loss: 0.2582 - val_accuracy: 0.8900\n",
      "Epoch 8/30\n",
      "100/100 [==============================] - 21s 206ms/step - loss: 0.3088 - accuracy: 0.8610 - val_loss: 0.2362 - val_accuracy: 0.8920\n",
      "Epoch 9/30\n",
      "100/100 [==============================] - 20s 203ms/step - loss: 0.3056 - accuracy: 0.8645 - val_loss: 0.2356 - val_accuracy: 0.9050\n",
      "Epoch 10/30\n",
      "100/100 [==============================] - 20s 203ms/step - loss: 0.2946 - accuracy: 0.8710 - val_loss: 0.2279 - val_accuracy: 0.8920\n",
      "Epoch 11/30\n",
      "100/100 [==============================] - 20s 203ms/step - loss: 0.2884 - accuracy: 0.8775 - val_loss: 0.2324 - val_accuracy: 0.8960\n",
      "Epoch 12/30\n",
      "100/100 [==============================] - 22s 216ms/step - loss: 0.2781 - accuracy: 0.8855 - val_loss: 0.2338 - val_accuracy: 0.9010\n",
      "Epoch 13/30\n",
      "100/100 [==============================] - 22s 223ms/step - loss: 0.2726 - accuracy: 0.8735 - val_loss: 0.2284 - val_accuracy: 0.9030\n",
      "Epoch 14/30\n",
      "100/100 [==============================] - 21s 214ms/step - loss: 0.2770 - accuracy: 0.8795 - val_loss: 0.2243 - val_accuracy: 0.9050\n",
      "Epoch 15/30\n",
      "100/100 [==============================] - 21s 214ms/step - loss: 0.2792 - accuracy: 0.8835 - val_loss: 0.2322 - val_accuracy: 0.9020\n",
      "Epoch 16/30\n",
      "100/100 [==============================] - 21s 214ms/step - loss: 0.2875 - accuracy: 0.8745 - val_loss: 0.2219 - val_accuracy: 0.9050\n",
      "Epoch 17/30\n",
      "100/100 [==============================] - 21s 212ms/step - loss: 0.2649 - accuracy: 0.8875 - val_loss: 0.2353 - val_accuracy: 0.8970\n",
      "Epoch 18/30\n",
      "100/100 [==============================] - 21s 212ms/step - loss: 0.2723 - accuracy: 0.8845 - val_loss: 0.2235 - val_accuracy: 0.9040\n",
      "Epoch 19/30\n",
      "100/100 [==============================] - 21s 210ms/step - loss: 0.2621 - accuracy: 0.8925 - val_loss: 0.2240 - val_accuracy: 0.9030\n",
      "Epoch 20/30\n",
      "100/100 [==============================] - 21s 210ms/step - loss: 0.2597 - accuracy: 0.8840 - val_loss: 0.2532 - val_accuracy: 0.8910\n",
      "Epoch 21/30\n",
      "100/100 [==============================] - 21s 211ms/step - loss: 0.2652 - accuracy: 0.8875 - val_loss: 0.2211 - val_accuracy: 0.9040\n",
      "Epoch 22/30\n",
      "100/100 [==============================] - 21s 212ms/step - loss: 0.2638 - accuracy: 0.8850 - val_loss: 0.2200 - val_accuracy: 0.9030\n",
      "Epoch 23/30\n",
      "100/100 [==============================] - 23s 228ms/step - loss: 0.2606 - accuracy: 0.8880 - val_loss: 0.2167 - val_accuracy: 0.9030\n",
      "Epoch 24/30\n",
      "100/100 [==============================] - 23s 224ms/step - loss: 0.2541 - accuracy: 0.8830 - val_loss: 0.2170 - val_accuracy: 0.9110\n",
      "Epoch 25/30\n",
      "100/100 [==============================] - 22s 219ms/step - loss: 0.2552 - accuracy: 0.8905 - val_loss: 0.2291 - val_accuracy: 0.9030\n",
      "Epoch 26/30\n",
      "100/100 [==============================] - 22s 216ms/step - loss: 0.2571 - accuracy: 0.8900 - val_loss: 0.2166 - val_accuracy: 0.9080\n",
      "Epoch 27/30\n",
      "100/100 [==============================] - 22s 221ms/step - loss: 0.2437 - accuracy: 0.8865 - val_loss: 0.2188 - val_accuracy: 0.9110\n",
      "Epoch 28/30\n",
      "100/100 [==============================] - 22s 225ms/step - loss: 0.2412 - accuracy: 0.8975 - val_loss: 0.2171 - val_accuracy: 0.9090\n",
      "Epoch 29/30\n",
      "100/100 [==============================] - 22s 219ms/step - loss: 0.2500 - accuracy: 0.8940 - val_loss: 0.2157 - val_accuracy: 0.9090\n",
      "Epoch 30/30\n",
      "100/100 [==============================] - 22s 219ms/step - loss: 0.2449 - accuracy: 0.9010 - val_loss: 0.2170 - val_accuracy: 0.9070\n"
     ]
    }
   ],
   "source": [
    "## train the model\n",
    "model_extract_aug.compile(loss='binary_crossentropy', \n",
    "                          optimizer=tf.keras.optimizers.RMSprop(learning_rate=2e-5), \n",
    "                          metrics=['accuracy'])\n",
    "\n",
    "## Here Generator ---> it will loop forever --> specity steps for training and validation\n",
    "history_extract_aug = model_extract_aug.fit(train_gen, validation_data=(valid_gen), \n",
    "                                            steps_per_epoch=100, validation_steps=50,\n",
    "                                            epochs=30, batch_size=20)"
   ]
  },
  {
   "cell_type": "code",
   "execution_count": 18,
   "metadata": {},
   "outputs": [
    {
     "data": {
      "image/png": "[encoded data removed]",
      "text/plain": [
       "<Figure size 864x288 with 2 Axes>"
      ]
     },
     "metadata": {},
     "output_type": "display_data"
    }
   ],
   "source": [
    "## Visualize the resutls\n",
    "n_epochs = len(history_extract_aug.history['accuracy'])\n",
    "\n",
    "plt.style.use('ggplot')\n",
    "fig, ax = plt.subplots(1, 2, figsize=(12, 4))\n",
    "\n",
    "plt.sca(ax[0])\n",
    "plt.plot(range(1, n_epochs+1), history_extract_aug.history['accuracy'], 'bo', label='Train Accuracy')\n",
    "plt.plot(range(1, n_epochs+1), history_extract_aug.history['val_accuracy'], 'r-', label='Valid Accuracy')\n",
    "plt.xlabel('Epochs', fontsize=14)\n",
    "plt.ylabel('Accuracy',  fontsize=14)\n",
    "plt.legend()\n",
    "\n",
    "plt.sca(ax[1])\n",
    "plt.plot(range(1, n_epochs+1), history_extract_aug.history['loss'], 'bo', label='Train loss')\n",
    "plt.plot(range(1, n_epochs+1), history_extract_aug.history['val_loss'], 'r-', label='Valid loss')\n",
    "plt.xlabel('Epochs', fontsize=14)\n",
    "plt.ylabel('Loss',  fontsize=14)\n",
    "plt.legend()\n",
    "plt.show()"
   ]
  },
  {
   "cell_type": "code",
   "execution_count": 22,
   "metadata": {},
   "outputs": [
    {
     "name": "stdout",
     "output_type": "stream",
     "text": [
      "loss_test --> 0.2164728343486786\n",
      "acc_test --> 0.9120000004768372\n"
     ]
    }
   ],
   "source": [
    "## evaluating on test set\n",
    "loss_test, acc_test = model_extract_aug.evaluate_generator(test_gen)\n",
    "print('loss_test -->', loss_test)\n",
    "print('acc_test -->', acc_test)"
   ]
  },
  {
   "cell_type": "code",
   "execution_count": 24,
   "metadata": {},
   "outputs": [],
   "source": [
    "## save the model ---> (Feature Extraction wit h Augmentation)\n",
    "model_extract_aug.save('vgg16_withAugmentation.h5')"
   ]
  },
  {
   "cell_type": "markdown",
   "metadata": {},
   "source": [
    "### Fine-Tuning a pre-trained Model\n",
    "\n",
    "`Let's tune only three final convolution layers VGG16 --> from | block5_conv1 (Conv2D) `"
   ]
  },
  {
   "cell_type": "code",
   "execution_count": 51,
   "metadata": {},
   "outputs": [
    {
     "name": "stdout",
     "output_type": "stream",
     "text": [
      "Model: \"vgg16\"\n",
      "_________________________________________________________________\n",
      "Layer (type)                 Output Shape              Param #   \n",
      "=================================================================\n",
      "input_2 (InputLayer)         [(None, 150, 150, 3)]     0         \n",
      "_________________________________________________________________\n",
      "block1_conv1 (Conv2D)        (None, 150, 150, 64)      1792      \n",
      "_________________________________________________________________\n",
      "block1_conv2 (Conv2D)        (None, 150, 150, 64)      36928     \n",
      "_________________________________________________________________\n",
      "block1_pool (MaxPooling2D)   (None, 75, 75, 64)        0         \n",
      "_________________________________________________________________\n",
      "block2_conv1 (Conv2D)        (None, 75, 75, 128)       73856     \n",
      "_________________________________________________________________\n",
      "block2_conv2 (Conv2D)        (None, 75, 75, 128)       147584    \n",
      "_________________________________________________________________\n",
      "block2_pool (MaxPooling2D)   (None, 37, 37, 128)       0         \n",
      "_________________________________________________________________\n",
      "block3_conv1 (Conv2D)        (None, 37, 37, 256)       295168    \n",
      "_________________________________________________________________\n",
      "block3_conv2 (Conv2D)        (None, 37, 37, 256)       590080    \n",
      "_________________________________________________________________\n",
      "block3_conv3 (Conv2D)        (None, 37, 37, 256)       590080    \n",
      "_________________________________________________________________\n",
      "block3_pool (MaxPooling2D)   (None, 18, 18, 256)       0         \n",
      "_________________________________________________________________\n",
      "block4_conv1 (Conv2D)        (None, 18, 18, 512)       1180160   \n",
      "_________________________________________________________________\n",
      "block4_conv2 (Conv2D)        (None, 18, 18, 512)       2359808   \n",
      "_________________________________________________________________\n",
      "block4_conv3 (Conv2D)        (None, 18, 18, 512)       2359808   \n",
      "_________________________________________________________________\n",
      "block4_pool (MaxPooling2D)   (None, 9, 9, 512)         0         \n",
      "_________________________________________________________________\n",
      "block5_conv1 (Conv2D)        (None, 9, 9, 512)         2359808   \n",
      "_________________________________________________________________\n",
      "block5_conv2 (Conv2D)        (None, 9, 9, 512)         2359808   \n",
      "_________________________________________________________________\n",
      "block5_conv3 (Conv2D)        (None, 9, 9, 512)         2359808   \n",
      "_________________________________________________________________\n",
      "block5_pool (MaxPooling2D)   (None, 4, 4, 512)         0         \n",
      "=================================================================\n",
      "Total params: 14,714,688\n",
      "Trainable params: 7,079,424\n",
      "Non-trainable params: 7,635,264\n",
      "_________________________________________________________________\n"
     ]
    }
   ],
   "source": [
    "## check the VGG16\n",
    "conv_base_vgg16.summary()"
   ]
  },
  {
   "cell_type": "code",
   "execution_count": 52,
   "metadata": {},
   "outputs": [
    {
     "name": "stdout",
     "output_type": "stream",
     "text": [
      "Model: \"sequential_5\"\n",
      "_________________________________________________________________\n",
      "Layer (type)                 Output Shape              Param #   \n",
      "=================================================================\n",
      "vgg16 (Functional)           (None, 4, 4, 512)         14714688  \n",
      "_________________________________________________________________\n",
      "flatten_4 (Flatten)          (None, 8192)              0         \n",
      "_________________________________________________________________\n",
      "dense_10 (Dense)             (None, 256)               2097408   \n",
      "_________________________________________________________________\n",
      "dense_11 (Dense)             (None, 1)                 257       \n",
      "=================================================================\n",
      "Total params: 16,812,353\n",
      "Trainable params: 9,177,089\n",
      "Non-trainable params: 7,635,264\n",
      "_________________________________________________________________\n"
     ]
    }
   ],
   "source": [
    "## Build a Model but add the conv_base to it\n",
    "\n",
    "model_tuned = tf.keras.models.Sequential([\n",
    "                        conv_base_vgg16,    ## Add the conv_base\n",
    "                        ## Do not forget to flatten\n",
    "                        tf.keras.layers.Flatten(),\n",
    "                        tf.keras.layers.Dense(256, activation='relu'),\n",
    "                        tf.keras.layers.Dense(1, activation='sigmoid')\n",
    "])\n",
    "\n",
    "model_tuned.summary()  ## very nice"
   ]
  },
  {
   "cell_type": "code",
   "execution_count": 53,
   "metadata": {},
   "outputs": [
    {
     "name": "stdout",
     "output_type": "stream",
     "text": [
      "traiable_layers_vgg --> ['block5_conv1', 'block5_conv2', 'block5_conv3', 'block5_pool']\n"
     ]
    }
   ],
   "source": [
    "## we should unfreeze the 3 layers and train the model\n",
    "conv_base_vgg16.trainable = True     ## unfreeze all , then will be handled in the below code\n",
    "\n",
    "set_trainable = False\n",
    "for layer in conv_base_vgg16.layers:\n",
    "    if layer.name == 'block5_conv1' or layer.name == 'block5_conv2' or layer.name == 'block5_conv3':\n",
    "        set_trainable = True\n",
    "        \n",
    "    if set_trainable:\n",
    "        layer.trainable = True\n",
    "    else:\n",
    "        layer.trainable = False\n",
    "        \n",
    "\n",
    "\n",
    "## chek that you made them trainable\n",
    "traiable_layers_vgg = [layer.name for layer in model_tuned.get_layer('vgg16').layers \n",
    "                                       if layer.trainable==True]\n",
    "\n",
    "print('traiable_layers_vgg -->', traiable_layers_vgg)"
   ]
  },
  {
   "cell_type": "code",
   "execution_count": 54,
   "metadata": {},
   "outputs": [
    {
     "name": "stdout",
     "output_type": "stream",
     "text": [
      "Epoch 1/30\n",
      "100/100 [==============================] - 24s 231ms/step - loss: 0.5235 - accuracy: 0.7455 - val_loss: 0.3423 - val_accuracy: 0.8470\n",
      "Epoch 2/30\n",
      "100/100 [==============================] - 22s 219ms/step - loss: 0.3408 - accuracy: 0.8535 - val_loss: 0.2218 - val_accuracy: 0.9050\n",
      "Epoch 3/30\n",
      "100/100 [==============================] - 22s 218ms/step - loss: 0.2938 - accuracy: 0.8770 - val_loss: 0.1976 - val_accuracy: 0.9130\n",
      "Epoch 4/30\n",
      "100/100 [==============================] - 21s 214ms/step - loss: 0.2787 - accuracy: 0.8865 - val_loss: 0.1835 - val_accuracy: 0.9120\n",
      "Epoch 5/30\n",
      "100/100 [==============================] - 21s 210ms/step - loss: 0.2323 - accuracy: 0.9025 - val_loss: 0.1798 - val_accuracy: 0.9130\n",
      "Epoch 6/30\n",
      "100/100 [==============================] - 21s 210ms/step - loss: 0.2220 - accuracy: 0.9035 - val_loss: 0.1761 - val_accuracy: 0.9200\n",
      "Epoch 7/30\n",
      "100/100 [==============================] - 22s 216ms/step - loss: 0.1964 - accuracy: 0.9140 - val_loss: 0.1685 - val_accuracy: 0.9260\n",
      "Epoch 8/30\n",
      "100/100 [==============================] - 21s 209ms/step - loss: 0.2064 - accuracy: 0.9085 - val_loss: 0.2064 - val_accuracy: 0.9090\n",
      "Epoch 9/30\n",
      "100/100 [==============================] - 21s 209ms/step - loss: 0.1839 - accuracy: 0.9280 - val_loss: 0.1967 - val_accuracy: 0.9180\n",
      "Epoch 10/30\n",
      "100/100 [==============================] - 22s 222ms/step - loss: 0.1797 - accuracy: 0.9295 - val_loss: 0.1738 - val_accuracy: 0.9220\n",
      "Epoch 11/30\n",
      "100/100 [==============================] - 21s 206ms/step - loss: 0.1721 - accuracy: 0.9365 - val_loss: 0.1621 - val_accuracy: 0.9260\n",
      "Epoch 12/30\n",
      "100/100 [==============================] - 21s 207ms/step - loss: 0.1551 - accuracy: 0.9380 - val_loss: 0.1677 - val_accuracy: 0.9300\n",
      "Epoch 13/30\n",
      "100/100 [==============================] - 21s 209ms/step - loss: 0.1524 - accuracy: 0.9355 - val_loss: 0.1563 - val_accuracy: 0.9280\n",
      "Epoch 14/30\n",
      "100/100 [==============================] - 21s 211ms/step - loss: 0.1482 - accuracy: 0.9425 - val_loss: 0.1547 - val_accuracy: 0.9330\n",
      "Epoch 15/30\n",
      "100/100 [==============================] - 22s 217ms/step - loss: 0.1304 - accuracy: 0.9535 - val_loss: 0.1574 - val_accuracy: 0.9310\n",
      "Epoch 16/30\n",
      "100/100 [==============================] - 21s 211ms/step - loss: 0.1328 - accuracy: 0.9460 - val_loss: 0.1487 - val_accuracy: 0.9370\n",
      "Epoch 17/30\n",
      "100/100 [==============================] - 23s 234ms/step - loss: 0.1268 - accuracy: 0.9480 - val_loss: 0.1577 - val_accuracy: 0.9400\n",
      "Epoch 18/30\n",
      "100/100 [==============================] - 22s 219ms/step - loss: 0.1236 - accuracy: 0.9560 - val_loss: 0.1520 - val_accuracy: 0.9350\n",
      "Epoch 19/30\n",
      "100/100 [==============================] - 25s 249ms/step - loss: 0.1187 - accuracy: 0.9515 - val_loss: 0.1518 - val_accuracy: 0.9350\n",
      "Epoch 20/30\n",
      "100/100 [==============================] - 27s 266ms/step - loss: 0.1223 - accuracy: 0.9540 - val_loss: 0.1604 - val_accuracy: 0.9360\n",
      "Epoch 21/30\n",
      "100/100 [==============================] - 25s 251ms/step - loss: 0.1163 - accuracy: 0.9480 - val_loss: 0.1537 - val_accuracy: 0.9380\n",
      "Epoch 22/30\n",
      "100/100 [==============================] - 22s 217ms/step - loss: 0.0949 - accuracy: 0.9620 - val_loss: 0.1506 - val_accuracy: 0.9390\n",
      "Epoch 23/30\n",
      "100/100 [==============================] - 22s 216ms/step - loss: 0.1037 - accuracy: 0.9540 - val_loss: 0.1595 - val_accuracy: 0.9340\n",
      "Epoch 24/30\n",
      "100/100 [==============================] - 22s 219ms/step - loss: 0.1023 - accuracy: 0.9560 - val_loss: 0.1692 - val_accuracy: 0.9300\n",
      "Epoch 25/30\n",
      "100/100 [==============================] - 25s 250ms/step - loss: 0.0922 - accuracy: 0.9630 - val_loss: 0.1591 - val_accuracy: 0.9360\n",
      "Epoch 26/30\n",
      "100/100 [==============================] - 25s 247ms/step - loss: 0.0899 - accuracy: 0.9620 - val_loss: 0.2189 - val_accuracy: 0.9200\n",
      "Epoch 27/30\n",
      "100/100 [==============================] - 22s 221ms/step - loss: 0.0776 - accuracy: 0.9710 - val_loss: 0.1502 - val_accuracy: 0.9410\n",
      "Epoch 28/30\n",
      "100/100 [==============================] - 21s 213ms/step - loss: 0.0907 - accuracy: 0.9625 - val_loss: 0.1594 - val_accuracy: 0.9380\n",
      "Epoch 29/30\n",
      "100/100 [==============================] - 21s 212ms/step - loss: 0.0777 - accuracy: 0.9700 - val_loss: 0.1513 - val_accuracy: 0.9410\n",
      "Epoch 30/30\n",
      "100/100 [==============================] - 22s 222ms/step - loss: 0.0761 - accuracy: 0.9710 - val_loss: 0.1544 - val_accuracy: 0.9400\n"
     ]
    }
   ],
   "source": [
    "## train the model\n",
    "model_tuned.compile(loss='binary_crossentropy', \n",
    "                      optimizer=tf.keras.optimizers.RMSprop(learning_rate=1e-5), \n",
    "                      metrics=['accuracy'])\n",
    "\n",
    "## Here Generator ---> it will loop forever --> specity steps for training and validation\n",
    "history_tuned = model_tuned.fit(train_gen, validation_data=(valid_gen), \n",
    "                                steps_per_epoch=100, validation_steps=50,\n",
    "                                epochs=30, batch_size=20)"
   ]
  },
  {
   "cell_type": "code",
   "execution_count": 55,
   "metadata": {},
   "outputs": [
    {
     "data": {
      "image/png": "[encoded data removed]",
      "text/plain": [
       "<Figure size 864x288 with 2 Axes>"
      ]
     },
     "metadata": {},
     "output_type": "display_data"
    }
   ],
   "source": [
    "## Visualize the resutls\n",
    "n_epochs = len(history_tuned.history['accuracy'])\n",
    "\n",
    "plt.style.use('ggplot')\n",
    "fig, ax = plt.subplots(1, 2, figsize=(12, 4))\n",
    "\n",
    "plt.sca(ax[0])\n",
    "plt.plot(range(1, n_epochs+1), history_tuned.history['accuracy'], 'bo', label='Train Accuracy')\n",
    "plt.plot(range(1, n_epochs+1), history_tuned.history['val_accuracy'], 'r-', label='Valid Accuracy')\n",
    "plt.xlabel('Epochs', fontsize=14)\n",
    "plt.ylabel('Accuracy',  fontsize=14)\n",
    "plt.legend()\n",
    "\n",
    "plt.sca(ax[1])\n",
    "plt.plot(range(1, n_epochs+1), history_tuned.history['loss'], 'bo', label='Train loss')\n",
    "plt.plot(range(1, n_epochs+1), history_tuned.history['val_loss'], 'r-', label='Valid loss')\n",
    "plt.xlabel('Epochs', fontsize=14)\n",
    "plt.ylabel('Loss',  fontsize=14)\n",
    "plt.legend()\n",
    "plt.show()"
   ]
  },
  {
   "cell_type": "code",
   "execution_count": 57,
   "metadata": {},
   "outputs": [
    {
     "name": "stdout",
     "output_type": "stream",
     "text": [
      "loss_test --> 0.18077318370342255\n",
      "acc_test --> 0.9470000267028809\n"
     ]
    }
   ],
   "source": [
    "## evaluating on test set\n",
    "loss_test, acc_test = model_tuned.evaluate_generator(test_gen)\n",
    "print('loss_test -->', loss_test)\n",
    "print('acc_test -->', acc_test)"
   ]
  },
  {
   "cell_type": "code",
   "execution_count": 58,
   "metadata": {},
   "outputs": [],
   "source": [
    "## Save that Tuned Model\n",
    "model_tuned.save('vgg16_finetuned.h5')"
   ]
  },
  {
   "cell_type": "markdown",
   "metadata": {},
   "source": [
    "### Done!"
   ]
  }
 ],
 "metadata": {
  "accelerator": "GPU",
  "colab": {
   "collapsed_sections": [],
   "name": "06- Transfer Learning.ipynb",
   "provenance": []
  },
  "kernelspec": {
   "display_name": "Python 3 (ipykernel)",
   "language": "python",
   "name": "python3"
  },
  "language_info": {
   "codemirror_mode": {
    "name": "ipython",
    "version": 3
   },
   "file_extension": ".py",
   "mimetype": "text/x-python",
   "name": "python",
   "nbconvert_exporter": "python",
   "pygments_lexer": "ipython3",
   "version": "3.8.8"
  }
 },
 "nbformat": 4,
 "nbformat_minor": 1
}
